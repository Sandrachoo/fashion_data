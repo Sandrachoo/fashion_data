{
  "nbformat": 4,
  "nbformat_minor": 0,
  "metadata": {
    "colab": {
      "provenance": []
    },
    "kernelspec": {
      "name": "python3",
      "display_name": "Python 3"
    },
    "language_info": {
      "name": "python"
    },
    "widgets": {
      "application/vnd.jupyter.widget-state+json": {
        "3f69ed6900a7434c9cb741e5249c7f23": {
          "model_module": "@jupyter-widgets/controls",
          "model_name": "HBoxModel",
          "model_module_version": "1.5.0",
          "state": {
            "_dom_classes": [],
            "_model_module": "@jupyter-widgets/controls",
            "_model_module_version": "1.5.0",
            "_model_name": "HBoxModel",
            "_view_count": null,
            "_view_module": "@jupyter-widgets/controls",
            "_view_module_version": "1.5.0",
            "_view_name": "HBoxView",
            "box_style": "",
            "children": [
              "IPY_MODEL_188c9150cd624519aa9b10888c70c4dc",
              "IPY_MODEL_de6c9781b0e746fba2d0a96a1ee7c4b5",
              "IPY_MODEL_09466c8c68fb499d8356caac3445c158"
            ],
            "layout": "IPY_MODEL_1187c82a556744428a71f138dd90fa82"
          }
        },
        "188c9150cd624519aa9b10888c70c4dc": {
          "model_module": "@jupyter-widgets/controls",
          "model_name": "HTMLModel",
          "model_module_version": "1.5.0",
          "state": {
            "_dom_classes": [],
            "_model_module": "@jupyter-widgets/controls",
            "_model_module_version": "1.5.0",
            "_model_name": "HTMLModel",
            "_view_count": null,
            "_view_module": "@jupyter-widgets/controls",
            "_view_module_version": "1.5.0",
            "_view_name": "HTMLView",
            "description": "",
            "description_tooltip": null,
            "layout": "IPY_MODEL_f9f6e9934d984769a777b6435509c6f5",
            "placeholder": "​",
            "style": "IPY_MODEL_963ca1b101524ecc845ae8f46012a7af",
            "value": "Dl Completed...: 100%"
          }
        },
        "de6c9781b0e746fba2d0a96a1ee7c4b5": {
          "model_module": "@jupyter-widgets/controls",
          "model_name": "FloatProgressModel",
          "model_module_version": "1.5.0",
          "state": {
            "_dom_classes": [],
            "_model_module": "@jupyter-widgets/controls",
            "_model_module_version": "1.5.0",
            "_model_name": "FloatProgressModel",
            "_view_count": null,
            "_view_module": "@jupyter-widgets/controls",
            "_view_module_version": "1.5.0",
            "_view_name": "ProgressView",
            "bar_style": "success",
            "description": "",
            "description_tooltip": null,
            "layout": "IPY_MODEL_0203658b0a724ed0b55ca2060706535d",
            "max": 1,
            "min": 0,
            "orientation": "horizontal",
            "style": "IPY_MODEL_32b347d0daed4d00b1df573659ae0612",
            "value": 1
          }
        },
        "09466c8c68fb499d8356caac3445c158": {
          "model_module": "@jupyter-widgets/controls",
          "model_name": "HTMLModel",
          "model_module_version": "1.5.0",
          "state": {
            "_dom_classes": [],
            "_model_module": "@jupyter-widgets/controls",
            "_model_module_version": "1.5.0",
            "_model_name": "HTMLModel",
            "_view_count": null,
            "_view_module": "@jupyter-widgets/controls",
            "_view_module_version": "1.5.0",
            "_view_name": "HTMLView",
            "description": "",
            "description_tooltip": null,
            "layout": "IPY_MODEL_14482fc954f143129d76089966d4fad8",
            "placeholder": "​",
            "style": "IPY_MODEL_dbb5cf5669f04b568e26bef4a6352be0",
            "value": " 4/4 [00:04&lt;00:00,  1.77 url/s]"
          }
        },
        "1187c82a556744428a71f138dd90fa82": {
          "model_module": "@jupyter-widgets/base",
          "model_name": "LayoutModel",
          "model_module_version": "1.2.0",
          "state": {
            "_model_module": "@jupyter-widgets/base",
            "_model_module_version": "1.2.0",
            "_model_name": "LayoutModel",
            "_view_count": null,
            "_view_module": "@jupyter-widgets/base",
            "_view_module_version": "1.2.0",
            "_view_name": "LayoutView",
            "align_content": null,
            "align_items": null,
            "align_self": null,
            "border": null,
            "bottom": null,
            "display": null,
            "flex": null,
            "flex_flow": null,
            "grid_area": null,
            "grid_auto_columns": null,
            "grid_auto_flow": null,
            "grid_auto_rows": null,
            "grid_column": null,
            "grid_gap": null,
            "grid_row": null,
            "grid_template_areas": null,
            "grid_template_columns": null,
            "grid_template_rows": null,
            "height": null,
            "justify_content": null,
            "justify_items": null,
            "left": null,
            "margin": null,
            "max_height": null,
            "max_width": null,
            "min_height": null,
            "min_width": null,
            "object_fit": null,
            "object_position": null,
            "order": null,
            "overflow": null,
            "overflow_x": null,
            "overflow_y": null,
            "padding": null,
            "right": null,
            "top": null,
            "visibility": null,
            "width": null
          }
        },
        "f9f6e9934d984769a777b6435509c6f5": {
          "model_module": "@jupyter-widgets/base",
          "model_name": "LayoutModel",
          "model_module_version": "1.2.0",
          "state": {
            "_model_module": "@jupyter-widgets/base",
            "_model_module_version": "1.2.0",
            "_model_name": "LayoutModel",
            "_view_count": null,
            "_view_module": "@jupyter-widgets/base",
            "_view_module_version": "1.2.0",
            "_view_name": "LayoutView",
            "align_content": null,
            "align_items": null,
            "align_self": null,
            "border": null,
            "bottom": null,
            "display": null,
            "flex": null,
            "flex_flow": null,
            "grid_area": null,
            "grid_auto_columns": null,
            "grid_auto_flow": null,
            "grid_auto_rows": null,
            "grid_column": null,
            "grid_gap": null,
            "grid_row": null,
            "grid_template_areas": null,
            "grid_template_columns": null,
            "grid_template_rows": null,
            "height": null,
            "justify_content": null,
            "justify_items": null,
            "left": null,
            "margin": null,
            "max_height": null,
            "max_width": null,
            "min_height": null,
            "min_width": null,
            "object_fit": null,
            "object_position": null,
            "order": null,
            "overflow": null,
            "overflow_x": null,
            "overflow_y": null,
            "padding": null,
            "right": null,
            "top": null,
            "visibility": null,
            "width": null
          }
        },
        "963ca1b101524ecc845ae8f46012a7af": {
          "model_module": "@jupyter-widgets/controls",
          "model_name": "DescriptionStyleModel",
          "model_module_version": "1.5.0",
          "state": {
            "_model_module": "@jupyter-widgets/controls",
            "_model_module_version": "1.5.0",
            "_model_name": "DescriptionStyleModel",
            "_view_count": null,
            "_view_module": "@jupyter-widgets/base",
            "_view_module_version": "1.2.0",
            "_view_name": "StyleView",
            "description_width": ""
          }
        },
        "0203658b0a724ed0b55ca2060706535d": {
          "model_module": "@jupyter-widgets/base",
          "model_name": "LayoutModel",
          "model_module_version": "1.2.0",
          "state": {
            "_model_module": "@jupyter-widgets/base",
            "_model_module_version": "1.2.0",
            "_model_name": "LayoutModel",
            "_view_count": null,
            "_view_module": "@jupyter-widgets/base",
            "_view_module_version": "1.2.0",
            "_view_name": "LayoutView",
            "align_content": null,
            "align_items": null,
            "align_self": null,
            "border": null,
            "bottom": null,
            "display": null,
            "flex": null,
            "flex_flow": null,
            "grid_area": null,
            "grid_auto_columns": null,
            "grid_auto_flow": null,
            "grid_auto_rows": null,
            "grid_column": null,
            "grid_gap": null,
            "grid_row": null,
            "grid_template_areas": null,
            "grid_template_columns": null,
            "grid_template_rows": null,
            "height": null,
            "justify_content": null,
            "justify_items": null,
            "left": null,
            "margin": null,
            "max_height": null,
            "max_width": null,
            "min_height": null,
            "min_width": null,
            "object_fit": null,
            "object_position": null,
            "order": null,
            "overflow": null,
            "overflow_x": null,
            "overflow_y": null,
            "padding": null,
            "right": null,
            "top": null,
            "visibility": null,
            "width": "20px"
          }
        },
        "32b347d0daed4d00b1df573659ae0612": {
          "model_module": "@jupyter-widgets/controls",
          "model_name": "ProgressStyleModel",
          "model_module_version": "1.5.0",
          "state": {
            "_model_module": "@jupyter-widgets/controls",
            "_model_module_version": "1.5.0",
            "_model_name": "ProgressStyleModel",
            "_view_count": null,
            "_view_module": "@jupyter-widgets/base",
            "_view_module_version": "1.2.0",
            "_view_name": "StyleView",
            "bar_color": null,
            "description_width": ""
          }
        },
        "14482fc954f143129d76089966d4fad8": {
          "model_module": "@jupyter-widgets/base",
          "model_name": "LayoutModel",
          "model_module_version": "1.2.0",
          "state": {
            "_model_module": "@jupyter-widgets/base",
            "_model_module_version": "1.2.0",
            "_model_name": "LayoutModel",
            "_view_count": null,
            "_view_module": "@jupyter-widgets/base",
            "_view_module_version": "1.2.0",
            "_view_name": "LayoutView",
            "align_content": null,
            "align_items": null,
            "align_self": null,
            "border": null,
            "bottom": null,
            "display": null,
            "flex": null,
            "flex_flow": null,
            "grid_area": null,
            "grid_auto_columns": null,
            "grid_auto_flow": null,
            "grid_auto_rows": null,
            "grid_column": null,
            "grid_gap": null,
            "grid_row": null,
            "grid_template_areas": null,
            "grid_template_columns": null,
            "grid_template_rows": null,
            "height": null,
            "justify_content": null,
            "justify_items": null,
            "left": null,
            "margin": null,
            "max_height": null,
            "max_width": null,
            "min_height": null,
            "min_width": null,
            "object_fit": null,
            "object_position": null,
            "order": null,
            "overflow": null,
            "overflow_x": null,
            "overflow_y": null,
            "padding": null,
            "right": null,
            "top": null,
            "visibility": null,
            "width": null
          }
        },
        "dbb5cf5669f04b568e26bef4a6352be0": {
          "model_module": "@jupyter-widgets/controls",
          "model_name": "DescriptionStyleModel",
          "model_module_version": "1.5.0",
          "state": {
            "_model_module": "@jupyter-widgets/controls",
            "_model_module_version": "1.5.0",
            "_model_name": "DescriptionStyleModel",
            "_view_count": null,
            "_view_module": "@jupyter-widgets/base",
            "_view_module_version": "1.2.0",
            "_view_name": "StyleView",
            "description_width": ""
          }
        },
        "f3772469367941d085ff5ee12ffd2269": {
          "model_module": "@jupyter-widgets/controls",
          "model_name": "HBoxModel",
          "model_module_version": "1.5.0",
          "state": {
            "_dom_classes": [],
            "_model_module": "@jupyter-widgets/controls",
            "_model_module_version": "1.5.0",
            "_model_name": "HBoxModel",
            "_view_count": null,
            "_view_module": "@jupyter-widgets/controls",
            "_view_module_version": "1.5.0",
            "_view_name": "HBoxView",
            "box_style": "",
            "children": [
              "IPY_MODEL_0b6ad26880e24e07b9ac91b7778769d4",
              "IPY_MODEL_155944023adb43f0a3a21a79c285c5b1",
              "IPY_MODEL_14a338d009d14c3597de94174a57ab05"
            ],
            "layout": "IPY_MODEL_21ec7328cb6744be94a8b05cac998135"
          }
        },
        "0b6ad26880e24e07b9ac91b7778769d4": {
          "model_module": "@jupyter-widgets/controls",
          "model_name": "HTMLModel",
          "model_module_version": "1.5.0",
          "state": {
            "_dom_classes": [],
            "_model_module": "@jupyter-widgets/controls",
            "_model_module_version": "1.5.0",
            "_model_name": "HTMLModel",
            "_view_count": null,
            "_view_module": "@jupyter-widgets/controls",
            "_view_module_version": "1.5.0",
            "_view_name": "HTMLView",
            "description": "",
            "description_tooltip": null,
            "layout": "IPY_MODEL_e1c274eae18c46d88b76c02684fc261e",
            "placeholder": "​",
            "style": "IPY_MODEL_85e9c7c3dda94f89a191aae513be0a67",
            "value": "Dl Size...: 100%"
          }
        },
        "155944023adb43f0a3a21a79c285c5b1": {
          "model_module": "@jupyter-widgets/controls",
          "model_name": "FloatProgressModel",
          "model_module_version": "1.5.0",
          "state": {
            "_dom_classes": [],
            "_model_module": "@jupyter-widgets/controls",
            "_model_module_version": "1.5.0",
            "_model_name": "FloatProgressModel",
            "_view_count": null,
            "_view_module": "@jupyter-widgets/controls",
            "_view_module_version": "1.5.0",
            "_view_name": "ProgressView",
            "bar_style": "success",
            "description": "",
            "description_tooltip": null,
            "layout": "IPY_MODEL_3bf977ff18dc470c9dce87336b041e26",
            "max": 1,
            "min": 0,
            "orientation": "horizontal",
            "style": "IPY_MODEL_8803e5ec892d47f2bf4dd0c40e39d519",
            "value": 1
          }
        },
        "14a338d009d14c3597de94174a57ab05": {
          "model_module": "@jupyter-widgets/controls",
          "model_name": "HTMLModel",
          "model_module_version": "1.5.0",
          "state": {
            "_dom_classes": [],
            "_model_module": "@jupyter-widgets/controls",
            "_model_module_version": "1.5.0",
            "_model_name": "HTMLModel",
            "_view_count": null,
            "_view_module": "@jupyter-widgets/controls",
            "_view_module_version": "1.5.0",
            "_view_name": "HTMLView",
            "description": "",
            "description_tooltip": null,
            "layout": "IPY_MODEL_b002c2bd291349ef9d54fb480e4e3d50",
            "placeholder": "​",
            "style": "IPY_MODEL_4607ca0ba0a54d2d89e12d05b016eb01",
            "value": " 29/29 [00:04&lt;00:00,  8.25 MiB/s]"
          }
        },
        "21ec7328cb6744be94a8b05cac998135": {
          "model_module": "@jupyter-widgets/base",
          "model_name": "LayoutModel",
          "model_module_version": "1.2.0",
          "state": {
            "_model_module": "@jupyter-widgets/base",
            "_model_module_version": "1.2.0",
            "_model_name": "LayoutModel",
            "_view_count": null,
            "_view_module": "@jupyter-widgets/base",
            "_view_module_version": "1.2.0",
            "_view_name": "LayoutView",
            "align_content": null,
            "align_items": null,
            "align_self": null,
            "border": null,
            "bottom": null,
            "display": null,
            "flex": null,
            "flex_flow": null,
            "grid_area": null,
            "grid_auto_columns": null,
            "grid_auto_flow": null,
            "grid_auto_rows": null,
            "grid_column": null,
            "grid_gap": null,
            "grid_row": null,
            "grid_template_areas": null,
            "grid_template_columns": null,
            "grid_template_rows": null,
            "height": null,
            "justify_content": null,
            "justify_items": null,
            "left": null,
            "margin": null,
            "max_height": null,
            "max_width": null,
            "min_height": null,
            "min_width": null,
            "object_fit": null,
            "object_position": null,
            "order": null,
            "overflow": null,
            "overflow_x": null,
            "overflow_y": null,
            "padding": null,
            "right": null,
            "top": null,
            "visibility": null,
            "width": null
          }
        },
        "e1c274eae18c46d88b76c02684fc261e": {
          "model_module": "@jupyter-widgets/base",
          "model_name": "LayoutModel",
          "model_module_version": "1.2.0",
          "state": {
            "_model_module": "@jupyter-widgets/base",
            "_model_module_version": "1.2.0",
            "_model_name": "LayoutModel",
            "_view_count": null,
            "_view_module": "@jupyter-widgets/base",
            "_view_module_version": "1.2.0",
            "_view_name": "LayoutView",
            "align_content": null,
            "align_items": null,
            "align_self": null,
            "border": null,
            "bottom": null,
            "display": null,
            "flex": null,
            "flex_flow": null,
            "grid_area": null,
            "grid_auto_columns": null,
            "grid_auto_flow": null,
            "grid_auto_rows": null,
            "grid_column": null,
            "grid_gap": null,
            "grid_row": null,
            "grid_template_areas": null,
            "grid_template_columns": null,
            "grid_template_rows": null,
            "height": null,
            "justify_content": null,
            "justify_items": null,
            "left": null,
            "margin": null,
            "max_height": null,
            "max_width": null,
            "min_height": null,
            "min_width": null,
            "object_fit": null,
            "object_position": null,
            "order": null,
            "overflow": null,
            "overflow_x": null,
            "overflow_y": null,
            "padding": null,
            "right": null,
            "top": null,
            "visibility": null,
            "width": null
          }
        },
        "85e9c7c3dda94f89a191aae513be0a67": {
          "model_module": "@jupyter-widgets/controls",
          "model_name": "DescriptionStyleModel",
          "model_module_version": "1.5.0",
          "state": {
            "_model_module": "@jupyter-widgets/controls",
            "_model_module_version": "1.5.0",
            "_model_name": "DescriptionStyleModel",
            "_view_count": null,
            "_view_module": "@jupyter-widgets/base",
            "_view_module_version": "1.2.0",
            "_view_name": "StyleView",
            "description_width": ""
          }
        },
        "3bf977ff18dc470c9dce87336b041e26": {
          "model_module": "@jupyter-widgets/base",
          "model_name": "LayoutModel",
          "model_module_version": "1.2.0",
          "state": {
            "_model_module": "@jupyter-widgets/base",
            "_model_module_version": "1.2.0",
            "_model_name": "LayoutModel",
            "_view_count": null,
            "_view_module": "@jupyter-widgets/base",
            "_view_module_version": "1.2.0",
            "_view_name": "LayoutView",
            "align_content": null,
            "align_items": null,
            "align_self": null,
            "border": null,
            "bottom": null,
            "display": null,
            "flex": null,
            "flex_flow": null,
            "grid_area": null,
            "grid_auto_columns": null,
            "grid_auto_flow": null,
            "grid_auto_rows": null,
            "grid_column": null,
            "grid_gap": null,
            "grid_row": null,
            "grid_template_areas": null,
            "grid_template_columns": null,
            "grid_template_rows": null,
            "height": null,
            "justify_content": null,
            "justify_items": null,
            "left": null,
            "margin": null,
            "max_height": null,
            "max_width": null,
            "min_height": null,
            "min_width": null,
            "object_fit": null,
            "object_position": null,
            "order": null,
            "overflow": null,
            "overflow_x": null,
            "overflow_y": null,
            "padding": null,
            "right": null,
            "top": null,
            "visibility": null,
            "width": "20px"
          }
        },
        "8803e5ec892d47f2bf4dd0c40e39d519": {
          "model_module": "@jupyter-widgets/controls",
          "model_name": "ProgressStyleModel",
          "model_module_version": "1.5.0",
          "state": {
            "_model_module": "@jupyter-widgets/controls",
            "_model_module_version": "1.5.0",
            "_model_name": "ProgressStyleModel",
            "_view_count": null,
            "_view_module": "@jupyter-widgets/base",
            "_view_module_version": "1.2.0",
            "_view_name": "StyleView",
            "bar_color": null,
            "description_width": ""
          }
        },
        "b002c2bd291349ef9d54fb480e4e3d50": {
          "model_module": "@jupyter-widgets/base",
          "model_name": "LayoutModel",
          "model_module_version": "1.2.0",
          "state": {
            "_model_module": "@jupyter-widgets/base",
            "_model_module_version": "1.2.0",
            "_model_name": "LayoutModel",
            "_view_count": null,
            "_view_module": "@jupyter-widgets/base",
            "_view_module_version": "1.2.0",
            "_view_name": "LayoutView",
            "align_content": null,
            "align_items": null,
            "align_self": null,
            "border": null,
            "bottom": null,
            "display": null,
            "flex": null,
            "flex_flow": null,
            "grid_area": null,
            "grid_auto_columns": null,
            "grid_auto_flow": null,
            "grid_auto_rows": null,
            "grid_column": null,
            "grid_gap": null,
            "grid_row": null,
            "grid_template_areas": null,
            "grid_template_columns": null,
            "grid_template_rows": null,
            "height": null,
            "justify_content": null,
            "justify_items": null,
            "left": null,
            "margin": null,
            "max_height": null,
            "max_width": null,
            "min_height": null,
            "min_width": null,
            "object_fit": null,
            "object_position": null,
            "order": null,
            "overflow": null,
            "overflow_x": null,
            "overflow_y": null,
            "padding": null,
            "right": null,
            "top": null,
            "visibility": null,
            "width": null
          }
        },
        "4607ca0ba0a54d2d89e12d05b016eb01": {
          "model_module": "@jupyter-widgets/controls",
          "model_name": "DescriptionStyleModel",
          "model_module_version": "1.5.0",
          "state": {
            "_model_module": "@jupyter-widgets/controls",
            "_model_module_version": "1.5.0",
            "_model_name": "DescriptionStyleModel",
            "_view_count": null,
            "_view_module": "@jupyter-widgets/base",
            "_view_module_version": "1.2.0",
            "_view_name": "StyleView",
            "description_width": ""
          }
        },
        "b70e4f6ff14d403faebae32df68b8d05": {
          "model_module": "@jupyter-widgets/controls",
          "model_name": "HBoxModel",
          "model_module_version": "1.5.0",
          "state": {
            "_dom_classes": [],
            "_model_module": "@jupyter-widgets/controls",
            "_model_module_version": "1.5.0",
            "_model_name": "HBoxModel",
            "_view_count": null,
            "_view_module": "@jupyter-widgets/controls",
            "_view_module_version": "1.5.0",
            "_view_name": "HBoxView",
            "box_style": "",
            "children": [
              "IPY_MODEL_8937009e08e0425d9b5745ed5bd52509",
              "IPY_MODEL_0044cd42c63d4196815510b524438790",
              "IPY_MODEL_f231066727e74b618465222a9c7c9291"
            ],
            "layout": "IPY_MODEL_98d76072447043fdb1ec4b387a550f6f"
          }
        },
        "8937009e08e0425d9b5745ed5bd52509": {
          "model_module": "@jupyter-widgets/controls",
          "model_name": "HTMLModel",
          "model_module_version": "1.5.0",
          "state": {
            "_dom_classes": [],
            "_model_module": "@jupyter-widgets/controls",
            "_model_module_version": "1.5.0",
            "_model_name": "HTMLModel",
            "_view_count": null,
            "_view_module": "@jupyter-widgets/controls",
            "_view_module_version": "1.5.0",
            "_view_name": "HTMLView",
            "description": "",
            "description_tooltip": null,
            "layout": "IPY_MODEL_47bc7bc9680443d69f912c1247c05635",
            "placeholder": "​",
            "style": "IPY_MODEL_e575c596863b402ca09a04d27020ae96",
            "value": "Extraction completed...: 100%"
          }
        },
        "0044cd42c63d4196815510b524438790": {
          "model_module": "@jupyter-widgets/controls",
          "model_name": "FloatProgressModel",
          "model_module_version": "1.5.0",
          "state": {
            "_dom_classes": [],
            "_model_module": "@jupyter-widgets/controls",
            "_model_module_version": "1.5.0",
            "_model_name": "FloatProgressModel",
            "_view_count": null,
            "_view_module": "@jupyter-widgets/controls",
            "_view_module_version": "1.5.0",
            "_view_name": "ProgressView",
            "bar_style": "success",
            "description": "",
            "description_tooltip": null,
            "layout": "IPY_MODEL_fe10f315dc5b49e8a2987dedf75bccbe",
            "max": 1,
            "min": 0,
            "orientation": "horizontal",
            "style": "IPY_MODEL_8933ed70a40a48528f2b261d516574c4",
            "value": 1
          }
        },
        "f231066727e74b618465222a9c7c9291": {
          "model_module": "@jupyter-widgets/controls",
          "model_name": "HTMLModel",
          "model_module_version": "1.5.0",
          "state": {
            "_dom_classes": [],
            "_model_module": "@jupyter-widgets/controls",
            "_model_module_version": "1.5.0",
            "_model_name": "HTMLModel",
            "_view_count": null,
            "_view_module": "@jupyter-widgets/controls",
            "_view_module_version": "1.5.0",
            "_view_name": "HTMLView",
            "description": "",
            "description_tooltip": null,
            "layout": "IPY_MODEL_1091c7df095a4dad9f6111bd2ab46af0",
            "placeholder": "​",
            "style": "IPY_MODEL_34c6b0a03f87440a872e9f25a665ba5c",
            "value": " 4/4 [00:04&lt;00:00,  1.48 file/s]"
          }
        },
        "98d76072447043fdb1ec4b387a550f6f": {
          "model_module": "@jupyter-widgets/base",
          "model_name": "LayoutModel",
          "model_module_version": "1.2.0",
          "state": {
            "_model_module": "@jupyter-widgets/base",
            "_model_module_version": "1.2.0",
            "_model_name": "LayoutModel",
            "_view_count": null,
            "_view_module": "@jupyter-widgets/base",
            "_view_module_version": "1.2.0",
            "_view_name": "LayoutView",
            "align_content": null,
            "align_items": null,
            "align_self": null,
            "border": null,
            "bottom": null,
            "display": null,
            "flex": null,
            "flex_flow": null,
            "grid_area": null,
            "grid_auto_columns": null,
            "grid_auto_flow": null,
            "grid_auto_rows": null,
            "grid_column": null,
            "grid_gap": null,
            "grid_row": null,
            "grid_template_areas": null,
            "grid_template_columns": null,
            "grid_template_rows": null,
            "height": null,
            "justify_content": null,
            "justify_items": null,
            "left": null,
            "margin": null,
            "max_height": null,
            "max_width": null,
            "min_height": null,
            "min_width": null,
            "object_fit": null,
            "object_position": null,
            "order": null,
            "overflow": null,
            "overflow_x": null,
            "overflow_y": null,
            "padding": null,
            "right": null,
            "top": null,
            "visibility": null,
            "width": null
          }
        },
        "47bc7bc9680443d69f912c1247c05635": {
          "model_module": "@jupyter-widgets/base",
          "model_name": "LayoutModel",
          "model_module_version": "1.2.0",
          "state": {
            "_model_module": "@jupyter-widgets/base",
            "_model_module_version": "1.2.0",
            "_model_name": "LayoutModel",
            "_view_count": null,
            "_view_module": "@jupyter-widgets/base",
            "_view_module_version": "1.2.0",
            "_view_name": "LayoutView",
            "align_content": null,
            "align_items": null,
            "align_self": null,
            "border": null,
            "bottom": null,
            "display": null,
            "flex": null,
            "flex_flow": null,
            "grid_area": null,
            "grid_auto_columns": null,
            "grid_auto_flow": null,
            "grid_auto_rows": null,
            "grid_column": null,
            "grid_gap": null,
            "grid_row": null,
            "grid_template_areas": null,
            "grid_template_columns": null,
            "grid_template_rows": null,
            "height": null,
            "justify_content": null,
            "justify_items": null,
            "left": null,
            "margin": null,
            "max_height": null,
            "max_width": null,
            "min_height": null,
            "min_width": null,
            "object_fit": null,
            "object_position": null,
            "order": null,
            "overflow": null,
            "overflow_x": null,
            "overflow_y": null,
            "padding": null,
            "right": null,
            "top": null,
            "visibility": null,
            "width": null
          }
        },
        "e575c596863b402ca09a04d27020ae96": {
          "model_module": "@jupyter-widgets/controls",
          "model_name": "DescriptionStyleModel",
          "model_module_version": "1.5.0",
          "state": {
            "_model_module": "@jupyter-widgets/controls",
            "_model_module_version": "1.5.0",
            "_model_name": "DescriptionStyleModel",
            "_view_count": null,
            "_view_module": "@jupyter-widgets/base",
            "_view_module_version": "1.2.0",
            "_view_name": "StyleView",
            "description_width": ""
          }
        },
        "fe10f315dc5b49e8a2987dedf75bccbe": {
          "model_module": "@jupyter-widgets/base",
          "model_name": "LayoutModel",
          "model_module_version": "1.2.0",
          "state": {
            "_model_module": "@jupyter-widgets/base",
            "_model_module_version": "1.2.0",
            "_model_name": "LayoutModel",
            "_view_count": null,
            "_view_module": "@jupyter-widgets/base",
            "_view_module_version": "1.2.0",
            "_view_name": "LayoutView",
            "align_content": null,
            "align_items": null,
            "align_self": null,
            "border": null,
            "bottom": null,
            "display": null,
            "flex": null,
            "flex_flow": null,
            "grid_area": null,
            "grid_auto_columns": null,
            "grid_auto_flow": null,
            "grid_auto_rows": null,
            "grid_column": null,
            "grid_gap": null,
            "grid_row": null,
            "grid_template_areas": null,
            "grid_template_columns": null,
            "grid_template_rows": null,
            "height": null,
            "justify_content": null,
            "justify_items": null,
            "left": null,
            "margin": null,
            "max_height": null,
            "max_width": null,
            "min_height": null,
            "min_width": null,
            "object_fit": null,
            "object_position": null,
            "order": null,
            "overflow": null,
            "overflow_x": null,
            "overflow_y": null,
            "padding": null,
            "right": null,
            "top": null,
            "visibility": null,
            "width": "20px"
          }
        },
        "8933ed70a40a48528f2b261d516574c4": {
          "model_module": "@jupyter-widgets/controls",
          "model_name": "ProgressStyleModel",
          "model_module_version": "1.5.0",
          "state": {
            "_model_module": "@jupyter-widgets/controls",
            "_model_module_version": "1.5.0",
            "_model_name": "ProgressStyleModel",
            "_view_count": null,
            "_view_module": "@jupyter-widgets/base",
            "_view_module_version": "1.2.0",
            "_view_name": "StyleView",
            "bar_color": null,
            "description_width": ""
          }
        },
        "1091c7df095a4dad9f6111bd2ab46af0": {
          "model_module": "@jupyter-widgets/base",
          "model_name": "LayoutModel",
          "model_module_version": "1.2.0",
          "state": {
            "_model_module": "@jupyter-widgets/base",
            "_model_module_version": "1.2.0",
            "_model_name": "LayoutModel",
            "_view_count": null,
            "_view_module": "@jupyter-widgets/base",
            "_view_module_version": "1.2.0",
            "_view_name": "LayoutView",
            "align_content": null,
            "align_items": null,
            "align_self": null,
            "border": null,
            "bottom": null,
            "display": null,
            "flex": null,
            "flex_flow": null,
            "grid_area": null,
            "grid_auto_columns": null,
            "grid_auto_flow": null,
            "grid_auto_rows": null,
            "grid_column": null,
            "grid_gap": null,
            "grid_row": null,
            "grid_template_areas": null,
            "grid_template_columns": null,
            "grid_template_rows": null,
            "height": null,
            "justify_content": null,
            "justify_items": null,
            "left": null,
            "margin": null,
            "max_height": null,
            "max_width": null,
            "min_height": null,
            "min_width": null,
            "object_fit": null,
            "object_position": null,
            "order": null,
            "overflow": null,
            "overflow_x": null,
            "overflow_y": null,
            "padding": null,
            "right": null,
            "top": null,
            "visibility": null,
            "width": null
          }
        },
        "34c6b0a03f87440a872e9f25a665ba5c": {
          "model_module": "@jupyter-widgets/controls",
          "model_name": "DescriptionStyleModel",
          "model_module_version": "1.5.0",
          "state": {
            "_model_module": "@jupyter-widgets/controls",
            "_model_module_version": "1.5.0",
            "_model_name": "DescriptionStyleModel",
            "_view_count": null,
            "_view_module": "@jupyter-widgets/base",
            "_view_module_version": "1.2.0",
            "_view_name": "StyleView",
            "description_width": ""
          }
        },
        "c58b0bb5c3924c92a1ee3b80898b3325": {
          "model_module": "@jupyter-widgets/controls",
          "model_name": "HBoxModel",
          "model_module_version": "1.5.0",
          "state": {
            "_dom_classes": [],
            "_model_module": "@jupyter-widgets/controls",
            "_model_module_version": "1.5.0",
            "_model_name": "HBoxModel",
            "_view_count": null,
            "_view_module": "@jupyter-widgets/controls",
            "_view_module_version": "1.5.0",
            "_view_name": "HBoxView",
            "box_style": "",
            "children": [
              "IPY_MODEL_dcb17dbbf333402fa8a9bb06eace8ef0",
              "IPY_MODEL_3f872224e8444d828ddd0699575e36d4",
              "IPY_MODEL_8d6929bbbd37427d932ff873b3f2ed8e"
            ],
            "layout": "IPY_MODEL_c77e61efff524796aef148b069b3c154"
          }
        },
        "dcb17dbbf333402fa8a9bb06eace8ef0": {
          "model_module": "@jupyter-widgets/controls",
          "model_name": "HTMLModel",
          "model_module_version": "1.5.0",
          "state": {
            "_dom_classes": [],
            "_model_module": "@jupyter-widgets/controls",
            "_model_module_version": "1.5.0",
            "_model_name": "HTMLModel",
            "_view_count": null,
            "_view_module": "@jupyter-widgets/controls",
            "_view_module_version": "1.5.0",
            "_view_name": "HTMLView",
            "description": "",
            "description_tooltip": null,
            "layout": "IPY_MODEL_36c3b75fd976463aa23af2add3bdd858",
            "placeholder": "​",
            "style": "IPY_MODEL_c0236dfcf9f14ae88a76b78f35af4e02",
            "value": "Generating splits...: 100%"
          }
        },
        "3f872224e8444d828ddd0699575e36d4": {
          "model_module": "@jupyter-widgets/controls",
          "model_name": "FloatProgressModel",
          "model_module_version": "1.5.0",
          "state": {
            "_dom_classes": [],
            "_model_module": "@jupyter-widgets/controls",
            "_model_module_version": "1.5.0",
            "_model_name": "FloatProgressModel",
            "_view_count": null,
            "_view_module": "@jupyter-widgets/controls",
            "_view_module_version": "1.5.0",
            "_view_name": "ProgressView",
            "bar_style": "",
            "description": "",
            "description_tooltip": null,
            "layout": "IPY_MODEL_166f2b1067544733a194c99fc86eb0c0",
            "max": 2,
            "min": 0,
            "orientation": "horizontal",
            "style": "IPY_MODEL_5ca8258af00143b58a64879911439415",
            "value": 2
          }
        },
        "8d6929bbbd37427d932ff873b3f2ed8e": {
          "model_module": "@jupyter-widgets/controls",
          "model_name": "HTMLModel",
          "model_module_version": "1.5.0",
          "state": {
            "_dom_classes": [],
            "_model_module": "@jupyter-widgets/controls",
            "_model_module_version": "1.5.0",
            "_model_name": "HTMLModel",
            "_view_count": null,
            "_view_module": "@jupyter-widgets/controls",
            "_view_module_version": "1.5.0",
            "_view_name": "HTMLView",
            "description": "",
            "description_tooltip": null,
            "layout": "IPY_MODEL_e5d211e2d6c744ab86ddb1fc4e8fd553",
            "placeholder": "​",
            "style": "IPY_MODEL_f4ad3dc16bd54941af3aec5ecadb6d2f",
            "value": " 2/2 [00:37&lt;00:00, 16.20s/ splits]"
          }
        },
        "c77e61efff524796aef148b069b3c154": {
          "model_module": "@jupyter-widgets/base",
          "model_name": "LayoutModel",
          "model_module_version": "1.2.0",
          "state": {
            "_model_module": "@jupyter-widgets/base",
            "_model_module_version": "1.2.0",
            "_model_name": "LayoutModel",
            "_view_count": null,
            "_view_module": "@jupyter-widgets/base",
            "_view_module_version": "1.2.0",
            "_view_name": "LayoutView",
            "align_content": null,
            "align_items": null,
            "align_self": null,
            "border": null,
            "bottom": null,
            "display": null,
            "flex": null,
            "flex_flow": null,
            "grid_area": null,
            "grid_auto_columns": null,
            "grid_auto_flow": null,
            "grid_auto_rows": null,
            "grid_column": null,
            "grid_gap": null,
            "grid_row": null,
            "grid_template_areas": null,
            "grid_template_columns": null,
            "grid_template_rows": null,
            "height": null,
            "justify_content": null,
            "justify_items": null,
            "left": null,
            "margin": null,
            "max_height": null,
            "max_width": null,
            "min_height": null,
            "min_width": null,
            "object_fit": null,
            "object_position": null,
            "order": null,
            "overflow": null,
            "overflow_x": null,
            "overflow_y": null,
            "padding": null,
            "right": null,
            "top": null,
            "visibility": "hidden",
            "width": null
          }
        },
        "36c3b75fd976463aa23af2add3bdd858": {
          "model_module": "@jupyter-widgets/base",
          "model_name": "LayoutModel",
          "model_module_version": "1.2.0",
          "state": {
            "_model_module": "@jupyter-widgets/base",
            "_model_module_version": "1.2.0",
            "_model_name": "LayoutModel",
            "_view_count": null,
            "_view_module": "@jupyter-widgets/base",
            "_view_module_version": "1.2.0",
            "_view_name": "LayoutView",
            "align_content": null,
            "align_items": null,
            "align_self": null,
            "border": null,
            "bottom": null,
            "display": null,
            "flex": null,
            "flex_flow": null,
            "grid_area": null,
            "grid_auto_columns": null,
            "grid_auto_flow": null,
            "grid_auto_rows": null,
            "grid_column": null,
            "grid_gap": null,
            "grid_row": null,
            "grid_template_areas": null,
            "grid_template_columns": null,
            "grid_template_rows": null,
            "height": null,
            "justify_content": null,
            "justify_items": null,
            "left": null,
            "margin": null,
            "max_height": null,
            "max_width": null,
            "min_height": null,
            "min_width": null,
            "object_fit": null,
            "object_position": null,
            "order": null,
            "overflow": null,
            "overflow_x": null,
            "overflow_y": null,
            "padding": null,
            "right": null,
            "top": null,
            "visibility": null,
            "width": null
          }
        },
        "c0236dfcf9f14ae88a76b78f35af4e02": {
          "model_module": "@jupyter-widgets/controls",
          "model_name": "DescriptionStyleModel",
          "model_module_version": "1.5.0",
          "state": {
            "_model_module": "@jupyter-widgets/controls",
            "_model_module_version": "1.5.0",
            "_model_name": "DescriptionStyleModel",
            "_view_count": null,
            "_view_module": "@jupyter-widgets/base",
            "_view_module_version": "1.2.0",
            "_view_name": "StyleView",
            "description_width": ""
          }
        },
        "166f2b1067544733a194c99fc86eb0c0": {
          "model_module": "@jupyter-widgets/base",
          "model_name": "LayoutModel",
          "model_module_version": "1.2.0",
          "state": {
            "_model_module": "@jupyter-widgets/base",
            "_model_module_version": "1.2.0",
            "_model_name": "LayoutModel",
            "_view_count": null,
            "_view_module": "@jupyter-widgets/base",
            "_view_module_version": "1.2.0",
            "_view_name": "LayoutView",
            "align_content": null,
            "align_items": null,
            "align_self": null,
            "border": null,
            "bottom": null,
            "display": null,
            "flex": null,
            "flex_flow": null,
            "grid_area": null,
            "grid_auto_columns": null,
            "grid_auto_flow": null,
            "grid_auto_rows": null,
            "grid_column": null,
            "grid_gap": null,
            "grid_row": null,
            "grid_template_areas": null,
            "grid_template_columns": null,
            "grid_template_rows": null,
            "height": null,
            "justify_content": null,
            "justify_items": null,
            "left": null,
            "margin": null,
            "max_height": null,
            "max_width": null,
            "min_height": null,
            "min_width": null,
            "object_fit": null,
            "object_position": null,
            "order": null,
            "overflow": null,
            "overflow_x": null,
            "overflow_y": null,
            "padding": null,
            "right": null,
            "top": null,
            "visibility": null,
            "width": null
          }
        },
        "5ca8258af00143b58a64879911439415": {
          "model_module": "@jupyter-widgets/controls",
          "model_name": "ProgressStyleModel",
          "model_module_version": "1.5.0",
          "state": {
            "_model_module": "@jupyter-widgets/controls",
            "_model_module_version": "1.5.0",
            "_model_name": "ProgressStyleModel",
            "_view_count": null,
            "_view_module": "@jupyter-widgets/base",
            "_view_module_version": "1.2.0",
            "_view_name": "StyleView",
            "bar_color": null,
            "description_width": ""
          }
        },
        "e5d211e2d6c744ab86ddb1fc4e8fd553": {
          "model_module": "@jupyter-widgets/base",
          "model_name": "LayoutModel",
          "model_module_version": "1.2.0",
          "state": {
            "_model_module": "@jupyter-widgets/base",
            "_model_module_version": "1.2.0",
            "_model_name": "LayoutModel",
            "_view_count": null,
            "_view_module": "@jupyter-widgets/base",
            "_view_module_version": "1.2.0",
            "_view_name": "LayoutView",
            "align_content": null,
            "align_items": null,
            "align_self": null,
            "border": null,
            "bottom": null,
            "display": null,
            "flex": null,
            "flex_flow": null,
            "grid_area": null,
            "grid_auto_columns": null,
            "grid_auto_flow": null,
            "grid_auto_rows": null,
            "grid_column": null,
            "grid_gap": null,
            "grid_row": null,
            "grid_template_areas": null,
            "grid_template_columns": null,
            "grid_template_rows": null,
            "height": null,
            "justify_content": null,
            "justify_items": null,
            "left": null,
            "margin": null,
            "max_height": null,
            "max_width": null,
            "min_height": null,
            "min_width": null,
            "object_fit": null,
            "object_position": null,
            "order": null,
            "overflow": null,
            "overflow_x": null,
            "overflow_y": null,
            "padding": null,
            "right": null,
            "top": null,
            "visibility": null,
            "width": null
          }
        },
        "f4ad3dc16bd54941af3aec5ecadb6d2f": {
          "model_module": "@jupyter-widgets/controls",
          "model_name": "DescriptionStyleModel",
          "model_module_version": "1.5.0",
          "state": {
            "_model_module": "@jupyter-widgets/controls",
            "_model_module_version": "1.5.0",
            "_model_name": "DescriptionStyleModel",
            "_view_count": null,
            "_view_module": "@jupyter-widgets/base",
            "_view_module_version": "1.2.0",
            "_view_name": "StyleView",
            "description_width": ""
          }
        },
        "952fd96913714a8eb0b317a7faaccff2": {
          "model_module": "@jupyter-widgets/controls",
          "model_name": "HBoxModel",
          "model_module_version": "1.5.0",
          "state": {
            "_dom_classes": [],
            "_model_module": "@jupyter-widgets/controls",
            "_model_module_version": "1.5.0",
            "_model_name": "HBoxModel",
            "_view_count": null,
            "_view_module": "@jupyter-widgets/controls",
            "_view_module_version": "1.5.0",
            "_view_name": "HBoxView",
            "box_style": "",
            "children": [
              "IPY_MODEL_70beac885d0e4f469cd927b3fe490289",
              "IPY_MODEL_c1fc048d08a14d56af5ad1128afea8f5",
              "IPY_MODEL_1f3a3aa23ba24704a5aaef8c9367b5b7"
            ],
            "layout": "IPY_MODEL_3dc0556119094ae693b0eeda8c4092b6"
          }
        },
        "70beac885d0e4f469cd927b3fe490289": {
          "model_module": "@jupyter-widgets/controls",
          "model_name": "HTMLModel",
          "model_module_version": "1.5.0",
          "state": {
            "_dom_classes": [],
            "_model_module": "@jupyter-widgets/controls",
            "_model_module_version": "1.5.0",
            "_model_name": "HTMLModel",
            "_view_count": null,
            "_view_module": "@jupyter-widgets/controls",
            "_view_module_version": "1.5.0",
            "_view_name": "HTMLView",
            "description": "",
            "description_tooltip": null,
            "layout": "IPY_MODEL_8dbac22c2492451a8f8771a606d77191",
            "placeholder": "​",
            "style": "IPY_MODEL_1963b141e42a409385c8fb98eaac040b",
            "value": "Generating train examples...:  96%"
          }
        },
        "c1fc048d08a14d56af5ad1128afea8f5": {
          "model_module": "@jupyter-widgets/controls",
          "model_name": "FloatProgressModel",
          "model_module_version": "1.5.0",
          "state": {
            "_dom_classes": [],
            "_model_module": "@jupyter-widgets/controls",
            "_model_module_version": "1.5.0",
            "_model_name": "FloatProgressModel",
            "_view_count": null,
            "_view_module": "@jupyter-widgets/controls",
            "_view_module_version": "1.5.0",
            "_view_name": "ProgressView",
            "bar_style": "",
            "description": "",
            "description_tooltip": null,
            "layout": "IPY_MODEL_9e7556fab86045e8b473ee52be48efbf",
            "max": 60000,
            "min": 0,
            "orientation": "horizontal",
            "style": "IPY_MODEL_25aa19dbbdac46a1a989043715b2d319",
            "value": 60000
          }
        },
        "1f3a3aa23ba24704a5aaef8c9367b5b7": {
          "model_module": "@jupyter-widgets/controls",
          "model_name": "HTMLModel",
          "model_module_version": "1.5.0",
          "state": {
            "_dom_classes": [],
            "_model_module": "@jupyter-widgets/controls",
            "_model_module_version": "1.5.0",
            "_model_name": "HTMLModel",
            "_view_count": null,
            "_view_module": "@jupyter-widgets/controls",
            "_view_module_version": "1.5.0",
            "_view_name": "HTMLView",
            "description": "",
            "description_tooltip": null,
            "layout": "IPY_MODEL_713ba1518cf346a1acf54607586e4b88",
            "placeholder": "​",
            "style": "IPY_MODEL_a7e435af9018459a8b94434f843f7eaa",
            "value": " 57577/60000 [00:32&lt;00:01, 2143.91 examples/s]"
          }
        },
        "3dc0556119094ae693b0eeda8c4092b6": {
          "model_module": "@jupyter-widgets/base",
          "model_name": "LayoutModel",
          "model_module_version": "1.2.0",
          "state": {
            "_model_module": "@jupyter-widgets/base",
            "_model_module_version": "1.2.0",
            "_model_name": "LayoutModel",
            "_view_count": null,
            "_view_module": "@jupyter-widgets/base",
            "_view_module_version": "1.2.0",
            "_view_name": "LayoutView",
            "align_content": null,
            "align_items": null,
            "align_self": null,
            "border": null,
            "bottom": null,
            "display": null,
            "flex": null,
            "flex_flow": null,
            "grid_area": null,
            "grid_auto_columns": null,
            "grid_auto_flow": null,
            "grid_auto_rows": null,
            "grid_column": null,
            "grid_gap": null,
            "grid_row": null,
            "grid_template_areas": null,
            "grid_template_columns": null,
            "grid_template_rows": null,
            "height": null,
            "justify_content": null,
            "justify_items": null,
            "left": null,
            "margin": null,
            "max_height": null,
            "max_width": null,
            "min_height": null,
            "min_width": null,
            "object_fit": null,
            "object_position": null,
            "order": null,
            "overflow": null,
            "overflow_x": null,
            "overflow_y": null,
            "padding": null,
            "right": null,
            "top": null,
            "visibility": "hidden",
            "width": null
          }
        },
        "8dbac22c2492451a8f8771a606d77191": {
          "model_module": "@jupyter-widgets/base",
          "model_name": "LayoutModel",
          "model_module_version": "1.2.0",
          "state": {
            "_model_module": "@jupyter-widgets/base",
            "_model_module_version": "1.2.0",
            "_model_name": "LayoutModel",
            "_view_count": null,
            "_view_module": "@jupyter-widgets/base",
            "_view_module_version": "1.2.0",
            "_view_name": "LayoutView",
            "align_content": null,
            "align_items": null,
            "align_self": null,
            "border": null,
            "bottom": null,
            "display": null,
            "flex": null,
            "flex_flow": null,
            "grid_area": null,
            "grid_auto_columns": null,
            "grid_auto_flow": null,
            "grid_auto_rows": null,
            "grid_column": null,
            "grid_gap": null,
            "grid_row": null,
            "grid_template_areas": null,
            "grid_template_columns": null,
            "grid_template_rows": null,
            "height": null,
            "justify_content": null,
            "justify_items": null,
            "left": null,
            "margin": null,
            "max_height": null,
            "max_width": null,
            "min_height": null,
            "min_width": null,
            "object_fit": null,
            "object_position": null,
            "order": null,
            "overflow": null,
            "overflow_x": null,
            "overflow_y": null,
            "padding": null,
            "right": null,
            "top": null,
            "visibility": null,
            "width": null
          }
        },
        "1963b141e42a409385c8fb98eaac040b": {
          "model_module": "@jupyter-widgets/controls",
          "model_name": "DescriptionStyleModel",
          "model_module_version": "1.5.0",
          "state": {
            "_model_module": "@jupyter-widgets/controls",
            "_model_module_version": "1.5.0",
            "_model_name": "DescriptionStyleModel",
            "_view_count": null,
            "_view_module": "@jupyter-widgets/base",
            "_view_module_version": "1.2.0",
            "_view_name": "StyleView",
            "description_width": ""
          }
        },
        "9e7556fab86045e8b473ee52be48efbf": {
          "model_module": "@jupyter-widgets/base",
          "model_name": "LayoutModel",
          "model_module_version": "1.2.0",
          "state": {
            "_model_module": "@jupyter-widgets/base",
            "_model_module_version": "1.2.0",
            "_model_name": "LayoutModel",
            "_view_count": null,
            "_view_module": "@jupyter-widgets/base",
            "_view_module_version": "1.2.0",
            "_view_name": "LayoutView",
            "align_content": null,
            "align_items": null,
            "align_self": null,
            "border": null,
            "bottom": null,
            "display": null,
            "flex": null,
            "flex_flow": null,
            "grid_area": null,
            "grid_auto_columns": null,
            "grid_auto_flow": null,
            "grid_auto_rows": null,
            "grid_column": null,
            "grid_gap": null,
            "grid_row": null,
            "grid_template_areas": null,
            "grid_template_columns": null,
            "grid_template_rows": null,
            "height": null,
            "justify_content": null,
            "justify_items": null,
            "left": null,
            "margin": null,
            "max_height": null,
            "max_width": null,
            "min_height": null,
            "min_width": null,
            "object_fit": null,
            "object_position": null,
            "order": null,
            "overflow": null,
            "overflow_x": null,
            "overflow_y": null,
            "padding": null,
            "right": null,
            "top": null,
            "visibility": null,
            "width": null
          }
        },
        "25aa19dbbdac46a1a989043715b2d319": {
          "model_module": "@jupyter-widgets/controls",
          "model_name": "ProgressStyleModel",
          "model_module_version": "1.5.0",
          "state": {
            "_model_module": "@jupyter-widgets/controls",
            "_model_module_version": "1.5.0",
            "_model_name": "ProgressStyleModel",
            "_view_count": null,
            "_view_module": "@jupyter-widgets/base",
            "_view_module_version": "1.2.0",
            "_view_name": "StyleView",
            "bar_color": null,
            "description_width": ""
          }
        },
        "713ba1518cf346a1acf54607586e4b88": {
          "model_module": "@jupyter-widgets/base",
          "model_name": "LayoutModel",
          "model_module_version": "1.2.0",
          "state": {
            "_model_module": "@jupyter-widgets/base",
            "_model_module_version": "1.2.0",
            "_model_name": "LayoutModel",
            "_view_count": null,
            "_view_module": "@jupyter-widgets/base",
            "_view_module_version": "1.2.0",
            "_view_name": "LayoutView",
            "align_content": null,
            "align_items": null,
            "align_self": null,
            "border": null,
            "bottom": null,
            "display": null,
            "flex": null,
            "flex_flow": null,
            "grid_area": null,
            "grid_auto_columns": null,
            "grid_auto_flow": null,
            "grid_auto_rows": null,
            "grid_column": null,
            "grid_gap": null,
            "grid_row": null,
            "grid_template_areas": null,
            "grid_template_columns": null,
            "grid_template_rows": null,
            "height": null,
            "justify_content": null,
            "justify_items": null,
            "left": null,
            "margin": null,
            "max_height": null,
            "max_width": null,
            "min_height": null,
            "min_width": null,
            "object_fit": null,
            "object_position": null,
            "order": null,
            "overflow": null,
            "overflow_x": null,
            "overflow_y": null,
            "padding": null,
            "right": null,
            "top": null,
            "visibility": null,
            "width": null
          }
        },
        "a7e435af9018459a8b94434f843f7eaa": {
          "model_module": "@jupyter-widgets/controls",
          "model_name": "DescriptionStyleModel",
          "model_module_version": "1.5.0",
          "state": {
            "_model_module": "@jupyter-widgets/controls",
            "_model_module_version": "1.5.0",
            "_model_name": "DescriptionStyleModel",
            "_view_count": null,
            "_view_module": "@jupyter-widgets/base",
            "_view_module_version": "1.2.0",
            "_view_name": "StyleView",
            "description_width": ""
          }
        },
        "5165a1680f4543ff8db63a6e1a3d492f": {
          "model_module": "@jupyter-widgets/controls",
          "model_name": "HBoxModel",
          "model_module_version": "1.5.0",
          "state": {
            "_dom_classes": [],
            "_model_module": "@jupyter-widgets/controls",
            "_model_module_version": "1.5.0",
            "_model_name": "HBoxModel",
            "_view_count": null,
            "_view_module": "@jupyter-widgets/controls",
            "_view_module_version": "1.5.0",
            "_view_name": "HBoxView",
            "box_style": "",
            "children": [
              "IPY_MODEL_8a0d0997d8c54c33911c51f30aa7fdf9",
              "IPY_MODEL_3002de5ba20f49fe8fb0311e03d01ea9",
              "IPY_MODEL_3a9d767bc6f7435cabf74cfd7e7cea5b"
            ],
            "layout": "IPY_MODEL_2df20dcc55244ef592e5f54e171b87df"
          }
        },
        "8a0d0997d8c54c33911c51f30aa7fdf9": {
          "model_module": "@jupyter-widgets/controls",
          "model_name": "HTMLModel",
          "model_module_version": "1.5.0",
          "state": {
            "_dom_classes": [],
            "_model_module": "@jupyter-widgets/controls",
            "_model_module_version": "1.5.0",
            "_model_name": "HTMLModel",
            "_view_count": null,
            "_view_module": "@jupyter-widgets/controls",
            "_view_module_version": "1.5.0",
            "_view_name": "HTMLView",
            "description": "",
            "description_tooltip": null,
            "layout": "IPY_MODEL_1410127d86eb4a3689c21b63f81e1d35",
            "placeholder": "​",
            "style": "IPY_MODEL_a690c3140a914072b6503a488701d86f",
            "value": "Shuffling /root/tensorflow_datasets/fashion_mnist/incomplete.2XZQO8_3.0.1/fashion_mnist-train.tfrecord*...:   0%"
          }
        },
        "3002de5ba20f49fe8fb0311e03d01ea9": {
          "model_module": "@jupyter-widgets/controls",
          "model_name": "FloatProgressModel",
          "model_module_version": "1.5.0",
          "state": {
            "_dom_classes": [],
            "_model_module": "@jupyter-widgets/controls",
            "_model_module_version": "1.5.0",
            "_model_name": "FloatProgressModel",
            "_view_count": null,
            "_view_module": "@jupyter-widgets/controls",
            "_view_module_version": "1.5.0",
            "_view_name": "ProgressView",
            "bar_style": "",
            "description": "",
            "description_tooltip": null,
            "layout": "IPY_MODEL_a1da2db5d5204baf9a4766e8e4a80fb4",
            "max": 60000,
            "min": 0,
            "orientation": "horizontal",
            "style": "IPY_MODEL_c37158091b39467e8cbe7de75e507b37",
            "value": 60000
          }
        },
        "3a9d767bc6f7435cabf74cfd7e7cea5b": {
          "model_module": "@jupyter-widgets/controls",
          "model_name": "HTMLModel",
          "model_module_version": "1.5.0",
          "state": {
            "_dom_classes": [],
            "_model_module": "@jupyter-widgets/controls",
            "_model_module_version": "1.5.0",
            "_model_name": "HTMLModel",
            "_view_count": null,
            "_view_module": "@jupyter-widgets/controls",
            "_view_module_version": "1.5.0",
            "_view_name": "HTMLView",
            "description": "",
            "description_tooltip": null,
            "layout": "IPY_MODEL_b09002bf768e4c5aab6b269a290e9c3e",
            "placeholder": "​",
            "style": "IPY_MODEL_f4aa36dffe7f4e6db6ac8a87695c87aa",
            "value": " 0/60000 [00:00&lt;?, ? examples/s]"
          }
        },
        "2df20dcc55244ef592e5f54e171b87df": {
          "model_module": "@jupyter-widgets/base",
          "model_name": "LayoutModel",
          "model_module_version": "1.2.0",
          "state": {
            "_model_module": "@jupyter-widgets/base",
            "_model_module_version": "1.2.0",
            "_model_name": "LayoutModel",
            "_view_count": null,
            "_view_module": "@jupyter-widgets/base",
            "_view_module_version": "1.2.0",
            "_view_name": "LayoutView",
            "align_content": null,
            "align_items": null,
            "align_self": null,
            "border": null,
            "bottom": null,
            "display": null,
            "flex": null,
            "flex_flow": null,
            "grid_area": null,
            "grid_auto_columns": null,
            "grid_auto_flow": null,
            "grid_auto_rows": null,
            "grid_column": null,
            "grid_gap": null,
            "grid_row": null,
            "grid_template_areas": null,
            "grid_template_columns": null,
            "grid_template_rows": null,
            "height": null,
            "justify_content": null,
            "justify_items": null,
            "left": null,
            "margin": null,
            "max_height": null,
            "max_width": null,
            "min_height": null,
            "min_width": null,
            "object_fit": null,
            "object_position": null,
            "order": null,
            "overflow": null,
            "overflow_x": null,
            "overflow_y": null,
            "padding": null,
            "right": null,
            "top": null,
            "visibility": "hidden",
            "width": null
          }
        },
        "1410127d86eb4a3689c21b63f81e1d35": {
          "model_module": "@jupyter-widgets/base",
          "model_name": "LayoutModel",
          "model_module_version": "1.2.0",
          "state": {
            "_model_module": "@jupyter-widgets/base",
            "_model_module_version": "1.2.0",
            "_model_name": "LayoutModel",
            "_view_count": null,
            "_view_module": "@jupyter-widgets/base",
            "_view_module_version": "1.2.0",
            "_view_name": "LayoutView",
            "align_content": null,
            "align_items": null,
            "align_self": null,
            "border": null,
            "bottom": null,
            "display": null,
            "flex": null,
            "flex_flow": null,
            "grid_area": null,
            "grid_auto_columns": null,
            "grid_auto_flow": null,
            "grid_auto_rows": null,
            "grid_column": null,
            "grid_gap": null,
            "grid_row": null,
            "grid_template_areas": null,
            "grid_template_columns": null,
            "grid_template_rows": null,
            "height": null,
            "justify_content": null,
            "justify_items": null,
            "left": null,
            "margin": null,
            "max_height": null,
            "max_width": null,
            "min_height": null,
            "min_width": null,
            "object_fit": null,
            "object_position": null,
            "order": null,
            "overflow": null,
            "overflow_x": null,
            "overflow_y": null,
            "padding": null,
            "right": null,
            "top": null,
            "visibility": null,
            "width": null
          }
        },
        "a690c3140a914072b6503a488701d86f": {
          "model_module": "@jupyter-widgets/controls",
          "model_name": "DescriptionStyleModel",
          "model_module_version": "1.5.0",
          "state": {
            "_model_module": "@jupyter-widgets/controls",
            "_model_module_version": "1.5.0",
            "_model_name": "DescriptionStyleModel",
            "_view_count": null,
            "_view_module": "@jupyter-widgets/base",
            "_view_module_version": "1.2.0",
            "_view_name": "StyleView",
            "description_width": ""
          }
        },
        "a1da2db5d5204baf9a4766e8e4a80fb4": {
          "model_module": "@jupyter-widgets/base",
          "model_name": "LayoutModel",
          "model_module_version": "1.2.0",
          "state": {
            "_model_module": "@jupyter-widgets/base",
            "_model_module_version": "1.2.0",
            "_model_name": "LayoutModel",
            "_view_count": null,
            "_view_module": "@jupyter-widgets/base",
            "_view_module_version": "1.2.0",
            "_view_name": "LayoutView",
            "align_content": null,
            "align_items": null,
            "align_self": null,
            "border": null,
            "bottom": null,
            "display": null,
            "flex": null,
            "flex_flow": null,
            "grid_area": null,
            "grid_auto_columns": null,
            "grid_auto_flow": null,
            "grid_auto_rows": null,
            "grid_column": null,
            "grid_gap": null,
            "grid_row": null,
            "grid_template_areas": null,
            "grid_template_columns": null,
            "grid_template_rows": null,
            "height": null,
            "justify_content": null,
            "justify_items": null,
            "left": null,
            "margin": null,
            "max_height": null,
            "max_width": null,
            "min_height": null,
            "min_width": null,
            "object_fit": null,
            "object_position": null,
            "order": null,
            "overflow": null,
            "overflow_x": null,
            "overflow_y": null,
            "padding": null,
            "right": null,
            "top": null,
            "visibility": null,
            "width": null
          }
        },
        "c37158091b39467e8cbe7de75e507b37": {
          "model_module": "@jupyter-widgets/controls",
          "model_name": "ProgressStyleModel",
          "model_module_version": "1.5.0",
          "state": {
            "_model_module": "@jupyter-widgets/controls",
            "_model_module_version": "1.5.0",
            "_model_name": "ProgressStyleModel",
            "_view_count": null,
            "_view_module": "@jupyter-widgets/base",
            "_view_module_version": "1.2.0",
            "_view_name": "StyleView",
            "bar_color": null,
            "description_width": ""
          }
        },
        "b09002bf768e4c5aab6b269a290e9c3e": {
          "model_module": "@jupyter-widgets/base",
          "model_name": "LayoutModel",
          "model_module_version": "1.2.0",
          "state": {
            "_model_module": "@jupyter-widgets/base",
            "_model_module_version": "1.2.0",
            "_model_name": "LayoutModel",
            "_view_count": null,
            "_view_module": "@jupyter-widgets/base",
            "_view_module_version": "1.2.0",
            "_view_name": "LayoutView",
            "align_content": null,
            "align_items": null,
            "align_self": null,
            "border": null,
            "bottom": null,
            "display": null,
            "flex": null,
            "flex_flow": null,
            "grid_area": null,
            "grid_auto_columns": null,
            "grid_auto_flow": null,
            "grid_auto_rows": null,
            "grid_column": null,
            "grid_gap": null,
            "grid_row": null,
            "grid_template_areas": null,
            "grid_template_columns": null,
            "grid_template_rows": null,
            "height": null,
            "justify_content": null,
            "justify_items": null,
            "left": null,
            "margin": null,
            "max_height": null,
            "max_width": null,
            "min_height": null,
            "min_width": null,
            "object_fit": null,
            "object_position": null,
            "order": null,
            "overflow": null,
            "overflow_x": null,
            "overflow_y": null,
            "padding": null,
            "right": null,
            "top": null,
            "visibility": null,
            "width": null
          }
        },
        "f4aa36dffe7f4e6db6ac8a87695c87aa": {
          "model_module": "@jupyter-widgets/controls",
          "model_name": "DescriptionStyleModel",
          "model_module_version": "1.5.0",
          "state": {
            "_model_module": "@jupyter-widgets/controls",
            "_model_module_version": "1.5.0",
            "_model_name": "DescriptionStyleModel",
            "_view_count": null,
            "_view_module": "@jupyter-widgets/base",
            "_view_module_version": "1.2.0",
            "_view_name": "StyleView",
            "description_width": ""
          }
        },
        "26687e66f68e4d4e89788e25a3f6e4bb": {
          "model_module": "@jupyter-widgets/controls",
          "model_name": "HBoxModel",
          "model_module_version": "1.5.0",
          "state": {
            "_dom_classes": [],
            "_model_module": "@jupyter-widgets/controls",
            "_model_module_version": "1.5.0",
            "_model_name": "HBoxModel",
            "_view_count": null,
            "_view_module": "@jupyter-widgets/controls",
            "_view_module_version": "1.5.0",
            "_view_name": "HBoxView",
            "box_style": "",
            "children": [
              "IPY_MODEL_506f5620751542cab426662822de9489",
              "IPY_MODEL_d89fe93caa664db8a896513583da167a",
              "IPY_MODEL_da4cf99c2058415f9b90b73caca318cc"
            ],
            "layout": "IPY_MODEL_76c1765c52284383aa7b58eace1334a0"
          }
        },
        "506f5620751542cab426662822de9489": {
          "model_module": "@jupyter-widgets/controls",
          "model_name": "HTMLModel",
          "model_module_version": "1.5.0",
          "state": {
            "_dom_classes": [],
            "_model_module": "@jupyter-widgets/controls",
            "_model_module_version": "1.5.0",
            "_model_name": "HTMLModel",
            "_view_count": null,
            "_view_module": "@jupyter-widgets/controls",
            "_view_module_version": "1.5.0",
            "_view_name": "HTMLView",
            "description": "",
            "description_tooltip": null,
            "layout": "IPY_MODEL_82e1f47171214f77832b73daba3f95da",
            "placeholder": "​",
            "style": "IPY_MODEL_b22397aabf2a40dc9f94a71cb85ea8b9",
            "value": "Generating test examples...:  99%"
          }
        },
        "d89fe93caa664db8a896513583da167a": {
          "model_module": "@jupyter-widgets/controls",
          "model_name": "FloatProgressModel",
          "model_module_version": "1.5.0",
          "state": {
            "_dom_classes": [],
            "_model_module": "@jupyter-widgets/controls",
            "_model_module_version": "1.5.0",
            "_model_name": "FloatProgressModel",
            "_view_count": null,
            "_view_module": "@jupyter-widgets/controls",
            "_view_module_version": "1.5.0",
            "_view_name": "ProgressView",
            "bar_style": "",
            "description": "",
            "description_tooltip": null,
            "layout": "IPY_MODEL_b4dd8102f47d4abda7b324f691af608a",
            "max": 10000,
            "min": 0,
            "orientation": "horizontal",
            "style": "IPY_MODEL_d44824aba3714c63861c46bd565235f7",
            "value": 10000
          }
        },
        "da4cf99c2058415f9b90b73caca318cc": {
          "model_module": "@jupyter-widgets/controls",
          "model_name": "HTMLModel",
          "model_module_version": "1.5.0",
          "state": {
            "_dom_classes": [],
            "_model_module": "@jupyter-widgets/controls",
            "_model_module_version": "1.5.0",
            "_model_name": "HTMLModel",
            "_view_count": null,
            "_view_module": "@jupyter-widgets/controls",
            "_view_module_version": "1.5.0",
            "_view_name": "HTMLView",
            "description": "",
            "description_tooltip": null,
            "layout": "IPY_MODEL_ebaf604c4ed6451da9be98b5e97d6a70",
            "placeholder": "​",
            "style": "IPY_MODEL_eb5e193afe7143c6abc46173eefedf07",
            "value": " 9887/10000 [00:04&lt;00:00, 2489.69 examples/s]"
          }
        },
        "76c1765c52284383aa7b58eace1334a0": {
          "model_module": "@jupyter-widgets/base",
          "model_name": "LayoutModel",
          "model_module_version": "1.2.0",
          "state": {
            "_model_module": "@jupyter-widgets/base",
            "_model_module_version": "1.2.0",
            "_model_name": "LayoutModel",
            "_view_count": null,
            "_view_module": "@jupyter-widgets/base",
            "_view_module_version": "1.2.0",
            "_view_name": "LayoutView",
            "align_content": null,
            "align_items": null,
            "align_self": null,
            "border": null,
            "bottom": null,
            "display": null,
            "flex": null,
            "flex_flow": null,
            "grid_area": null,
            "grid_auto_columns": null,
            "grid_auto_flow": null,
            "grid_auto_rows": null,
            "grid_column": null,
            "grid_gap": null,
            "grid_row": null,
            "grid_template_areas": null,
            "grid_template_columns": null,
            "grid_template_rows": null,
            "height": null,
            "justify_content": null,
            "justify_items": null,
            "left": null,
            "margin": null,
            "max_height": null,
            "max_width": null,
            "min_height": null,
            "min_width": null,
            "object_fit": null,
            "object_position": null,
            "order": null,
            "overflow": null,
            "overflow_x": null,
            "overflow_y": null,
            "padding": null,
            "right": null,
            "top": null,
            "visibility": "hidden",
            "width": null
          }
        },
        "82e1f47171214f77832b73daba3f95da": {
          "model_module": "@jupyter-widgets/base",
          "model_name": "LayoutModel",
          "model_module_version": "1.2.0",
          "state": {
            "_model_module": "@jupyter-widgets/base",
            "_model_module_version": "1.2.0",
            "_model_name": "LayoutModel",
            "_view_count": null,
            "_view_module": "@jupyter-widgets/base",
            "_view_module_version": "1.2.0",
            "_view_name": "LayoutView",
            "align_content": null,
            "align_items": null,
            "align_self": null,
            "border": null,
            "bottom": null,
            "display": null,
            "flex": null,
            "flex_flow": null,
            "grid_area": null,
            "grid_auto_columns": null,
            "grid_auto_flow": null,
            "grid_auto_rows": null,
            "grid_column": null,
            "grid_gap": null,
            "grid_row": null,
            "grid_template_areas": null,
            "grid_template_columns": null,
            "grid_template_rows": null,
            "height": null,
            "justify_content": null,
            "justify_items": null,
            "left": null,
            "margin": null,
            "max_height": null,
            "max_width": null,
            "min_height": null,
            "min_width": null,
            "object_fit": null,
            "object_position": null,
            "order": null,
            "overflow": null,
            "overflow_x": null,
            "overflow_y": null,
            "padding": null,
            "right": null,
            "top": null,
            "visibility": null,
            "width": null
          }
        },
        "b22397aabf2a40dc9f94a71cb85ea8b9": {
          "model_module": "@jupyter-widgets/controls",
          "model_name": "DescriptionStyleModel",
          "model_module_version": "1.5.0",
          "state": {
            "_model_module": "@jupyter-widgets/controls",
            "_model_module_version": "1.5.0",
            "_model_name": "DescriptionStyleModel",
            "_view_count": null,
            "_view_module": "@jupyter-widgets/base",
            "_view_module_version": "1.2.0",
            "_view_name": "StyleView",
            "description_width": ""
          }
        },
        "b4dd8102f47d4abda7b324f691af608a": {
          "model_module": "@jupyter-widgets/base",
          "model_name": "LayoutModel",
          "model_module_version": "1.2.0",
          "state": {
            "_model_module": "@jupyter-widgets/base",
            "_model_module_version": "1.2.0",
            "_model_name": "LayoutModel",
            "_view_count": null,
            "_view_module": "@jupyter-widgets/base",
            "_view_module_version": "1.2.0",
            "_view_name": "LayoutView",
            "align_content": null,
            "align_items": null,
            "align_self": null,
            "border": null,
            "bottom": null,
            "display": null,
            "flex": null,
            "flex_flow": null,
            "grid_area": null,
            "grid_auto_columns": null,
            "grid_auto_flow": null,
            "grid_auto_rows": null,
            "grid_column": null,
            "grid_gap": null,
            "grid_row": null,
            "grid_template_areas": null,
            "grid_template_columns": null,
            "grid_template_rows": null,
            "height": null,
            "justify_content": null,
            "justify_items": null,
            "left": null,
            "margin": null,
            "max_height": null,
            "max_width": null,
            "min_height": null,
            "min_width": null,
            "object_fit": null,
            "object_position": null,
            "order": null,
            "overflow": null,
            "overflow_x": null,
            "overflow_y": null,
            "padding": null,
            "right": null,
            "top": null,
            "visibility": null,
            "width": null
          }
        },
        "d44824aba3714c63861c46bd565235f7": {
          "model_module": "@jupyter-widgets/controls",
          "model_name": "ProgressStyleModel",
          "model_module_version": "1.5.0",
          "state": {
            "_model_module": "@jupyter-widgets/controls",
            "_model_module_version": "1.5.0",
            "_model_name": "ProgressStyleModel",
            "_view_count": null,
            "_view_module": "@jupyter-widgets/base",
            "_view_module_version": "1.2.0",
            "_view_name": "StyleView",
            "bar_color": null,
            "description_width": ""
          }
        },
        "ebaf604c4ed6451da9be98b5e97d6a70": {
          "model_module": "@jupyter-widgets/base",
          "model_name": "LayoutModel",
          "model_module_version": "1.2.0",
          "state": {
            "_model_module": "@jupyter-widgets/base",
            "_model_module_version": "1.2.0",
            "_model_name": "LayoutModel",
            "_view_count": null,
            "_view_module": "@jupyter-widgets/base",
            "_view_module_version": "1.2.0",
            "_view_name": "LayoutView",
            "align_content": null,
            "align_items": null,
            "align_self": null,
            "border": null,
            "bottom": null,
            "display": null,
            "flex": null,
            "flex_flow": null,
            "grid_area": null,
            "grid_auto_columns": null,
            "grid_auto_flow": null,
            "grid_auto_rows": null,
            "grid_column": null,
            "grid_gap": null,
            "grid_row": null,
            "grid_template_areas": null,
            "grid_template_columns": null,
            "grid_template_rows": null,
            "height": null,
            "justify_content": null,
            "justify_items": null,
            "left": null,
            "margin": null,
            "max_height": null,
            "max_width": null,
            "min_height": null,
            "min_width": null,
            "object_fit": null,
            "object_position": null,
            "order": null,
            "overflow": null,
            "overflow_x": null,
            "overflow_y": null,
            "padding": null,
            "right": null,
            "top": null,
            "visibility": null,
            "width": null
          }
        },
        "eb5e193afe7143c6abc46173eefedf07": {
          "model_module": "@jupyter-widgets/controls",
          "model_name": "DescriptionStyleModel",
          "model_module_version": "1.5.0",
          "state": {
            "_model_module": "@jupyter-widgets/controls",
            "_model_module_version": "1.5.0",
            "_model_name": "DescriptionStyleModel",
            "_view_count": null,
            "_view_module": "@jupyter-widgets/base",
            "_view_module_version": "1.2.0",
            "_view_name": "StyleView",
            "description_width": ""
          }
        },
        "a15e1953de9f46a180827e398f84186a": {
          "model_module": "@jupyter-widgets/controls",
          "model_name": "HBoxModel",
          "model_module_version": "1.5.0",
          "state": {
            "_dom_classes": [],
            "_model_module": "@jupyter-widgets/controls",
            "_model_module_version": "1.5.0",
            "_model_name": "HBoxModel",
            "_view_count": null,
            "_view_module": "@jupyter-widgets/controls",
            "_view_module_version": "1.5.0",
            "_view_name": "HBoxView",
            "box_style": "",
            "children": [
              "IPY_MODEL_5050a534860b4142a5b96ad7408450ea",
              "IPY_MODEL_3198dcdd145649009b53bd9e7b4d6bbf",
              "IPY_MODEL_edf608b2386f4df6b35f9835558ec423"
            ],
            "layout": "IPY_MODEL_691a6d7ea75c434ba889e363bab9774a"
          }
        },
        "5050a534860b4142a5b96ad7408450ea": {
          "model_module": "@jupyter-widgets/controls",
          "model_name": "HTMLModel",
          "model_module_version": "1.5.0",
          "state": {
            "_dom_classes": [],
            "_model_module": "@jupyter-widgets/controls",
            "_model_module_version": "1.5.0",
            "_model_name": "HTMLModel",
            "_view_count": null,
            "_view_module": "@jupyter-widgets/controls",
            "_view_module_version": "1.5.0",
            "_view_name": "HTMLView",
            "description": "",
            "description_tooltip": null,
            "layout": "IPY_MODEL_a1ffb2cfb7db483a95f41ae0d476bba9",
            "placeholder": "​",
            "style": "IPY_MODEL_ffcf6a304c754786a441362353b28d2f",
            "value": "Shuffling /root/tensorflow_datasets/fashion_mnist/incomplete.2XZQO8_3.0.1/fashion_mnist-test.tfrecord*...:   0%"
          }
        },
        "3198dcdd145649009b53bd9e7b4d6bbf": {
          "model_module": "@jupyter-widgets/controls",
          "model_name": "FloatProgressModel",
          "model_module_version": "1.5.0",
          "state": {
            "_dom_classes": [],
            "_model_module": "@jupyter-widgets/controls",
            "_model_module_version": "1.5.0",
            "_model_name": "FloatProgressModel",
            "_view_count": null,
            "_view_module": "@jupyter-widgets/controls",
            "_view_module_version": "1.5.0",
            "_view_name": "ProgressView",
            "bar_style": "",
            "description": "",
            "description_tooltip": null,
            "layout": "IPY_MODEL_74fd7a3177ed4ae086e618d73cedeb9e",
            "max": 10000,
            "min": 0,
            "orientation": "horizontal",
            "style": "IPY_MODEL_4fec87d7f0fe4f779e3bd9ecc34f08ae",
            "value": 10000
          }
        },
        "edf608b2386f4df6b35f9835558ec423": {
          "model_module": "@jupyter-widgets/controls",
          "model_name": "HTMLModel",
          "model_module_version": "1.5.0",
          "state": {
            "_dom_classes": [],
            "_model_module": "@jupyter-widgets/controls",
            "_model_module_version": "1.5.0",
            "_model_name": "HTMLModel",
            "_view_count": null,
            "_view_module": "@jupyter-widgets/controls",
            "_view_module_version": "1.5.0",
            "_view_name": "HTMLView",
            "description": "",
            "description_tooltip": null,
            "layout": "IPY_MODEL_543a142a264e42c7b607f28edf7af848",
            "placeholder": "​",
            "style": "IPY_MODEL_128123fff4b94d87be42cea190f7cf85",
            "value": " 0/10000 [00:00&lt;?, ? examples/s]"
          }
        },
        "691a6d7ea75c434ba889e363bab9774a": {
          "model_module": "@jupyter-widgets/base",
          "model_name": "LayoutModel",
          "model_module_version": "1.2.0",
          "state": {
            "_model_module": "@jupyter-widgets/base",
            "_model_module_version": "1.2.0",
            "_model_name": "LayoutModel",
            "_view_count": null,
            "_view_module": "@jupyter-widgets/base",
            "_view_module_version": "1.2.0",
            "_view_name": "LayoutView",
            "align_content": null,
            "align_items": null,
            "align_self": null,
            "border": null,
            "bottom": null,
            "display": null,
            "flex": null,
            "flex_flow": null,
            "grid_area": null,
            "grid_auto_columns": null,
            "grid_auto_flow": null,
            "grid_auto_rows": null,
            "grid_column": null,
            "grid_gap": null,
            "grid_row": null,
            "grid_template_areas": null,
            "grid_template_columns": null,
            "grid_template_rows": null,
            "height": null,
            "justify_content": null,
            "justify_items": null,
            "left": null,
            "margin": null,
            "max_height": null,
            "max_width": null,
            "min_height": null,
            "min_width": null,
            "object_fit": null,
            "object_position": null,
            "order": null,
            "overflow": null,
            "overflow_x": null,
            "overflow_y": null,
            "padding": null,
            "right": null,
            "top": null,
            "visibility": "hidden",
            "width": null
          }
        },
        "a1ffb2cfb7db483a95f41ae0d476bba9": {
          "model_module": "@jupyter-widgets/base",
          "model_name": "LayoutModel",
          "model_module_version": "1.2.0",
          "state": {
            "_model_module": "@jupyter-widgets/base",
            "_model_module_version": "1.2.0",
            "_model_name": "LayoutModel",
            "_view_count": null,
            "_view_module": "@jupyter-widgets/base",
            "_view_module_version": "1.2.0",
            "_view_name": "LayoutView",
            "align_content": null,
            "align_items": null,
            "align_self": null,
            "border": null,
            "bottom": null,
            "display": null,
            "flex": null,
            "flex_flow": null,
            "grid_area": null,
            "grid_auto_columns": null,
            "grid_auto_flow": null,
            "grid_auto_rows": null,
            "grid_column": null,
            "grid_gap": null,
            "grid_row": null,
            "grid_template_areas": null,
            "grid_template_columns": null,
            "grid_template_rows": null,
            "height": null,
            "justify_content": null,
            "justify_items": null,
            "left": null,
            "margin": null,
            "max_height": null,
            "max_width": null,
            "min_height": null,
            "min_width": null,
            "object_fit": null,
            "object_position": null,
            "order": null,
            "overflow": null,
            "overflow_x": null,
            "overflow_y": null,
            "padding": null,
            "right": null,
            "top": null,
            "visibility": null,
            "width": null
          }
        },
        "ffcf6a304c754786a441362353b28d2f": {
          "model_module": "@jupyter-widgets/controls",
          "model_name": "DescriptionStyleModel",
          "model_module_version": "1.5.0",
          "state": {
            "_model_module": "@jupyter-widgets/controls",
            "_model_module_version": "1.5.0",
            "_model_name": "DescriptionStyleModel",
            "_view_count": null,
            "_view_module": "@jupyter-widgets/base",
            "_view_module_version": "1.2.0",
            "_view_name": "StyleView",
            "description_width": ""
          }
        },
        "74fd7a3177ed4ae086e618d73cedeb9e": {
          "model_module": "@jupyter-widgets/base",
          "model_name": "LayoutModel",
          "model_module_version": "1.2.0",
          "state": {
            "_model_module": "@jupyter-widgets/base",
            "_model_module_version": "1.2.0",
            "_model_name": "LayoutModel",
            "_view_count": null,
            "_view_module": "@jupyter-widgets/base",
            "_view_module_version": "1.2.0",
            "_view_name": "LayoutView",
            "align_content": null,
            "align_items": null,
            "align_self": null,
            "border": null,
            "bottom": null,
            "display": null,
            "flex": null,
            "flex_flow": null,
            "grid_area": null,
            "grid_auto_columns": null,
            "grid_auto_flow": null,
            "grid_auto_rows": null,
            "grid_column": null,
            "grid_gap": null,
            "grid_row": null,
            "grid_template_areas": null,
            "grid_template_columns": null,
            "grid_template_rows": null,
            "height": null,
            "justify_content": null,
            "justify_items": null,
            "left": null,
            "margin": null,
            "max_height": null,
            "max_width": null,
            "min_height": null,
            "min_width": null,
            "object_fit": null,
            "object_position": null,
            "order": null,
            "overflow": null,
            "overflow_x": null,
            "overflow_y": null,
            "padding": null,
            "right": null,
            "top": null,
            "visibility": null,
            "width": null
          }
        },
        "4fec87d7f0fe4f779e3bd9ecc34f08ae": {
          "model_module": "@jupyter-widgets/controls",
          "model_name": "ProgressStyleModel",
          "model_module_version": "1.5.0",
          "state": {
            "_model_module": "@jupyter-widgets/controls",
            "_model_module_version": "1.5.0",
            "_model_name": "ProgressStyleModel",
            "_view_count": null,
            "_view_module": "@jupyter-widgets/base",
            "_view_module_version": "1.2.0",
            "_view_name": "StyleView",
            "bar_color": null,
            "description_width": ""
          }
        },
        "543a142a264e42c7b607f28edf7af848": {
          "model_module": "@jupyter-widgets/base",
          "model_name": "LayoutModel",
          "model_module_version": "1.2.0",
          "state": {
            "_model_module": "@jupyter-widgets/base",
            "_model_module_version": "1.2.0",
            "_model_name": "LayoutModel",
            "_view_count": null,
            "_view_module": "@jupyter-widgets/base",
            "_view_module_version": "1.2.0",
            "_view_name": "LayoutView",
            "align_content": null,
            "align_items": null,
            "align_self": null,
            "border": null,
            "bottom": null,
            "display": null,
            "flex": null,
            "flex_flow": null,
            "grid_area": null,
            "grid_auto_columns": null,
            "grid_auto_flow": null,
            "grid_auto_rows": null,
            "grid_column": null,
            "grid_gap": null,
            "grid_row": null,
            "grid_template_areas": null,
            "grid_template_columns": null,
            "grid_template_rows": null,
            "height": null,
            "justify_content": null,
            "justify_items": null,
            "left": null,
            "margin": null,
            "max_height": null,
            "max_width": null,
            "min_height": null,
            "min_width": null,
            "object_fit": null,
            "object_position": null,
            "order": null,
            "overflow": null,
            "overflow_x": null,
            "overflow_y": null,
            "padding": null,
            "right": null,
            "top": null,
            "visibility": null,
            "width": null
          }
        },
        "128123fff4b94d87be42cea190f7cf85": {
          "model_module": "@jupyter-widgets/controls",
          "model_name": "DescriptionStyleModel",
          "model_module_version": "1.5.0",
          "state": {
            "_model_module": "@jupyter-widgets/controls",
            "_model_module_version": "1.5.0",
            "_model_name": "DescriptionStyleModel",
            "_view_count": null,
            "_view_module": "@jupyter-widgets/base",
            "_view_module_version": "1.2.0",
            "_view_name": "StyleView",
            "description_width": ""
          }
        }
      }
    }
  },
  "cells": [
    {
      "cell_type": "markdown",
      "source": [
        "# **CM3015 Machine Learning and Neural Networks (CW2)**\n"
      ],
      "metadata": {
        "id": "Or_cdXSTlEd0"
      }
    },
    {
      "cell_type": "markdown",
      "source": [
        "## **1. Introduction**"
      ],
      "metadata": {
        "id": "PM2POZ9Rlhp_"
      }
    },
    {
      "cell_type": "markdown",
      "source": [
        "In this project, we embark on a comprehensive journey through the development and optimization of a neural network architecture specifically tailored for the Fashion MNIST dataset. Our process unfolds in distinct stages, beginning with the setup and loading of essential dependencies followed by the ingestion of fashion image data. Subsequently, we delve into preprocessing tasks, encompassing image resizing, splitting, and scaling, all while vigilantly monitoring the distribution of our dataset to ensure balanced representation across different clothing categories. With a solid foundation established, we proceed to construct and refine our neural network architecture, starting from baseline calculations and progressing through the exploration of single and multi-layer perceptron configurations. As we refine our model, we integrate techniques such as dropout layers, various optimizers, and regularization methods to enhance performance and generalizability. At each juncture, we rigorously evaluate our model's efficacy, iteratively refining and optimizing to achieve superior results. Through this systematic approach, we aim to uncover insights and strategies that propel us toward a robust and finely-tuned neural network solution capable of accurately classifying fashion images.\n",
        "\n"
      ],
      "metadata": {
        "id": "0SjfgT1af2PK"
      }
    },
    {
      "cell_type": "markdown",
      "source": [
        "### **2. Defining the Problem and Assembling the Dataset**\n",
        "\n",
        "In this report, we will address the problem of multiclass image classification using TensorFlow's Fashion MNIST dataset. This involves accurately classifying an input image into one of 10 possible categories, which include various types of clothing items such as t-shirts, trousers, and sneakers.\n",
        "\n",
        "One key consideration in machine learning is the challenge of nonstationary problems, where a model may only learn patterns specific to the training data and struggle when applied to data from different contexts. For instance, a model trained to predict winter clothing sales might not perform well if evaluated on summer clothing sales data. However, with the Fashion MNIST dataset, we are dealing with a stationary problem. The patterns in the data remain consistent, so the model is less likely to be affected by such variations, making it well-suited for this classification task."
      ],
      "metadata": {
        "id": "u7j3AHZgmQhZ"
      }
    },
    {
      "cell_type": "markdown",
      "source": [
        "### **2.1 Hypotheses**\n",
        "\n",
        "Based on the nature of the Fashion MNIST dataset and the typical approaches to image classification, I hypothesize that it is feasible to predict the correct class label for a given input image. This is because there is likely a strong predictive relationship between the pixel values of an image and its corresponding clothing category.\n",
        "\n",
        "Another hypothesis at this stage is that the data provided by TensorFlow, including the 70,000 images in the Fashion MNIST dataset, will be sufficient to learn the underlying relationship between the inputs (images) and outputs (labels). The variety and volume of the data should enable the model to generalize well to unseen examples.\n",
        "\n",
        "### **3. Choosing a Measure of Success**\n",
        "\n",
        "Given the structure of the Fashion MNIST dataset, which consists of 60,000 training images and 10,000 test images evenly distributed across 10 classes, accuracy will be the primary metric for evaluating model performance. Since there is no significant class imbalance in the dataset, accuracy is a suitable measure to assess the model's ability to correctly classify images. While precision and recall are important, they are typically more critical in scenarios where class imbalance is a concern, which is not the case here.\n",
        "\n",
        "### **4. Deciding on an Evaluation Protocol**\n",
        "\n",
        "For evaluating the performance of the neural network models developed in this project, we will employ a **hold-out validation** approach. This approach involves partitioning the dataset into training, validation, and test sets. Specifically, we set aside 10% of the data as the test set, which will only be used for final evaluation after the model has been fully trained. Additionally, 20% of the training data is reserved as a validation set, which is used to assess the model's performance during the training process.\n",
        "\n",
        "The validation set serves as an intermediary checkpoint to monitor the model's generalization ability and to make informed decisions on hyperparameter tuning. This approach helps in preventing overfitting by ensuring that the model's performance is evaluated on unseen data during training, rather than on the training set itself.\n",
        "\n",
        "The final performance of the model will be evaluated on the hold-out test set, which will provide an unbiased assessment of how well the model is likely to perform on new, unseen data. This evaluation protocol is crucial for understanding the model's true generalization capacity and ensuring that the improvements observed during training translate into real-world applications."
      ],
      "metadata": {
        "id": "iugDCxNLmwPQ"
      }
    },
    {
      "cell_type": "markdown",
      "source": [
        "### **5. Setup and Load Data**"
      ],
      "metadata": {
        "id": "NgrLtrl1f7qt"
      }
    },
    {
      "cell_type": "markdown",
      "source": [
        "### 5.1 Setting Up and Installing Required Dependencies"
      ],
      "metadata": {
        "id": "HgyueA6KgRIb"
      }
    },
    {
      "cell_type": "code",
      "source": [
        "from sklearn.model_selection import train_test_split\n",
        "from keras.models import Sequential\n",
        "from keras.layers import Dense, Dropout, Flatten\n",
        "from keras.callbacks import EarlyStopping, ModelCheckpoint\n",
        "\n",
        "import os\n",
        "import pandas as pd\n",
        "import numpy as np\n",
        "import tensorflow as tf\n",
        "import tensorflow_datasets as tfds\n",
        "import matplotlib.pyplot as plt\n",
        "import warnings\n",
        "import cv2 as cv\n",
        "import gc\n",
        "\n",
        "# Suppress warning messages\n",
        "warnings.filterwarnings('ignore')\n",
        "\n",
        "# Set a fixed random seed for reproducibility\n",
        "SEED = 321\n",
        "\n",
        "# Define target image dimensions for Fashion MNIST (28x28 grayscale images)\n",
        "IMAGE_WIDTH, IMAGE_HEIGHT = 28, 28\n",
        "IMAGE_SHAPE = (IMAGE_HEIGHT, IMAGE_WIDTH, 1)  # '1' for grayscale images\n",
        "\n",
        "# Specify the proportions for the test and validation splits\n",
        "TEST_SPLIT, VALIDATION_SPLIT = 0.10, 0.2\n",
        "\n",
        "# Ensure reproducibility by setting the random seed for TensorFlow and NumPy\n",
        "tf.random.set_seed(SEED)\n",
        "np.random.seed(SEED)\n",
        "\n"
      ],
      "metadata": {
        "id": "0aRIzLlwf5AA"
      },
      "execution_count": null,
      "outputs": []
    },
    {
      "cell_type": "code",
      "source": [
        "dataset = tfds.load(\"fashion_mnist\", split='all', shuffle_files=True)\n"
      ],
      "metadata": {
        "id": "H21vu5GzhwTS",
        "colab": {
          "base_uri": "https://localhost:8080/",
          "height": 169,
          "referenced_widgets": [
            "3f69ed6900a7434c9cb741e5249c7f23",
            "188c9150cd624519aa9b10888c70c4dc",
            "de6c9781b0e746fba2d0a96a1ee7c4b5",
            "09466c8c68fb499d8356caac3445c158",
            "1187c82a556744428a71f138dd90fa82",
            "f9f6e9934d984769a777b6435509c6f5",
            "963ca1b101524ecc845ae8f46012a7af",
            "0203658b0a724ed0b55ca2060706535d",
            "32b347d0daed4d00b1df573659ae0612",
            "14482fc954f143129d76089966d4fad8",
            "dbb5cf5669f04b568e26bef4a6352be0",
            "f3772469367941d085ff5ee12ffd2269",
            "0b6ad26880e24e07b9ac91b7778769d4",
            "155944023adb43f0a3a21a79c285c5b1",
            "14a338d009d14c3597de94174a57ab05",
            "21ec7328cb6744be94a8b05cac998135",
            "e1c274eae18c46d88b76c02684fc261e",
            "85e9c7c3dda94f89a191aae513be0a67",
            "3bf977ff18dc470c9dce87336b041e26",
            "8803e5ec892d47f2bf4dd0c40e39d519",
            "b002c2bd291349ef9d54fb480e4e3d50",
            "4607ca0ba0a54d2d89e12d05b016eb01",
            "b70e4f6ff14d403faebae32df68b8d05",
            "8937009e08e0425d9b5745ed5bd52509",
            "0044cd42c63d4196815510b524438790",
            "f231066727e74b618465222a9c7c9291",
            "98d76072447043fdb1ec4b387a550f6f",
            "47bc7bc9680443d69f912c1247c05635",
            "e575c596863b402ca09a04d27020ae96",
            "fe10f315dc5b49e8a2987dedf75bccbe",
            "8933ed70a40a48528f2b261d516574c4",
            "1091c7df095a4dad9f6111bd2ab46af0",
            "34c6b0a03f87440a872e9f25a665ba5c",
            "c58b0bb5c3924c92a1ee3b80898b3325",
            "dcb17dbbf333402fa8a9bb06eace8ef0",
            "3f872224e8444d828ddd0699575e36d4",
            "8d6929bbbd37427d932ff873b3f2ed8e",
            "c77e61efff524796aef148b069b3c154",
            "36c3b75fd976463aa23af2add3bdd858",
            "c0236dfcf9f14ae88a76b78f35af4e02",
            "166f2b1067544733a194c99fc86eb0c0",
            "5ca8258af00143b58a64879911439415",
            "e5d211e2d6c744ab86ddb1fc4e8fd553",
            "f4ad3dc16bd54941af3aec5ecadb6d2f",
            "952fd96913714a8eb0b317a7faaccff2",
            "70beac885d0e4f469cd927b3fe490289",
            "c1fc048d08a14d56af5ad1128afea8f5",
            "1f3a3aa23ba24704a5aaef8c9367b5b7",
            "3dc0556119094ae693b0eeda8c4092b6",
            "8dbac22c2492451a8f8771a606d77191",
            "1963b141e42a409385c8fb98eaac040b",
            "9e7556fab86045e8b473ee52be48efbf",
            "25aa19dbbdac46a1a989043715b2d319",
            "713ba1518cf346a1acf54607586e4b88",
            "a7e435af9018459a8b94434f843f7eaa",
            "5165a1680f4543ff8db63a6e1a3d492f",
            "8a0d0997d8c54c33911c51f30aa7fdf9",
            "3002de5ba20f49fe8fb0311e03d01ea9",
            "3a9d767bc6f7435cabf74cfd7e7cea5b",
            "2df20dcc55244ef592e5f54e171b87df",
            "1410127d86eb4a3689c21b63f81e1d35",
            "a690c3140a914072b6503a488701d86f",
            "a1da2db5d5204baf9a4766e8e4a80fb4",
            "c37158091b39467e8cbe7de75e507b37",
            "b09002bf768e4c5aab6b269a290e9c3e",
            "f4aa36dffe7f4e6db6ac8a87695c87aa",
            "26687e66f68e4d4e89788e25a3f6e4bb",
            "506f5620751542cab426662822de9489",
            "d89fe93caa664db8a896513583da167a",
            "da4cf99c2058415f9b90b73caca318cc",
            "76c1765c52284383aa7b58eace1334a0",
            "82e1f47171214f77832b73daba3f95da",
            "b22397aabf2a40dc9f94a71cb85ea8b9",
            "b4dd8102f47d4abda7b324f691af608a",
            "d44824aba3714c63861c46bd565235f7",
            "ebaf604c4ed6451da9be98b5e97d6a70",
            "eb5e193afe7143c6abc46173eefedf07",
            "a15e1953de9f46a180827e398f84186a",
            "5050a534860b4142a5b96ad7408450ea",
            "3198dcdd145649009b53bd9e7b4d6bbf",
            "edf608b2386f4df6b35f9835558ec423",
            "691a6d7ea75c434ba889e363bab9774a",
            "a1ffb2cfb7db483a95f41ae0d476bba9",
            "ffcf6a304c754786a441362353b28d2f",
            "74fd7a3177ed4ae086e618d73cedeb9e",
            "4fec87d7f0fe4f779e3bd9ecc34f08ae",
            "543a142a264e42c7b607f28edf7af848",
            "128123fff4b94d87be42cea190f7cf85"
          ]
        },
        "outputId": "10340d2b-6e89-48a3-8a95-adbfc6686c22"
      },
      "execution_count": null,
      "outputs": [
        {
          "output_type": "stream",
          "name": "stdout",
          "text": [
            "Downloading and preparing dataset 29.45 MiB (download: 29.45 MiB, generated: 36.42 MiB, total: 65.87 MiB) to /root/tensorflow_datasets/fashion_mnist/3.0.1...\n"
          ]
        },
        {
          "output_type": "display_data",
          "data": {
            "text/plain": [
              "Dl Completed...: 0 url [00:00, ? url/s]"
            ],
            "application/vnd.jupyter.widget-view+json": {
              "version_major": 2,
              "version_minor": 0,
              "model_id": "3f69ed6900a7434c9cb741e5249c7f23"
            }
          },
          "metadata": {}
        },
        {
          "output_type": "display_data",
          "data": {
            "text/plain": [
              "Dl Size...: 0 MiB [00:00, ? MiB/s]"
            ],
            "application/vnd.jupyter.widget-view+json": {
              "version_major": 2,
              "version_minor": 0,
              "model_id": "f3772469367941d085ff5ee12ffd2269"
            }
          },
          "metadata": {}
        },
        {
          "output_type": "display_data",
          "data": {
            "text/plain": [
              "Extraction completed...: 0 file [00:00, ? file/s]"
            ],
            "application/vnd.jupyter.widget-view+json": {
              "version_major": 2,
              "version_minor": 0,
              "model_id": "b70e4f6ff14d403faebae32df68b8d05"
            }
          },
          "metadata": {}
        },
        {
          "output_type": "display_data",
          "data": {
            "text/plain": [
              "Generating splits...:   0%|          | 0/2 [00:00<?, ? splits/s]"
            ],
            "application/vnd.jupyter.widget-view+json": {
              "version_major": 2,
              "version_minor": 0,
              "model_id": "c58b0bb5c3924c92a1ee3b80898b3325"
            }
          },
          "metadata": {}
        },
        {
          "output_type": "display_data",
          "data": {
            "text/plain": [
              "Generating train examples...:   0%|          | 0/60000 [00:00<?, ? examples/s]"
            ],
            "application/vnd.jupyter.widget-view+json": {
              "version_major": 2,
              "version_minor": 0,
              "model_id": "952fd96913714a8eb0b317a7faaccff2"
            }
          },
          "metadata": {}
        },
        {
          "output_type": "display_data",
          "data": {
            "text/plain": [
              "Shuffling /root/tensorflow_datasets/fashion_mnist/incomplete.2XZQO8_3.0.1/fashion_mnist-train.tfrecord*...:   …"
            ],
            "application/vnd.jupyter.widget-view+json": {
              "version_major": 2,
              "version_minor": 0,
              "model_id": "5165a1680f4543ff8db63a6e1a3d492f"
            }
          },
          "metadata": {}
        },
        {
          "output_type": "display_data",
          "data": {
            "text/plain": [
              "Generating test examples...:   0%|          | 0/10000 [00:00<?, ? examples/s]"
            ],
            "application/vnd.jupyter.widget-view+json": {
              "version_major": 2,
              "version_minor": 0,
              "model_id": "26687e66f68e4d4e89788e25a3f6e4bb"
            }
          },
          "metadata": {}
        },
        {
          "output_type": "display_data",
          "data": {
            "text/plain": [
              "Shuffling /root/tensorflow_datasets/fashion_mnist/incomplete.2XZQO8_3.0.1/fashion_mnist-test.tfrecord*...:   0…"
            ],
            "application/vnd.jupyter.widget-view+json": {
              "version_major": 2,
              "version_minor": 0,
              "model_id": "a15e1953de9f46a180827e398f84186a"
            }
          },
          "metadata": {}
        },
        {
          "output_type": "stream",
          "name": "stdout",
          "text": [
            "Dataset fashion_mnist downloaded and prepared to /root/tensorflow_datasets/fashion_mnist/3.0.1. Subsequent calls will reuse this data.\n"
          ]
        }
      ]
    },
    {
      "cell_type": "code",
      "source": [
        "import matplotlib.pyplot as plt\n",
        "\n",
        "# Set up the figure and axes for a 2x2 grid of images\n",
        "fig, axes = plt.subplots(ncols=4, figsize=(20, 20))\n",
        "\n",
        "# Loop through the first 4 examples in the dataset\n",
        "for idx, entry in enumerate(dataset.take(4)):\n",
        "    # Extract image and label from the current dataset entry\n",
        "    img_tensor = entry['image']\n",
        "    lbl_tensor = entry['label']\n",
        "\n",
        "    # Convert the image and label from tensors to NumPy arrays\n",
        "    img_array = img_tensor.numpy()\n",
        "    lbl_array = lbl_tensor.numpy()\n",
        "\n",
        "    # Display the image on the corresponding axis\n",
        "    axes[idx].imshow(img_array)\n",
        "\n",
        "    # Set the title of the axis to the corresponding label\n",
        "    axes[idx].set_title(f\"Label: {lbl_array}\")\n",
        "\n",
        "# Show the plot\n",
        "plt.show()\n"
      ],
      "metadata": {
        "colab": {
          "base_uri": "https://localhost:8080/",
          "height": 284
        },
        "id": "pFpHBAMsta6R",
        "outputId": "511edc65-0ea7-4c26-e2fa-d75af580507b"
      },
      "execution_count": null,
      "outputs": [
        {
          "output_type": "display_data",
          "data": {
            "text/plain": [
              "<Figure size 2000x2000 with 4 Axes>"
            ],
            "image/png": "[encoded data removed]"
          },
          "metadata": {}
        }
      ]
    },
    {
      "cell_type": "markdown",
      "source": [
        "### **6. Preprocessing Data**\n"
      ],
      "metadata": {
        "id": "Pj4NwFIl044d"
      }
    },
    {
      "cell_type": "markdown",
      "source": [
        "Since the images in the Fashion MNIST dataset are grayscale, their pixel values range from 0 to 255. It's a good idea to normalize these values to the range [0, 1], which generally helps improve the performance and stability of neural networks."
      ],
      "metadata": {
        "id": "GVv4kSXKgBBU"
      }
    },
    {
      "cell_type": "code",
      "source": [
        "# Prepare the data lists\n",
        "X = []\n",
        "y = []\n",
        "\n",
        "# Extract images and labels from the dataset\n",
        "for example in dataset:\n",
        "    X.append(example['image'].numpy().squeeze())  # Convert to NumPy and remove the color channel\n",
        "    y.append(example['label'].numpy())\n",
        "\n",
        "# Convert lists to NumPy arrays\n",
        "X = np.array(X)\n",
        "y = np.array(y)\n",
        "\n",
        "# Dataset Summary\n",
        "print(f'Total data: X={X.shape}, y={y.shape}')\n",
        "\n",
        "# Split X, y into training and test sets\n",
        "X_train, X_test, y_train, y_test = train_test_split(X, y, test_size=TEST_SPLIT, stratify=y, random_state=SEED)\n",
        "\n",
        "# Split X_train, y_train into sub-training and validation sets\n",
        "X_train, X_valid, y_train, y_valid = train_test_split(X_train, y_train, test_size=VALIDATION_SPLIT , stratify=y_train, random_state=SEED)\n",
        "\n",
        "print('Number of train samples:', len(X_train))\n",
        "print('Number of validation samples:', len(X_valid))\n",
        "print('Number of test samples:', len(X_test))\n",
        "\n",
        "# Sample plot showing images in a (28, 28) 2d array\n",
        "for i in range(9):\n",
        " plt.subplot(330 + 1 + i)\n",
        " plt.imshow(X_train[i], cmap=plt.get_cmap('gray'))\n",
        "\n",
        "plt.show()"
      ],
      "metadata": {
        "colab": {
          "base_uri": "https://localhost:8080/",
          "height": 504
        },
        "id": "93G-EZoEsC46",
        "outputId": "2935a9b6-fec5-40ff-fbd1-dc78ea1de19f"
      },
      "execution_count": null,
      "outputs": [
        {
          "output_type": "stream",
          "name": "stdout",
          "text": [
            "Total data: X=(70000, 28, 28), y=(70000,)\n",
            "Number of train samples: 50400\n",
            "Number of validation samples: 12600\n",
            "Number of test samples: 7000\n"
          ]
        },
        {
          "output_type": "display_data",
          "data": {
            "text/plain": [
              "<Figure size 640x480 with 9 Axes>"
            ],
            "image/png": "[encoded data removed]"
          },
          "metadata": {}
        }
      ]
    },
    {
      "cell_type": "code",
      "source": [
        "# normalise pixels from [0, 255] to [0, 1]\n",
        "X_train, X_valid, X_test= X_train/255, X_valid/255, X_test/255\n"
      ],
      "metadata": {
        "id": "K8H-aSWytwVC"
      },
      "execution_count": null,
      "outputs": []
    },
    {
      "cell_type": "markdown",
      "source": [
        "One-hot encode the labels for use in a multi-class classification neural network. This converts the integer labels (e.g., 0-9 for the 10 classes) into a binary matrix."
      ],
      "metadata": {
        "id": "Zb2rlXySz7L3"
      }
    },
    {
      "cell_type": "code",
      "source": [
        "from tensorflow.keras.utils import to_categorical\n",
        "# One-hot encode the labels\n",
        "y_train_one_hot = to_categorical(y_train, num_classes=10)\n",
        "y_valid_one_hot = to_categorical(y_valid, num_classes=10)\n",
        "y_test_one_hot = to_categorical(y_test, num_classes=10)\n"
      ],
      "metadata": {
        "id": "RoVZcI4gztKK"
      },
      "execution_count": null,
      "outputs": []
    },
    {
      "cell_type": "markdown",
      "source": [
        "### **7. Developing the Model**\n"
      ],
      "metadata": {
        "id": "aE6qCkiaEWmM"
      }
    },
    {
      "cell_type": "markdown",
      "source": [
        "\n",
        "Problem type: Fashion MNIST is a multiclass, single-label classification problem because each image belongs to one of 10 distinct classes (e.g., T-shirt, Trouser, Pullover, etc.), and each image is labeled with a single class.\n",
        "\n",
        "Last-layer activation: The softmax activation function is used in the final layer because it converts the raw output of the network into a probability distribution over the 10 classes. The class with the highest probability is selected as the model's prediction.\n",
        "\n",
        "Loss function: categorical_crossentropy is the appropriate loss function for multiclass classification problems. It measures the difference between the true class distribution (one-hot encoded) and the predicted probability distribution.\n",
        "\n",
        "Optimizer: For the optimizer, we will use the default rmsprop along with its standard learning rate.\n",
        "\n",
        "\n",
        "\n",
        "\n",
        "\n",
        "\n",
        "\n"
      ],
      "metadata": {
        "id": "9P697tWvFIli"
      }
    },
    {
      "cell_type": "markdown",
      "source": [
        "### 7.1 Naive Baseline"
      ],
      "metadata": {
        "id": "hTxDvcjr3eGN"
      }
    },
    {
      "cell_type": "markdown",
      "source": [
        "Before developing a model, a **Naive Majority Class Baseline** is established. This baseline approach assumes that the most frequent class in the dataset will be the correct prediction for every instance. For example, in a classification problem, if the digit '3' is the most common class in the training set, the baseline would predict '3' for all inputs, regardless of the actual features. This baseline serves as a simple benchmark, helping to assess whether more complex models are performing better than just guessing the majority class."
      ],
      "metadata": {
        "id": "k9ReybRw3a0J"
      }
    },
    {
      "cell_type": "code",
      "source": [
        "import numpy as np\n",
        "from collections import Counter\n",
        "\n",
        "# Directly use y_train without applying np.argmax\n",
        "y_train_labels = y_train\n",
        "\n",
        "# Count the number of samples for each label in the training set\n",
        "most_common_label, highest_label_count = Counter(y_train_labels).most_common(1)[0]\n",
        "\n",
        "# Calculate the naive prediction accuracy\n",
        "naive_y_pred = highest_label_count / len(y_test)\n",
        "\n",
        "print(\"Label with most samples in the training set:\")\n",
        "print(\"Label: %s, with a count of %s samples\" % (most_common_label, highest_label_count))\n",
        "\n",
        "print(\"Naive Baseline Accuracy: {:0.2f}%\".format(naive_y_pred * 100))\n"
      ],
      "metadata": {
        "colab": {
          "base_uri": "https://localhost:8080/"
        },
        "id": "So03F2D1-gPp",
        "outputId": "92a1e1c3-c09b-422f-e159-38ca1299e587"
      },
      "execution_count": null,
      "outputs": [
        {
          "output_type": "stream",
          "name": "stdout",
          "text": [
            "Label with most samples in the training set:\n",
            "Label: 7, with a count of 5040 samples\n",
            "Naive Baseline Accuracy: 72.00%\n"
          ]
        }
      ]
    },
    {
      "cell_type": "markdown",
      "source": [
        "With our baseline accuracy established, we can now proceed to develop our machine learning model.\n",
        "\n"
      ],
      "metadata": {
        "id": "gvNAQrnB6Ljf"
      }
    },
    {
      "cell_type": "code",
      "source": [
        "# Define model hyperparameters and early stopping configuration\n",
        "input_dim = (28, 28)\n",
        "output_classes = 10\n",
        "\n",
        "optimizer_choice = 'rmsprop'\n",
        "loss_function = 'categorical_crossentropy'\n",
        "evaluation_metrics = ['accuracy']\n",
        "\n",
        "monitor_metric = 'val_loss'\n",
        "early_stop_patience = 5\n",
        "\n",
        "early_stop_callback = EarlyStopping(\n",
        "    monitor=monitor_metric,\n",
        "    restore_best_weights=True,\n",
        "    patience=early_stop_patience,\n",
        "    verbose=0\n",
        ")\n",
        "\n"
      ],
      "metadata": {
        "id": "XUh8M4O31qQx"
      },
      "execution_count": null,
      "outputs": []
    },
    {
      "cell_type": "code",
      "source": [
        "# Construct the model using Sequential API\n",
        "base_model = Sequential(name='base_model')\n",
        "\n",
        "# Add layers to the model\n",
        "base_model.add(Flatten(input_shape=input_dim))\n",
        "base_model.add(Dense(128, activation='relu'))\n",
        "base_model.add(Dense(output_classes, activation='softmax'))\n",
        "\n",
        "# Display the model's architecture\n",
        "base_model.summary()\n",
        "\n",
        "# Compile the model\n",
        "base_model.compile(\n",
        "    optimizer=optimizer_choice,\n",
        "    loss=loss_function,\n",
        "    metrics=evaluation_metrics\n",
        ")\n",
        "\n",
        "# Train the model\n",
        "history = base_model.fit(\n",
        "    X_train, y_train_one_hot,  # Training data\n",
        "    epochs=20,\n",
        "    batch_size=64,\n",
        "    validation_data=(X_valid, y_valid_one_hot),  # Validation data\n",
        "    callbacks=[early_stop_callback]\n",
        ")\n",
        "\n",
        "# Evaluate the model on the validation set\n",
        "validation_loss, validation_accuracy = base_model.evaluate(X_valid, y_valid_one_hot)\n",
        "\n",
        "print(f'Validation Accuracy: {validation_accuracy * 100:.2f}%')\n"
      ],
      "metadata": {
        "colab": {
          "base_uri": "https://localhost:8080/",
          "height": 732
        },
        "id": "8R_Uh6pAAg-Y",
        "outputId": "72139413-c774-4e80-9a2e-52f95921f45e"
      },
      "execution_count": null,
      "outputs": [
        {
          "output_type": "display_data",
          "data": {
            "text/plain": [
              "\u001b[1mModel: \"base_model\"\u001b[0m\n"
            ],
            "text/html": [
              "<pre style=\"white-space:pre;overflow-x:auto;line-height:normal;font-family:Menlo,'DejaVu Sans Mono',consolas,'Courier New',monospace\"><span style=\"font-weight: bold\">Model: \"base_model\"</span>\n",
              "</pre>\n"
            ]
          },
          "metadata": {}
        },
        {
          "output_type": "display_data",
          "data": {
            "text/plain": [
              "┏━━━━━━━━━━━━━━━━━━━━━━━━━━━━━━━━━━━━━━┳━━━━━━━━━━━━━━━━━━━━━━━━━━━━━┳━━━━━━━━━━━━━━━━━┓\n",
              "┃\u001b[1m \u001b[0m\u001b[1mLayer (type)                        \u001b[0m\u001b[1m \u001b[0m┃\u001b[1m \u001b[0m\u001b[1mOutput Shape               \u001b[0m\u001b[1m \u001b[0m┃\u001b[1m \u001b[0m\u001b[1m        Param #\u001b[0m\u001b[1m \u001b[0m┃\n",
              "┡━━━━━━━━━━━━━━━━━━━━━━━━━━━━━━━━━━━━━━╇━━━━━━━━━━━━━━━━━━━━━━━━━━━━━╇━━━━━━━━━━━━━━━━━┩\n",
              "│ flatten (\u001b[38;5;33mFlatten\u001b[0m)                    │ (\u001b[38;5;45mNone\u001b[0m, \u001b[38;5;34m784\u001b[0m)                 │               \u001b[38;5;34m0\u001b[0m │\n",
              "├──────────────────────────────────────┼─────────────────────────────┼─────────────────┤\n",
              "│ dense (\u001b[38;5;33mDense\u001b[0m)                        │ (\u001b[38;5;45mNone\u001b[0m, \u001b[38;5;34m128\u001b[0m)                 │         \u001b[38;5;34m100,480\u001b[0m │\n",
              "├──────────────────────────────────────┼─────────────────────────────┼─────────────────┤\n",
              "│ dense_1 (\u001b[38;5;33mDense\u001b[0m)                      │ (\u001b[38;5;45mNone\u001b[0m, \u001b[38;5;34m10\u001b[0m)                  │           \u001b[38;5;34m1,290\u001b[0m │\n",
              "└──────────────────────────────────────┴─────────────────────────────┴─────────────────┘\n"
            ],
            "text/html": [
              "<pre style=\"white-space:pre;overflow-x:auto;line-height:normal;font-family:Menlo,'DejaVu Sans Mono',consolas,'Courier New',monospace\">┏━━━━━━━━━━━━━━━━━━━━━━━━━━━━━━━━━━━━━━┳━━━━━━━━━━━━━━━━━━━━━━━━━━━━━┳━━━━━━━━━━━━━━━━━┓\n",
              "┃<span style=\"font-weight: bold\"> Layer (type)                         </span>┃<span style=\"font-weight: bold\"> Output Shape                </span>┃<span style=\"font-weight: bold\">         Param # </span>┃\n",
              "┡━━━━━━━━━━━━━━━━━━━━━━━━━━━━━━━━━━━━━━╇━━━━━━━━━━━━━━━━━━━━━━━━━━━━━╇━━━━━━━━━━━━━━━━━┩\n",
              "│ flatten (<span style=\"color: #0087ff; text-decoration-color: #0087ff\">Flatten</span>)                    │ (<span style=\"color: #00d7ff; text-decoration-color: #00d7ff\">None</span>, <span style=\"color: #00af00; text-decoration-color: #00af00\">784</span>)                 │               <span style=\"color: #00af00; text-decoration-color: #00af00\">0</span> │\n",
              "├──────────────────────────────────────┼─────────────────────────────┼─────────────────┤\n",
              "│ dense (<span style=\"color: #0087ff; text-decoration-color: #0087ff\">Dense</span>)                        │ (<span style=\"color: #00d7ff; text-decoration-color: #00d7ff\">None</span>, <span style=\"color: #00af00; text-decoration-color: #00af00\">128</span>)                 │         <span style=\"color: #00af00; text-decoration-color: #00af00\">100,480</span> │\n",
              "├──────────────────────────────────────┼─────────────────────────────┼─────────────────┤\n",
              "│ dense_1 (<span style=\"color: #0087ff; text-decoration-color: #0087ff\">Dense</span>)                      │ (<span style=\"color: #00d7ff; text-decoration-color: #00d7ff\">None</span>, <span style=\"color: #00af00; text-decoration-color: #00af00\">10</span>)                  │           <span style=\"color: #00af00; text-decoration-color: #00af00\">1,290</span> │\n",
              "└──────────────────────────────────────┴─────────────────────────────┴─────────────────┘\n",
              "</pre>\n"
            ]
          },
          "metadata": {}
        },
        {
          "output_type": "display_data",
          "data": {
            "text/plain": [
              "\u001b[1m Total params: \u001b[0m\u001b[38;5;34m101,770\u001b[0m (397.54 KB)\n"
            ],
            "text/html": [
              "<pre style=\"white-space:pre;overflow-x:auto;line-height:normal;font-family:Menlo,'DejaVu Sans Mono',consolas,'Courier New',monospace\"><span style=\"font-weight: bold\"> Total params: </span><span style=\"color: #00af00; text-decoration-color: #00af00\">101,770</span> (397.54 KB)\n",
              "</pre>\n"
            ]
          },
          "metadata": {}
        },
        {
          "output_type": "display_data",
          "data": {
            "text/plain": [
              "\u001b[1m Trainable params: \u001b[0m\u001b[38;5;34m101,770\u001b[0m (397.54 KB)\n"
            ],
            "text/html": [
              "<pre style=\"white-space:pre;overflow-x:auto;line-height:normal;font-family:Menlo,'DejaVu Sans Mono',consolas,'Courier New',monospace\"><span style=\"font-weight: bold\"> Trainable params: </span><span style=\"color: #00af00; text-decoration-color: #00af00\">101,770</span> (397.54 KB)\n",
              "</pre>\n"
            ]
          },
          "metadata": {}
        },
        {
          "output_type": "display_data",
          "data": {
            "text/plain": [
              "\u001b[1m Non-trainable params: \u001b[0m\u001b[38;5;34m0\u001b[0m (0.00 B)\n"
            ],
            "text/html": [
              "<pre style=\"white-space:pre;overflow-x:auto;line-height:normal;font-family:Menlo,'DejaVu Sans Mono',consolas,'Courier New',monospace\"><span style=\"font-weight: bold\"> Non-trainable params: </span><span style=\"color: #00af00; text-decoration-color: #00af00\">0</span> (0.00 B)\n",
              "</pre>\n"
            ]
          },
          "metadata": {}
        },
        {
          "output_type": "stream",
          "name": "stdout",
          "text": [
            "Epoch 1/20\n",
            "\u001b[1m788/788\u001b[0m \u001b[32m━━━━━━━━━━━━━━━━━━━━\u001b[0m\u001b[37m\u001b[0m \u001b[1m6s\u001b[0m 7ms/step - accuracy: 0.7565 - loss: 0.7060 - val_accuracy: 0.8351 - val_loss: 0.4608\n",
            "Epoch 2/20\n",
            "\u001b[1m788/788\u001b[0m \u001b[32m━━━━━━━━━━━━━━━━━━━━\u001b[0m\u001b[37m\u001b[0m \u001b[1m4s\u001b[0m 4ms/step - accuracy: 0.8543 - loss: 0.4068 - val_accuracy: 0.8566 - val_loss: 0.4034\n",
            "Epoch 3/20\n",
            "\u001b[1m788/788\u001b[0m \u001b[32m━━━━━━━━━━━━━━━━━━━━\u001b[0m\u001b[37m\u001b[0m \u001b[1m5s\u001b[0m 4ms/step - accuracy: 0.8702 - loss: 0.3561 - val_accuracy: 0.8638 - val_loss: 0.3838\n",
            "Epoch 4/20\n",
            "\u001b[1m788/788\u001b[0m \u001b[32m━━━━━━━━━━━━━━━━━━━━\u001b[0m\u001b[37m\u001b[0m \u001b[1m5s\u001b[0m 6ms/step - accuracy: 0.8811 - loss: 0.3261 - val_accuracy: 0.8664 - val_loss: 0.3789\n",
            "Epoch 5/20\n",
            "\u001b[1m788/788\u001b[0m \u001b[32m━━━━━━━━━━━━━━━━━━━━\u001b[0m\u001b[37m\u001b[0m \u001b[1m4s\u001b[0m 4ms/step - accuracy: 0.8880 - loss: 0.3049 - val_accuracy: 0.8672 - val_loss: 0.3762\n",
            "Epoch 6/20\n",
            "\u001b[1m788/788\u001b[0m \u001b[32m━━━━━━━━━━━━━━━━━━━━\u001b[0m\u001b[37m\u001b[0m \u001b[1m3s\u001b[0m 4ms/step - accuracy: 0.8942 - loss: 0.2885 - val_accuracy: 0.8674 - val_loss: 0.3811\n",
            "Epoch 7/20\n",
            "\u001b[1m788/788\u001b[0m \u001b[32m━━━━━━━━━━━━━━━━━━━━\u001b[0m\u001b[37m\u001b[0m \u001b[1m7s\u001b[0m 7ms/step - accuracy: 0.8996 - loss: 0.2752 - val_accuracy: 0.8696 - val_loss: 0.3879\n",
            "Epoch 8/20\n",
            "\u001b[1m788/788\u001b[0m \u001b[32m━━━━━━━━━━━━━━━━━━━━\u001b[0m\u001b[37m\u001b[0m \u001b[1m4s\u001b[0m 5ms/step - accuracy: 0.9034 - loss: 0.2624 - val_accuracy: 0.8735 - val_loss: 0.3735\n",
            "Epoch 9/20\n",
            "\u001b[1m788/788\u001b[0m \u001b[32m━━━━━━━━━━━━━━━━━━━━\u001b[0m\u001b[37m\u001b[0m \u001b[1m3s\u001b[0m 4ms/step - accuracy: 0.9075 - loss: 0.2530 - val_accuracy: 0.8729 - val_loss: 0.3765\n",
            "Epoch 10/20\n",
            "\u001b[1m788/788\u001b[0m \u001b[32m━━━━━━━━━━━━━━━━━━━━\u001b[0m\u001b[37m\u001b[0m \u001b[1m4s\u001b[0m 5ms/step - accuracy: 0.9107 - loss: 0.2437 - val_accuracy: 0.8756 - val_loss: 0.3754\n",
            "Epoch 11/20\n",
            "\u001b[1m788/788\u001b[0m \u001b[32m━━━━━━━━━━━━━━━━━━━━\u001b[0m\u001b[37m\u001b[0m \u001b[1m4s\u001b[0m 5ms/step - accuracy: 0.9148 - loss: 0.2348 - val_accuracy: 0.8759 - val_loss: 0.3742\n",
            "Epoch 12/20\n",
            "\u001b[1m788/788\u001b[0m \u001b[32m━━━━━━━━━━━━━━━━━━━━\u001b[0m\u001b[37m\u001b[0m \u001b[1m4s\u001b[0m 4ms/step - accuracy: 0.9167 - loss: 0.2290 - val_accuracy: 0.8771 - val_loss: 0.3776\n",
            "Epoch 13/20\n",
            "\u001b[1m788/788\u001b[0m \u001b[32m━━━━━━━━━━━━━━━━━━━━\u001b[0m\u001b[37m\u001b[0m \u001b[1m4s\u001b[0m 5ms/step - accuracy: 0.9205 - loss: 0.2221 - val_accuracy: 0.8783 - val_loss: 0.3811\n",
            "\u001b[1m394/394\u001b[0m \u001b[32m━━━━━━━━━━━━━━━━━━━━\u001b[0m\u001b[37m\u001b[0m \u001b[1m1s\u001b[0m 2ms/step - accuracy: 0.8705 - loss: 0.3916\n",
            "Validation Accuracy: 87.35%\n"
          ]
        }
      ]
    },
    {
      "cell_type": "code",
      "source": [
        "\n",
        "def display_training_progress(history):\n",
        "    \"\"\"\n",
        "    Function to plot training and validation loss and accuracy.\n",
        "    \"\"\"\n",
        "    train_loss = history['loss']\n",
        "    val_loss = history['val_loss']\n",
        "    train_acc = history['accuracy']\n",
        "    val_acc = history['val_accuracy']\n",
        "\n",
        "    # Plot Training and Validation Loss\n",
        "    plt.figure(figsize=(12, 4))\n",
        "    plt.subplot(1, 2, 1)\n",
        "    plt.plot(train_loss, label='Training Loss')\n",
        "    plt.plot(val_loss, label='Validation Loss')\n",
        "    plt.title('Training and Validation Loss')\n",
        "    plt.xlabel('Epochs')\n",
        "    plt.ylabel('Loss')\n",
        "    plt.legend()\n",
        "\n",
        "    # Plot Training and Validation Accuracy\n",
        "    plt.subplot(1, 2, 2)\n",
        "    plt.plot(train_acc, label='Training Accuracy')\n",
        "    plt.plot(val_acc, label='Validation Accuracy')\n",
        "    plt.title('Training and Validation Accuracy')\n",
        "    plt.xlabel('Epochs')\n",
        "    plt.ylabel('Accuracy')\n",
        "    plt.legend()\n",
        "\n",
        "    # Show the plots\n",
        "    plt.show()\n",
        "\n",
        "def print_mean_metrics(history):\n",
        "    \"\"\"\n",
        "    Function to calculate and print mean validation accuracy and loss.\n",
        "    \"\"\"\n",
        "    mean_val_accuracy = np.array(history['val_accuracy']).mean()\n",
        "    mean_val_loss = np.array(history['val_loss']).mean()\n",
        "\n",
        "    print('Mean Validation Accuracy:', mean_val_accuracy)\n",
        "    print('Mean Validation Loss:', mean_val_loss)\n",
        "\n"
      ],
      "metadata": {
        "id": "mPNxjf09FMIU"
      },
      "execution_count": null,
      "outputs": []
    },
    {
      "cell_type": "code",
      "source": [
        "# Assuming baseline_hist is the history object returned by model.fit()\n",
        "display_training_progress(history.history)\n",
        "print_mean_metrics(history.history)\n"
      ],
      "metadata": {
        "colab": {
          "base_uri": "https://localhost:8080/",
          "height": 446
        },
        "id": "SNqh4a_1H3zu",
        "outputId": "08d8a0cb-2213-4830-b913-6d73cedb742d"
      },
      "execution_count": null,
      "outputs": [
        {
          "output_type": "display_data",
          "data": {
            "text/plain": [
              "<Figure size 1200x400 with 2 Axes>"
            ],
            "image/png": "[encoded data removed]"
          },
          "metadata": {}
        },
        {
          "output_type": "stream",
          "name": "stdout",
          "text": [
            "Mean Validation Accuracy: 0.8676434709475591\n",
            "Mean Validation Loss: 0.38696240461789644\n"
          ]
        }
      ]
    },
    {
      "cell_type": "markdown",
      "source": [
        "### **8. Developing a model that overfits**\n"
      ],
      "metadata": {
        "id": "wPft9_fjb46Z"
      }
    },
    {
      "cell_type": "markdown",
      "source": [
        "\n",
        "Developing a Model that Overfits\n",
        "To ensure that our model is well-balanced and not underperforming, it's important to test whether it can reach a point of overfitting. This can be achieved in three ways:\n",
        "\n",
        "a) Adding more layers to the model.\n",
        "\n",
        "b) Increasing the size of the layers.\n",
        "\n",
        "c) Training the model for additional epochs.\n",
        "\n",
        "By pushing the model toward overfitting, we can better understand its capacity and make sure it lies on the optimal boundary between underfitting and overfitting"
      ],
      "metadata": {
        "id": "gwDw8hxMSg4l"
      }
    },
    {
      "cell_type": "code",
      "source": [
        "# Construct the model with additional layers using Sequential API\n",
        "overfit_model = Sequential(name='overfit_model')\n",
        "\n",
        "# Add more layers to increase capacity\n",
        "overfit_model.add(Flatten(input_shape=input_dim))\n",
        "overfit_model.add(Dense(256, activation='relu'))  # Increased size of the layer\n",
        "overfit_model.add(Dense(128, activation='relu'))\n",
        "overfit_model.add(Dense(64, activation='relu'))\n",
        "overfit_model.add(Dense(48, activation='relu'))\n",
        "overfit_model.add(Dense(16, activation='relu'))\n",
        "overfit_model.add(Dense(output_classes, activation='softmax'))\n",
        "overfit_model.summary()\n",
        "\n"
      ],
      "metadata": {
        "colab": {
          "base_uri": "https://localhost:8080/",
          "height": 364
        },
        "id": "_-t00kJO4aYt",
        "outputId": "a009bd2e-10e3-4176-a2d1-f5c83787e4c3"
      },
      "execution_count": null,
      "outputs": [
        {
          "output_type": "display_data",
          "data": {
            "text/plain": [
              "\u001b[1mModel: \"overfit_model\"\u001b[0m\n"
            ],
            "text/html": [
              "<pre style=\"white-space:pre;overflow-x:auto;line-height:normal;font-family:Menlo,'DejaVu Sans Mono',consolas,'Courier New',monospace\"><span style=\"font-weight: bold\">Model: \"overfit_model\"</span>\n",
              "</pre>\n"
            ]
          },
          "metadata": {}
        },
        {
          "output_type": "display_data",
          "data": {
            "text/plain": [
              "┏━━━━━━━━━━━━━━━━━━━━━━━━━━━━━━━━━━━━━━┳━━━━━━━━━━━━━━━━━━━━━━━━━━━━━┳━━━━━━━━━━━━━━━━━┓\n",
              "┃\u001b[1m \u001b[0m\u001b[1mLayer (type)                        \u001b[0m\u001b[1m \u001b[0m┃\u001b[1m \u001b[0m\u001b[1mOutput Shape               \u001b[0m\u001b[1m \u001b[0m┃\u001b[1m \u001b[0m\u001b[1m        Param #\u001b[0m\u001b[1m \u001b[0m┃\n",
              "┡━━━━━━━━━━━━━━━━━━━━━━━━━━━━━━━━━━━━━━╇━━━━━━━━━━━━━━━━━━━━━━━━━━━━━╇━━━━━━━━━━━━━━━━━┩\n",
              "│ flatten_1 (\u001b[38;5;33mFlatten\u001b[0m)                  │ (\u001b[38;5;45mNone\u001b[0m, \u001b[38;5;34m784\u001b[0m)                 │               \u001b[38;5;34m0\u001b[0m │\n",
              "├──────────────────────────────────────┼─────────────────────────────┼─────────────────┤\n",
              "│ dense_2 (\u001b[38;5;33mDense\u001b[0m)                      │ (\u001b[38;5;45mNone\u001b[0m, \u001b[38;5;34m256\u001b[0m)                 │         \u001b[38;5;34m200,960\u001b[0m │\n",
              "├──────────────────────────────────────┼─────────────────────────────┼─────────────────┤\n",
              "│ dense_3 (\u001b[38;5;33mDense\u001b[0m)                      │ (\u001b[38;5;45mNone\u001b[0m, \u001b[38;5;34m128\u001b[0m)                 │          \u001b[38;5;34m32,896\u001b[0m │\n",
              "├──────────────────────────────────────┼─────────────────────────────┼─────────────────┤\n",
              "│ dense_4 (\u001b[38;5;33mDense\u001b[0m)                      │ (\u001b[38;5;45mNone\u001b[0m, \u001b[38;5;34m64\u001b[0m)                  │           \u001b[38;5;34m8,256\u001b[0m │\n",
              "├──────────────────────────────────────┼─────────────────────────────┼─────────────────┤\n",
              "│ dense_5 (\u001b[38;5;33mDense\u001b[0m)                      │ (\u001b[38;5;45mNone\u001b[0m, \u001b[38;5;34m48\u001b[0m)                  │           \u001b[38;5;34m3,120\u001b[0m │\n",
              "├──────────────────────────────────────┼─────────────────────────────┼─────────────────┤\n",
              "│ dense_6 (\u001b[38;5;33mDense\u001b[0m)                      │ (\u001b[38;5;45mNone\u001b[0m, \u001b[38;5;34m16\u001b[0m)                  │             \u001b[38;5;34m784\u001b[0m │\n",
              "├──────────────────────────────────────┼─────────────────────────────┼─────────────────┤\n",
              "│ dense_7 (\u001b[38;5;33mDense\u001b[0m)                      │ (\u001b[38;5;45mNone\u001b[0m, \u001b[38;5;34m10\u001b[0m)                  │             \u001b[38;5;34m170\u001b[0m │\n",
              "└──────────────────────────────────────┴─────────────────────────────┴─────────────────┘\n"
            ],
            "text/html": [
              "<pre style=\"white-space:pre;overflow-x:auto;line-height:normal;font-family:Menlo,'DejaVu Sans Mono',consolas,'Courier New',monospace\">┏━━━━━━━━━━━━━━━━━━━━━━━━━━━━━━━━━━━━━━┳━━━━━━━━━━━━━━━━━━━━━━━━━━━━━┳━━━━━━━━━━━━━━━━━┓\n",
              "┃<span style=\"font-weight: bold\"> Layer (type)                         </span>┃<span style=\"font-weight: bold\"> Output Shape                </span>┃<span style=\"font-weight: bold\">         Param # </span>┃\n",
              "┡━━━━━━━━━━━━━━━━━━━━━━━━━━━━━━━━━━━━━━╇━━━━━━━━━━━━━━━━━━━━━━━━━━━━━╇━━━━━━━━━━━━━━━━━┩\n",
              "│ flatten_1 (<span style=\"color: #0087ff; text-decoration-color: #0087ff\">Flatten</span>)                  │ (<span style=\"color: #00d7ff; text-decoration-color: #00d7ff\">None</span>, <span style=\"color: #00af00; text-decoration-color: #00af00\">784</span>)                 │               <span style=\"color: #00af00; text-decoration-color: #00af00\">0</span> │\n",
              "├──────────────────────────────────────┼─────────────────────────────┼─────────────────┤\n",
              "│ dense_2 (<span style=\"color: #0087ff; text-decoration-color: #0087ff\">Dense</span>)                      │ (<span style=\"color: #00d7ff; text-decoration-color: #00d7ff\">None</span>, <span style=\"color: #00af00; text-decoration-color: #00af00\">256</span>)                 │         <span style=\"color: #00af00; text-decoration-color: #00af00\">200,960</span> │\n",
              "├──────────────────────────────────────┼─────────────────────────────┼─────────────────┤\n",
              "│ dense_3 (<span style=\"color: #0087ff; text-decoration-color: #0087ff\">Dense</span>)                      │ (<span style=\"color: #00d7ff; text-decoration-color: #00d7ff\">None</span>, <span style=\"color: #00af00; text-decoration-color: #00af00\">128</span>)                 │          <span style=\"color: #00af00; text-decoration-color: #00af00\">32,896</span> │\n",
              "├──────────────────────────────────────┼─────────────────────────────┼─────────────────┤\n",
              "│ dense_4 (<span style=\"color: #0087ff; text-decoration-color: #0087ff\">Dense</span>)                      │ (<span style=\"color: #00d7ff; text-decoration-color: #00d7ff\">None</span>, <span style=\"color: #00af00; text-decoration-color: #00af00\">64</span>)                  │           <span style=\"color: #00af00; text-decoration-color: #00af00\">8,256</span> │\n",
              "├──────────────────────────────────────┼─────────────────────────────┼─────────────────┤\n",
              "│ dense_5 (<span style=\"color: #0087ff; text-decoration-color: #0087ff\">Dense</span>)                      │ (<span style=\"color: #00d7ff; text-decoration-color: #00d7ff\">None</span>, <span style=\"color: #00af00; text-decoration-color: #00af00\">48</span>)                  │           <span style=\"color: #00af00; text-decoration-color: #00af00\">3,120</span> │\n",
              "├──────────────────────────────────────┼─────────────────────────────┼─────────────────┤\n",
              "│ dense_6 (<span style=\"color: #0087ff; text-decoration-color: #0087ff\">Dense</span>)                      │ (<span style=\"color: #00d7ff; text-decoration-color: #00d7ff\">None</span>, <span style=\"color: #00af00; text-decoration-color: #00af00\">16</span>)                  │             <span style=\"color: #00af00; text-decoration-color: #00af00\">784</span> │\n",
              "├──────────────────────────────────────┼─────────────────────────────┼─────────────────┤\n",
              "│ dense_7 (<span style=\"color: #0087ff; text-decoration-color: #0087ff\">Dense</span>)                      │ (<span style=\"color: #00d7ff; text-decoration-color: #00d7ff\">None</span>, <span style=\"color: #00af00; text-decoration-color: #00af00\">10</span>)                  │             <span style=\"color: #00af00; text-decoration-color: #00af00\">170</span> │\n",
              "└──────────────────────────────────────┴─────────────────────────────┴─────────────────┘\n",
              "</pre>\n"
            ]
          },
          "metadata": {}
        },
        {
          "output_type": "display_data",
          "data": {
            "text/plain": [
              "\u001b[1m Total params: \u001b[0m\u001b[38;5;34m246,186\u001b[0m (961.66 KB)\n"
            ],
            "text/html": [
              "<pre style=\"white-space:pre;overflow-x:auto;line-height:normal;font-family:Menlo,'DejaVu Sans Mono',consolas,'Courier New',monospace\"><span style=\"font-weight: bold\"> Total params: </span><span style=\"color: #00af00; text-decoration-color: #00af00\">246,186</span> (961.66 KB)\n",
              "</pre>\n"
            ]
          },
          "metadata": {}
        },
        {
          "output_type": "display_data",
          "data": {
            "text/plain": [
              "\u001b[1m Trainable params: \u001b[0m\u001b[38;5;34m246,186\u001b[0m (961.66 KB)\n"
            ],
            "text/html": [
              "<pre style=\"white-space:pre;overflow-x:auto;line-height:normal;font-family:Menlo,'DejaVu Sans Mono',consolas,'Courier New',monospace\"><span style=\"font-weight: bold\"> Trainable params: </span><span style=\"color: #00af00; text-decoration-color: #00af00\">246,186</span> (961.66 KB)\n",
              "</pre>\n"
            ]
          },
          "metadata": {}
        },
        {
          "output_type": "display_data",
          "data": {
            "text/plain": [
              "\u001b[1m Non-trainable params: \u001b[0m\u001b[38;5;34m0\u001b[0m (0.00 B)\n"
            ],
            "text/html": [
              "<pre style=\"white-space:pre;overflow-x:auto;line-height:normal;font-family:Menlo,'DejaVu Sans Mono',consolas,'Courier New',monospace\"><span style=\"font-weight: bold\"> Non-trainable params: </span><span style=\"color: #00af00; text-decoration-color: #00af00\">0</span> (0.00 B)\n",
              "</pre>\n"
            ]
          },
          "metadata": {}
        }
      ]
    },
    {
      "cell_type": "code",
      "source": [
        "# Compile the model\n",
        "overfit_model.compile(\n",
        "    optimizer=optimizer_choice,\n",
        "    loss=loss_function,\n",
        "    metrics=evaluation_metrics\n",
        ")\n",
        "\n",
        "# Train the model with more epochs\n",
        "overfit_history = overfit_model.fit(\n",
        "    X_train, y_train_one_hot,\n",
        "    epochs=20,\n",
        "    batch_size=64,\n",
        "    validation_data=(X_valid, y_valid_one_hot),\n",
        "    callbacks=[early_stop_callback]\n",
        ")\n",
        "\n",
        "# Evaluate the overfitted model on the validation set\n",
        "validation_loss, validation_accuracy = overfit_model.evaluate(X_valid, y_valid_one_hot)\n",
        "\n",
        "print(f'Validation Accuracy: {validation_accuracy * 100:.2f}%')\n",
        "\n"
      ],
      "metadata": {
        "colab": {
          "base_uri": "https://localhost:8080/"
        },
        "id": "a1DvrJYk77Js",
        "outputId": "51f0fec7-a290-4245-e757-fead924df44a"
      },
      "execution_count": null,
      "outputs": [
        {
          "output_type": "stream",
          "name": "stdout",
          "text": [
            "Epoch 1/20\n",
            "\u001b[1m788/788\u001b[0m \u001b[32m━━━━━━━━━━━━━━━━━━━━\u001b[0m\u001b[37m\u001b[0m \u001b[1m7s\u001b[0m 8ms/step - accuracy: 0.6664 - loss: 0.9247 - val_accuracy: 0.8121 - val_loss: 0.4894\n",
            "Epoch 2/20\n",
            "\u001b[1m788/788\u001b[0m \u001b[32m━━━━━━━━━━━━━━━━━━━━\u001b[0m\u001b[37m\u001b[0m \u001b[1m10s\u001b[0m 7ms/step - accuracy: 0.8434 - loss: 0.4290 - val_accuracy: 0.8429 - val_loss: 0.4333\n",
            "Epoch 3/20\n",
            "\u001b[1m788/788\u001b[0m \u001b[32m━━━━━━━━━━━━━━━━━━━━\u001b[0m\u001b[37m\u001b[0m \u001b[1m12s\u001b[0m 9ms/step - accuracy: 0.8657 - loss: 0.3691 - val_accuracy: 0.8521 - val_loss: 0.4069\n",
            "Epoch 4/20\n",
            "\u001b[1m788/788\u001b[0m \u001b[32m━━━━━━━━━━━━━━━━━━━━\u001b[0m\u001b[37m\u001b[0m \u001b[1m5s\u001b[0m 6ms/step - accuracy: 0.8750 - loss: 0.3368 - val_accuracy: 0.8566 - val_loss: 0.3959\n",
            "Epoch 5/20\n",
            "\u001b[1m788/788\u001b[0m \u001b[32m━━━━━━━━━━━━━━━━━━━━\u001b[0m\u001b[37m\u001b[0m \u001b[1m7s\u001b[0m 8ms/step - accuracy: 0.8819 - loss: 0.3163 - val_accuracy: 0.8622 - val_loss: 0.3864\n",
            "\u001b[1m394/394\u001b[0m \u001b[32m━━━━━━━━━━━━━━━━━━━━\u001b[0m\u001b[37m\u001b[0m \u001b[1m1s\u001b[0m 2ms/step - accuracy: 0.8075 - loss: 0.4989\n",
            "Validation Accuracy: 81.21%\n"
          ]
        }
      ]
    },
    {
      "cell_type": "code",
      "source": [
        "# Assuming baseline_hist is the history object returned by model.fit()\n",
        "display_training_progress(overfit_history.history)\n",
        "print_mean_metrics(overfit_history.history)\n"
      ],
      "metadata": {
        "colab": {
          "base_uri": "https://localhost:8080/",
          "height": 446
        },
        "id": "8yCg3cNC94HO",
        "outputId": "5cdcdc4f-45f3-4d1f-b6e3-e44e46da501e"
      },
      "execution_count": null,
      "outputs": [
        {
          "output_type": "display_data",
          "data": {
            "text/plain": [
              "<Figure size 1200x400 with 2 Axes>"
            ],
            "image/png": "[encoded data removed]"
          },
          "metadata": {}
        },
        {
          "output_type": "stream",
          "name": "stdout",
          "text": [
            "Mean Validation Accuracy: 0.8451587200164795\n",
            "Mean Validation Loss: 0.42238251566886903\n"
          ]
        }
      ]
    },
    {
      "cell_type": "markdown",
      "source": [
        "**2. Make the Layers Bigger:**\n",
        "\n",
        "Increasing the number of neurons in each layer gives the model more capacity, which can also lead to overfitting if not controlled."
      ],
      "metadata": {
        "id": "LeBwj0uw_7sM"
      }
    },
    {
      "cell_type": "code",
      "source": [
        "# Construct the model with larger layers\n",
        "bigger_layers_model = Sequential(name='bigger_layers_model')\n",
        "\n",
        "# Add bigger layers to increase capacity\n",
        "bigger_layers_model.add(Flatten(input_shape=input_dim))\n",
        "bigger_layers_model.add(Dense(512, activation='relu'))  # Increased size of the layer\n",
        "bigger_layers_model.add(Dense(256, activation='relu'))  # Increased size of the layer\n",
        "bigger_layers_model.add(Dense(128, activation='relu'))  # Increased size of the layer\n",
        "bigger_layers_model.add(Dense(output_classes, activation='softmax'))\n",
        "\n",
        "bigger_layers_model.summary()\n"
      ],
      "metadata": {
        "colab": {
          "base_uri": "https://localhost:8080/",
          "height": 298
        },
        "id": "-lpGB5sdB8AX",
        "outputId": "20c8c5b9-d96d-49bd-9290-e022894bbbc1"
      },
      "execution_count": null,
      "outputs": [
        {
          "output_type": "display_data",
          "data": {
            "text/plain": [
              "\u001b[1mModel: \"bigger_layers_model\"\u001b[0m\n"
            ],
            "text/html": [
              "<pre style=\"white-space:pre;overflow-x:auto;line-height:normal;font-family:Menlo,'DejaVu Sans Mono',consolas,'Courier New',monospace\"><span style=\"font-weight: bold\">Model: \"bigger_layers_model\"</span>\n",
              "</pre>\n"
            ]
          },
          "metadata": {}
        },
        {
          "output_type": "display_data",
          "data": {
            "text/plain": [
              "┏━━━━━━━━━━━━━━━━━━━━━━━━━━━━━━━━━━━━━━┳━━━━━━━━━━━━━━━━━━━━━━━━━━━━━┳━━━━━━━━━━━━━━━━━┓\n",
              "┃\u001b[1m \u001b[0m\u001b[1mLayer (type)                        \u001b[0m\u001b[1m \u001b[0m┃\u001b[1m \u001b[0m\u001b[1mOutput Shape               \u001b[0m\u001b[1m \u001b[0m┃\u001b[1m \u001b[0m\u001b[1m        Param #\u001b[0m\u001b[1m \u001b[0m┃\n",
              "┡━━━━━━━━━━━━━━━━━━━━━━━━━━━━━━━━━━━━━━╇━━━━━━━━━━━━━━━━━━━━━━━━━━━━━╇━━━━━━━━━━━━━━━━━┩\n",
              "│ flatten_2 (\u001b[38;5;33mFlatten\u001b[0m)                  │ (\u001b[38;5;45mNone\u001b[0m, \u001b[38;5;34m784\u001b[0m)                 │               \u001b[38;5;34m0\u001b[0m │\n",
              "├──────────────────────────────────────┼─────────────────────────────┼─────────────────┤\n",
              "│ dense_8 (\u001b[38;5;33mDense\u001b[0m)                      │ (\u001b[38;5;45mNone\u001b[0m, \u001b[38;5;34m512\u001b[0m)                 │         \u001b[38;5;34m401,920\u001b[0m │\n",
              "├──────────────────────────────────────┼─────────────────────────────┼─────────────────┤\n",
              "│ dense_9 (\u001b[38;5;33mDense\u001b[0m)                      │ (\u001b[38;5;45mNone\u001b[0m, \u001b[38;5;34m256\u001b[0m)                 │         \u001b[38;5;34m131,328\u001b[0m │\n",
              "├──────────────────────────────────────┼─────────────────────────────┼─────────────────┤\n",
              "│ dense_10 (\u001b[38;5;33mDense\u001b[0m)                     │ (\u001b[38;5;45mNone\u001b[0m, \u001b[38;5;34m128\u001b[0m)                 │          \u001b[38;5;34m32,896\u001b[0m │\n",
              "├──────────────────────────────────────┼─────────────────────────────┼─────────────────┤\n",
              "│ dense_11 (\u001b[38;5;33mDense\u001b[0m)                     │ (\u001b[38;5;45mNone\u001b[0m, \u001b[38;5;34m10\u001b[0m)                  │           \u001b[38;5;34m1,290\u001b[0m │\n",
              "└──────────────────────────────────────┴─────────────────────────────┴─────────────────┘\n"
            ],
            "text/html": [
              "<pre style=\"white-space:pre;overflow-x:auto;line-height:normal;font-family:Menlo,'DejaVu Sans Mono',consolas,'Courier New',monospace\">┏━━━━━━━━━━━━━━━━━━━━━━━━━━━━━━━━━━━━━━┳━━━━━━━━━━━━━━━━━━━━━━━━━━━━━┳━━━━━━━━━━━━━━━━━┓\n",
              "┃<span style=\"font-weight: bold\"> Layer (type)                         </span>┃<span style=\"font-weight: bold\"> Output Shape                </span>┃<span style=\"font-weight: bold\">         Param # </span>┃\n",
              "┡━━━━━━━━━━━━━━━━━━━━━━━━━━━━━━━━━━━━━━╇━━━━━━━━━━━━━━━━━━━━━━━━━━━━━╇━━━━━━━━━━━━━━━━━┩\n",
              "│ flatten_2 (<span style=\"color: #0087ff; text-decoration-color: #0087ff\">Flatten</span>)                  │ (<span style=\"color: #00d7ff; text-decoration-color: #00d7ff\">None</span>, <span style=\"color: #00af00; text-decoration-color: #00af00\">784</span>)                 │               <span style=\"color: #00af00; text-decoration-color: #00af00\">0</span> │\n",
              "├──────────────────────────────────────┼─────────────────────────────┼─────────────────┤\n",
              "│ dense_8 (<span style=\"color: #0087ff; text-decoration-color: #0087ff\">Dense</span>)                      │ (<span style=\"color: #00d7ff; text-decoration-color: #00d7ff\">None</span>, <span style=\"color: #00af00; text-decoration-color: #00af00\">512</span>)                 │         <span style=\"color: #00af00; text-decoration-color: #00af00\">401,920</span> │\n",
              "├──────────────────────────────────────┼─────────────────────────────┼─────────────────┤\n",
              "│ dense_9 (<span style=\"color: #0087ff; text-decoration-color: #0087ff\">Dense</span>)                      │ (<span style=\"color: #00d7ff; text-decoration-color: #00d7ff\">None</span>, <span style=\"color: #00af00; text-decoration-color: #00af00\">256</span>)                 │         <span style=\"color: #00af00; text-decoration-color: #00af00\">131,328</span> │\n",
              "├──────────────────────────────────────┼─────────────────────────────┼─────────────────┤\n",
              "│ dense_10 (<span style=\"color: #0087ff; text-decoration-color: #0087ff\">Dense</span>)                     │ (<span style=\"color: #00d7ff; text-decoration-color: #00d7ff\">None</span>, <span style=\"color: #00af00; text-decoration-color: #00af00\">128</span>)                 │          <span style=\"color: #00af00; text-decoration-color: #00af00\">32,896</span> │\n",
              "├──────────────────────────────────────┼─────────────────────────────┼─────────────────┤\n",
              "│ dense_11 (<span style=\"color: #0087ff; text-decoration-color: #0087ff\">Dense</span>)                     │ (<span style=\"color: #00d7ff; text-decoration-color: #00d7ff\">None</span>, <span style=\"color: #00af00; text-decoration-color: #00af00\">10</span>)                  │           <span style=\"color: #00af00; text-decoration-color: #00af00\">1,290</span> │\n",
              "└──────────────────────────────────────┴─────────────────────────────┴─────────────────┘\n",
              "</pre>\n"
            ]
          },
          "metadata": {}
        },
        {
          "output_type": "display_data",
          "data": {
            "text/plain": [
              "\u001b[1m Total params: \u001b[0m\u001b[38;5;34m567,434\u001b[0m (2.16 MB)\n"
            ],
            "text/html": [
              "<pre style=\"white-space:pre;overflow-x:auto;line-height:normal;font-family:Menlo,'DejaVu Sans Mono',consolas,'Courier New',monospace\"><span style=\"font-weight: bold\"> Total params: </span><span style=\"color: #00af00; text-decoration-color: #00af00\">567,434</span> (2.16 MB)\n",
              "</pre>\n"
            ]
          },
          "metadata": {}
        },
        {
          "output_type": "display_data",
          "data": {
            "text/plain": [
              "\u001b[1m Trainable params: \u001b[0m\u001b[38;5;34m567,434\u001b[0m (2.16 MB)\n"
            ],
            "text/html": [
              "<pre style=\"white-space:pre;overflow-x:auto;line-height:normal;font-family:Menlo,'DejaVu Sans Mono',consolas,'Courier New',monospace\"><span style=\"font-weight: bold\"> Trainable params: </span><span style=\"color: #00af00; text-decoration-color: #00af00\">567,434</span> (2.16 MB)\n",
              "</pre>\n"
            ]
          },
          "metadata": {}
        },
        {
          "output_type": "display_data",
          "data": {
            "text/plain": [
              "\u001b[1m Non-trainable params: \u001b[0m\u001b[38;5;34m0\u001b[0m (0.00 B)\n"
            ],
            "text/html": [
              "<pre style=\"white-space:pre;overflow-x:auto;line-height:normal;font-family:Menlo,'DejaVu Sans Mono',consolas,'Courier New',monospace\"><span style=\"font-weight: bold\"> Non-trainable params: </span><span style=\"color: #00af00; text-decoration-color: #00af00\">0</span> (0.00 B)\n",
              "</pre>\n"
            ]
          },
          "metadata": {}
        }
      ]
    },
    {
      "cell_type": "code",
      "source": [
        "# Compile the model\n",
        "bigger_layers_model.compile(\n",
        "    optimizer=optimizer_choice,\n",
        "    loss=loss_function,\n",
        "    metrics=evaluation_metrics\n",
        ")\n",
        "\n",
        "# Train the model with more epochs\n",
        "bigger_layers_history = bigger_layers_model.fit(\n",
        "    X_train, y_train_one_hot,\n",
        "    epochs=20,  # Train for more epochs\n",
        "    batch_size=64,\n",
        "    validation_data=(X_valid, y_valid_one_hot),\n",
        "    callbacks=[early_stop_callback]\n",
        ")\n",
        "\n",
        "# Evaluate the bigger layers model on the validation set\n",
        "validation_loss, validation_accuracy = bigger_layers_model.evaluate(X_valid, y_valid_one_hot)\n",
        "\n",
        "print(f'Validation Accuracy: {validation_accuracy * 100:.2f}%')\n"
      ],
      "metadata": {
        "colab": {
          "base_uri": "https://localhost:8080/"
        },
        "id": "73vM2lnO-6P7",
        "outputId": "add41521-56a6-4c43-cee5-c06b196cf0a2"
      },
      "execution_count": null,
      "outputs": [
        {
          "output_type": "stream",
          "name": "stdout",
          "text": [
            "Epoch 1/20\n",
            "\u001b[1m788/788\u001b[0m \u001b[32m━━━━━━━━━━━━━━━━━━━━\u001b[0m\u001b[37m\u001b[0m \u001b[1m11s\u001b[0m 13ms/step - accuracy: 0.7425 - loss: 0.7071 - val_accuracy: 0.8320 - val_loss: 0.4696\n",
            "Epoch 2/20\n",
            "\u001b[1m788/788\u001b[0m \u001b[32m━━━━━━━━━━━━━━━━━━━━\u001b[0m\u001b[37m\u001b[0m \u001b[1m9s\u001b[0m 12ms/step - accuracy: 0.8534 - loss: 0.3968 - val_accuracy: 0.8412 - val_loss: 0.4441\n",
            "Epoch 3/20\n",
            "\u001b[1m788/788\u001b[0m \u001b[32m━━━━━━━━━━━━━━━━━━━━\u001b[0m\u001b[37m\u001b[0m \u001b[1m9s\u001b[0m 11ms/step - accuracy: 0.8704 - loss: 0.3475 - val_accuracy: 0.8549 - val_loss: 0.4213\n",
            "Epoch 4/20\n",
            "\u001b[1m788/788\u001b[0m \u001b[32m━━━━━━━━━━━━━━━━━━━━\u001b[0m\u001b[37m\u001b[0m \u001b[1m10s\u001b[0m 13ms/step - accuracy: 0.8798 - loss: 0.3220 - val_accuracy: 0.8552 - val_loss: 0.4438\n",
            "Epoch 5/20\n",
            "\u001b[1m788/788\u001b[0m \u001b[32m━━━━━━━━━━━━━━━━━━━━\u001b[0m\u001b[37m\u001b[0m \u001b[1m10s\u001b[0m 13ms/step - accuracy: 0.8886 - loss: 0.3039 - val_accuracy: 0.8559 - val_loss: 0.4320\n",
            "\u001b[1m394/394\u001b[0m \u001b[32m━━━━━━━━━━━━━━━━━━━━\u001b[0m\u001b[37m\u001b[0m \u001b[1m1s\u001b[0m 3ms/step - accuracy: 0.8275 - loss: 0.4820\n",
            "Validation Accuracy: 83.20%\n"
          ]
        }
      ]
    },
    {
      "cell_type": "code",
      "source": [
        "# Plot performance for the bigger layers model\n",
        "display_training_progress(bigger_layers_history.history)\n",
        "print_mean_metrics(bigger_layers_history.history)\n"
      ],
      "metadata": {
        "colab": {
          "base_uri": "https://localhost:8080/",
          "height": 446
        },
        "id": "tA0h5SxnBGvp",
        "outputId": "9b372c7c-5e80-46c8-a396-7c5418a274be"
      },
      "execution_count": null,
      "outputs": [
        {
          "output_type": "display_data",
          "data": {
            "text/plain": [
              "<Figure size 1200x400 with 2 Axes>"
            ],
            "image/png": "[encoded data removed]"
          },
          "metadata": {}
        },
        {
          "output_type": "stream",
          "name": "stdout",
          "text": [
            "Mean Validation Accuracy: 0.8478412508964539\n",
            "Mean Validation Loss: 0.44215345978736875\n"
          ]
        }
      ]
    },
    {
      "cell_type": "markdown",
      "source": [
        "**3. Train for More Epochs:**\n",
        "\n",
        "Training for more epochs allows the model to learn more from the data, but after a certain point, it might start to memorize the training data instead of generalizing, leading to overfitting.\n",
        "\n",
        "Bigger Layers Model is more suitable for training with more epochs because:\n",
        "\n",
        "It already shows better performance with a higher validation accuracy and lower validation loss. The model is not yet overfitting significantly, as seen by the consistent increase in validation accuracy across epochs."
      ],
      "metadata": {
        "id": "h4YcvMtSA3m2"
      }
    },
    {
      "cell_type": "code",
      "source": [
        "# Compile the bigger layers model\n",
        "bigger_layers_model.compile(\n",
        "    optimizer=optimizer_choice,\n",
        "    loss=loss_function,\n",
        "    metrics=evaluation_metrics\n",
        ")\n",
        "\n",
        "\n",
        "# Train the model with more epochs and learning rate scheduling\n",
        "bigger_layers_history_extended = bigger_layers_model.fit(\n",
        "    X_train, y_train_one_hot,\n",
        "    epochs=50,  # Increased number of epochs\n",
        "    batch_size=64,\n",
        "    validation_data=(X_valid, y_valid_one_hot),\n",
        "    callbacks=[early_stop_callback]\n",
        ")\n"
      ],
      "metadata": {
        "colab": {
          "base_uri": "https://localhost:8080/"
        },
        "id": "UQS0nOc2A0dK",
        "outputId": "47b4f031-a7b9-410b-9205-32b4648906be"
      },
      "execution_count": null,
      "outputs": [
        {
          "output_type": "stream",
          "name": "stdout",
          "text": [
            "Epoch 1/50\n",
            "\u001b[1m788/788\u001b[0m \u001b[32m━━━━━━━━━━━━━━━━━━━━\u001b[0m\u001b[37m\u001b[0m \u001b[1m11s\u001b[0m 12ms/step - accuracy: 0.8515 - loss: 0.4019 - val_accuracy: 0.8532 - val_loss: 0.4103\n",
            "Epoch 2/50\n",
            "\u001b[1m788/788\u001b[0m \u001b[32m━━━━━━━━━━━━━━━━━━━━\u001b[0m\u001b[37m\u001b[0m \u001b[1m9s\u001b[0m 11ms/step - accuracy: 0.8701 - loss: 0.3464 - val_accuracy: 0.8468 - val_loss: 0.4350\n",
            "Epoch 3/50\n",
            "\u001b[1m788/788\u001b[0m \u001b[32m━━━━━━━━━━━━━━━━━━━━\u001b[0m\u001b[37m\u001b[0m \u001b[1m12s\u001b[0m 13ms/step - accuracy: 0.8799 - loss: 0.3217 - val_accuracy: 0.8463 - val_loss: 0.4495\n",
            "Epoch 4/50\n",
            "\u001b[1m788/788\u001b[0m \u001b[32m━━━━━━━━━━━━━━━━━━━━\u001b[0m\u001b[37m\u001b[0m \u001b[1m10s\u001b[0m 13ms/step - accuracy: 0.8886 - loss: 0.3022 - val_accuracy: 0.8593 - val_loss: 0.4409\n",
            "Epoch 5/50\n",
            "\u001b[1m788/788\u001b[0m \u001b[32m━━━━━━━━━━━━━━━━━━━━\u001b[0m\u001b[37m\u001b[0m \u001b[1m8s\u001b[0m 11ms/step - accuracy: 0.8925 - loss: 0.2912 - val_accuracy: 0.8596 - val_loss: 0.4437\n"
          ]
        }
      ]
    },
    {
      "cell_type": "markdown",
      "source": [
        "\n",
        "The training process shows that the model is improving in accuracy initially, but the validation loss is starting to plateau and even increase after a few epochs, which is a sign of overfitting."
      ],
      "metadata": {
        "id": "iDQC2HTHIKB1"
      }
    },
    {
      "cell_type": "markdown",
      "source": [
        "### **9. Regularizing your model and tuning your hyperparameters**\n"
      ],
      "metadata": {
        "id": "t_2tdFYkcSxd"
      }
    },
    {
      "cell_type": "markdown",
      "source": [
        "\n",
        "\n",
        "\n",
        "Now that we've established a baseline neural network model and identified an overfitting version, the next step is to fine-tune the hyperparameters to optimize the model's performance. Potential approaches include:\n",
        "\n",
        "*   Applying dropout layers,\n",
        "*   Implementing L1 and L2 regularization techniques,\n",
        "*   Adjust the epoch\n",
        "*   Tuning other hyperparameters, such as the number of units per layer and the optimizer's learning rate.\n",
        "\n",
        "These adjustments will help us achieve a balanced model where both validation and training loss curves decrease and stabilize, indicating a well-optimized configuration.\n",
        "\n",
        "\n"
      ],
      "metadata": {
        "id": "jhYRKE6JXwc2"
      }
    },
    {
      "cell_type": "markdown",
      "source": [
        "**1. Add Dropout layers, apply L2 regularization and early stopping:**\n",
        "\n",
        "Add dropout layers with a 20% rate between the dense layers. This helps in preventing the model from relying too heavily on specific neurons, effectively reducing overfitting.\n",
        "\n",
        "Apply L2 regularization to the dense layers, which penalizes large weights and helps the model generalize better.\n",
        "\n",
        "Use early stopping to halt training when the model's performance on the validation set stops improving, which is good for preventing overfitting.\n",
        "\n",
        "\n",
        "\n",
        "Adding more layers on overfit_model did not improve performance; instead, it slightly overfits. It benefit from regularization techniques like dropout or L2 regularization.\n"
      ],
      "metadata": {
        "id": "t3qEuXopM4vP"
      }
    },
    {
      "cell_type": "code",
      "source": [
        "from keras.regularizers import l2\n",
        "from keras.layers import Dropout\n",
        "\n",
        "early_stop_patience = 10\n",
        "\n",
        "early_stop_callback1 = EarlyStopping(\n",
        "    monitor=monitor_metric,\n",
        "    restore_best_weights=True,\n",
        "    patience=early_stop_patience,\n",
        "    verbose=0\n",
        ")\n",
        "\n",
        "# Define the model with additional layers, Dropout, and L2 regularization\n",
        "regularized_overfit_model = Sequential(name='regularized_overfit_model')\n",
        "\n",
        "# Add layers with L2 regularization and Dropout\n",
        "regularized_overfit_model.add(Flatten(input_shape=input_dim))\n",
        "regularized_overfit_model.add(Dense(256, activation='relu', kernel_regularizer=l2(0.0001)))  # L2 regularization\n",
        "regularized_overfit_model.add(Dropout(0.2))  # Dropout with 50% rate\n",
        "regularized_overfit_model.add(Dense(128, activation='relu', kernel_regularizer=l2(0.0001)))\n",
        "regularized_overfit_model.add(Dropout(0.2))\n",
        "regularized_overfit_model.add(Dense(64, activation='relu', kernel_regularizer=l2(0.0001)))\n",
        "regularized_overfit_model.add(Dropout(0.2))\n",
        "regularized_overfit_model.add(Dense(48, activation='relu', kernel_regularizer=l2(0.0001)))\n",
        "regularized_overfit_model.add(Dropout(0.2))\n",
        "regularized_overfit_model.add(Dense(16, activation='relu', kernel_regularizer=l2(0.0001)))\n",
        "regularized_overfit_model.add(Dense(output_classes, activation='softmax'))\n",
        "\n",
        "regularized_overfit_model.summary()\n"
      ],
      "metadata": {
        "colab": {
          "base_uri": "https://localhost:8080/",
          "height": 496
        },
        "id": "Axxh3cgZUas7",
        "outputId": "255d3cf7-e088-4d46-fd93-e7dba5f5063d"
      },
      "execution_count": null,
      "outputs": [
        {
          "output_type": "display_data",
          "data": {
            "text/plain": [
              "\u001b[1mModel: \"regularized_overfit_model\"\u001b[0m\n"
            ],
            "text/html": [
              "<pre style=\"white-space:pre;overflow-x:auto;line-height:normal;font-family:Menlo,'DejaVu Sans Mono',consolas,'Courier New',monospace\"><span style=\"font-weight: bold\">Model: \"regularized_overfit_model\"</span>\n",
              "</pre>\n"
            ]
          },
          "metadata": {}
        },
        {
          "output_type": "display_data",
          "data": {
            "text/plain": [
              "┏━━━━━━━━━━━━━━━━━━━━━━━━━━━━━━━━━━━━━━┳━━━━━━━━━━━━━━━━━━━━━━━━━━━━━┳━━━━━━━━━━━━━━━━━┓\n",
              "┃\u001b[1m \u001b[0m\u001b[1mLayer (type)                        \u001b[0m\u001b[1m \u001b[0m┃\u001b[1m \u001b[0m\u001b[1mOutput Shape               \u001b[0m\u001b[1m \u001b[0m┃\u001b[1m \u001b[0m\u001b[1m        Param #\u001b[0m\u001b[1m \u001b[0m┃\n",
              "┡━━━━━━━━━━━━━━━━━━━━━━━━━━━━━━━━━━━━━━╇━━━━━━━━━━━━━━━━━━━━━━━━━━━━━╇━━━━━━━━━━━━━━━━━┩\n",
              "│ flatten_3 (\u001b[38;5;33mFlatten\u001b[0m)                  │ (\u001b[38;5;45mNone\u001b[0m, \u001b[38;5;34m784\u001b[0m)                 │               \u001b[38;5;34m0\u001b[0m │\n",
              "├──────────────────────────────────────┼─────────────────────────────┼─────────────────┤\n",
              "│ dense_12 (\u001b[38;5;33mDense\u001b[0m)                     │ (\u001b[38;5;45mNone\u001b[0m, \u001b[38;5;34m256\u001b[0m)                 │         \u001b[38;5;34m200,960\u001b[0m │\n",
              "├──────────────────────────────────────┼─────────────────────────────┼─────────────────┤\n",
              "│ dropout (\u001b[38;5;33mDropout\u001b[0m)                    │ (\u001b[38;5;45mNone\u001b[0m, \u001b[38;5;34m256\u001b[0m)                 │               \u001b[38;5;34m0\u001b[0m │\n",
              "├──────────────────────────────────────┼─────────────────────────────┼─────────────────┤\n",
              "│ dense_13 (\u001b[38;5;33mDense\u001b[0m)                     │ (\u001b[38;5;45mNone\u001b[0m, \u001b[38;5;34m128\u001b[0m)                 │          \u001b[38;5;34m32,896\u001b[0m │\n",
              "├──────────────────────────────────────┼─────────────────────────────┼─────────────────┤\n",
              "│ dropout_1 (\u001b[38;5;33mDropout\u001b[0m)                  │ (\u001b[38;5;45mNone\u001b[0m, \u001b[38;5;34m128\u001b[0m)                 │               \u001b[38;5;34m0\u001b[0m │\n",
              "├──────────────────────────────────────┼─────────────────────────────┼─────────────────┤\n",
              "│ dense_14 (\u001b[38;5;33mDense\u001b[0m)                     │ (\u001b[38;5;45mNone\u001b[0m, \u001b[38;5;34m64\u001b[0m)                  │           \u001b[38;5;34m8,256\u001b[0m │\n",
              "├──────────────────────────────────────┼─────────────────────────────┼─────────────────┤\n",
              "│ dropout_2 (\u001b[38;5;33mDropout\u001b[0m)                  │ (\u001b[38;5;45mNone\u001b[0m, \u001b[38;5;34m64\u001b[0m)                  │               \u001b[38;5;34m0\u001b[0m │\n",
              "├──────────────────────────────────────┼─────────────────────────────┼─────────────────┤\n",
              "│ dense_15 (\u001b[38;5;33mDense\u001b[0m)                     │ (\u001b[38;5;45mNone\u001b[0m, \u001b[38;5;34m48\u001b[0m)                  │           \u001b[38;5;34m3,120\u001b[0m │\n",
              "├──────────────────────────────────────┼─────────────────────────────┼─────────────────┤\n",
              "│ dropout_3 (\u001b[38;5;33mDropout\u001b[0m)                  │ (\u001b[38;5;45mNone\u001b[0m, \u001b[38;5;34m48\u001b[0m)                  │               \u001b[38;5;34m0\u001b[0m │\n",
              "├──────────────────────────────────────┼─────────────────────────────┼─────────────────┤\n",
              "│ dense_16 (\u001b[38;5;33mDense\u001b[0m)                     │ (\u001b[38;5;45mNone\u001b[0m, \u001b[38;5;34m16\u001b[0m)                  │             \u001b[38;5;34m784\u001b[0m │\n",
              "├──────────────────────────────────────┼─────────────────────────────┼─────────────────┤\n",
              "│ dense_17 (\u001b[38;5;33mDense\u001b[0m)                     │ (\u001b[38;5;45mNone\u001b[0m, \u001b[38;5;34m10\u001b[0m)                  │             \u001b[38;5;34m170\u001b[0m │\n",
              "└──────────────────────────────────────┴─────────────────────────────┴─────────────────┘\n"
            ],
            "text/html": [
              "<pre style=\"white-space:pre;overflow-x:auto;line-height:normal;font-family:Menlo,'DejaVu Sans Mono',consolas,'Courier New',monospace\">┏━━━━━━━━━━━━━━━━━━━━━━━━━━━━━━━━━━━━━━┳━━━━━━━━━━━━━━━━━━━━━━━━━━━━━┳━━━━━━━━━━━━━━━━━┓\n",
              "┃<span style=\"font-weight: bold\"> Layer (type)                         </span>┃<span style=\"font-weight: bold\"> Output Shape                </span>┃<span style=\"font-weight: bold\">         Param # </span>┃\n",
              "┡━━━━━━━━━━━━━━━━━━━━━━━━━━━━━━━━━━━━━━╇━━━━━━━━━━━━━━━━━━━━━━━━━━━━━╇━━━━━━━━━━━━━━━━━┩\n",
              "│ flatten_3 (<span style=\"color: #0087ff; text-decoration-color: #0087ff\">Flatten</span>)                  │ (<span style=\"color: #00d7ff; text-decoration-color: #00d7ff\">None</span>, <span style=\"color: #00af00; text-decoration-color: #00af00\">784</span>)                 │               <span style=\"color: #00af00; text-decoration-color: #00af00\">0</span> │\n",
              "├──────────────────────────────────────┼─────────────────────────────┼─────────────────┤\n",
              "│ dense_12 (<span style=\"color: #0087ff; text-decoration-color: #0087ff\">Dense</span>)                     │ (<span style=\"color: #00d7ff; text-decoration-color: #00d7ff\">None</span>, <span style=\"color: #00af00; text-decoration-color: #00af00\">256</span>)                 │         <span style=\"color: #00af00; text-decoration-color: #00af00\">200,960</span> │\n",
              "├──────────────────────────────────────┼─────────────────────────────┼─────────────────┤\n",
              "│ dropout (<span style=\"color: #0087ff; text-decoration-color: #0087ff\">Dropout</span>)                    │ (<span style=\"color: #00d7ff; text-decoration-color: #00d7ff\">None</span>, <span style=\"color: #00af00; text-decoration-color: #00af00\">256</span>)                 │               <span style=\"color: #00af00; text-decoration-color: #00af00\">0</span> │\n",
              "├──────────────────────────────────────┼─────────────────────────────┼─────────────────┤\n",
              "│ dense_13 (<span style=\"color: #0087ff; text-decoration-color: #0087ff\">Dense</span>)                     │ (<span style=\"color: #00d7ff; text-decoration-color: #00d7ff\">None</span>, <span style=\"color: #00af00; text-decoration-color: #00af00\">128</span>)                 │          <span style=\"color: #00af00; text-decoration-color: #00af00\">32,896</span> │\n",
              "├──────────────────────────────────────┼─────────────────────────────┼─────────────────┤\n",
              "│ dropout_1 (<span style=\"color: #0087ff; text-decoration-color: #0087ff\">Dropout</span>)                  │ (<span style=\"color: #00d7ff; text-decoration-color: #00d7ff\">None</span>, <span style=\"color: #00af00; text-decoration-color: #00af00\">128</span>)                 │               <span style=\"color: #00af00; text-decoration-color: #00af00\">0</span> │\n",
              "├──────────────────────────────────────┼─────────────────────────────┼─────────────────┤\n",
              "│ dense_14 (<span style=\"color: #0087ff; text-decoration-color: #0087ff\">Dense</span>)                     │ (<span style=\"color: #00d7ff; text-decoration-color: #00d7ff\">None</span>, <span style=\"color: #00af00; text-decoration-color: #00af00\">64</span>)                  │           <span style=\"color: #00af00; text-decoration-color: #00af00\">8,256</span> │\n",
              "├──────────────────────────────────────┼─────────────────────────────┼─────────────────┤\n",
              "│ dropout_2 (<span style=\"color: #0087ff; text-decoration-color: #0087ff\">Dropout</span>)                  │ (<span style=\"color: #00d7ff; text-decoration-color: #00d7ff\">None</span>, <span style=\"color: #00af00; text-decoration-color: #00af00\">64</span>)                  │               <span style=\"color: #00af00; text-decoration-color: #00af00\">0</span> │\n",
              "├──────────────────────────────────────┼─────────────────────────────┼─────────────────┤\n",
              "│ dense_15 (<span style=\"color: #0087ff; text-decoration-color: #0087ff\">Dense</span>)                     │ (<span style=\"color: #00d7ff; text-decoration-color: #00d7ff\">None</span>, <span style=\"color: #00af00; text-decoration-color: #00af00\">48</span>)                  │           <span style=\"color: #00af00; text-decoration-color: #00af00\">3,120</span> │\n",
              "├──────────────────────────────────────┼─────────────────────────────┼─────────────────┤\n",
              "│ dropout_3 (<span style=\"color: #0087ff; text-decoration-color: #0087ff\">Dropout</span>)                  │ (<span style=\"color: #00d7ff; text-decoration-color: #00d7ff\">None</span>, <span style=\"color: #00af00; text-decoration-color: #00af00\">48</span>)                  │               <span style=\"color: #00af00; text-decoration-color: #00af00\">0</span> │\n",
              "├──────────────────────────────────────┼─────────────────────────────┼─────────────────┤\n",
              "│ dense_16 (<span style=\"color: #0087ff; text-decoration-color: #0087ff\">Dense</span>)                     │ (<span style=\"color: #00d7ff; text-decoration-color: #00d7ff\">None</span>, <span style=\"color: #00af00; text-decoration-color: #00af00\">16</span>)                  │             <span style=\"color: #00af00; text-decoration-color: #00af00\">784</span> │\n",
              "├──────────────────────────────────────┼─────────────────────────────┼─────────────────┤\n",
              "│ dense_17 (<span style=\"color: #0087ff; text-decoration-color: #0087ff\">Dense</span>)                     │ (<span style=\"color: #00d7ff; text-decoration-color: #00d7ff\">None</span>, <span style=\"color: #00af00; text-decoration-color: #00af00\">10</span>)                  │             <span style=\"color: #00af00; text-decoration-color: #00af00\">170</span> │\n",
              "└──────────────────────────────────────┴─────────────────────────────┴─────────────────┘\n",
              "</pre>\n"
            ]
          },
          "metadata": {}
        },
        {
          "output_type": "display_data",
          "data": {
            "text/plain": [
              "\u001b[1m Total params: \u001b[0m\u001b[38;5;34m246,186\u001b[0m (961.66 KB)\n"
            ],
            "text/html": [
              "<pre style=\"white-space:pre;overflow-x:auto;line-height:normal;font-family:Menlo,'DejaVu Sans Mono',consolas,'Courier New',monospace\"><span style=\"font-weight: bold\"> Total params: </span><span style=\"color: #00af00; text-decoration-color: #00af00\">246,186</span> (961.66 KB)\n",
              "</pre>\n"
            ]
          },
          "metadata": {}
        },
        {
          "output_type": "display_data",
          "data": {
            "text/plain": [
              "\u001b[1m Trainable params: \u001b[0m\u001b[38;5;34m246,186\u001b[0m (961.66 KB)\n"
            ],
            "text/html": [
              "<pre style=\"white-space:pre;overflow-x:auto;line-height:normal;font-family:Menlo,'DejaVu Sans Mono',consolas,'Courier New',monospace\"><span style=\"font-weight: bold\"> Trainable params: </span><span style=\"color: #00af00; text-decoration-color: #00af00\">246,186</span> (961.66 KB)\n",
              "</pre>\n"
            ]
          },
          "metadata": {}
        },
        {
          "output_type": "display_data",
          "data": {
            "text/plain": [
              "\u001b[1m Non-trainable params: \u001b[0m\u001b[38;5;34m0\u001b[0m (0.00 B)\n"
            ],
            "text/html": [
              "<pre style=\"white-space:pre;overflow-x:auto;line-height:normal;font-family:Menlo,'DejaVu Sans Mono',consolas,'Courier New',monospace\"><span style=\"font-weight: bold\"> Non-trainable params: </span><span style=\"color: #00af00; text-decoration-color: #00af00\">0</span> (0.00 B)\n",
              "</pre>\n"
            ]
          },
          "metadata": {}
        }
      ]
    },
    {
      "cell_type": "code",
      "source": [
        "# Compile the model\n",
        "regularized_overfit_model.compile(\n",
        "    optimizer=optimizer_choice,\n",
        "    loss=loss_function,\n",
        "    metrics=evaluation_metrics\n",
        ")\n",
        "\n",
        "# Train the model with regularization\n",
        "regularized_overfit_history = regularized_overfit_model.fit(\n",
        "    X_train, y_train_one_hot,\n",
        "    epochs=20,\n",
        "    batch_size=64,\n",
        "    validation_data=(X_valid, y_valid_one_hot),\n",
        "    callbacks=[early_stop_callback1]\n",
        ")\n",
        "\n",
        "# Evaluate the regularized model on the validation set\n",
        "validation_loss, validation_accuracy = regularized_overfit_model.evaluate(X_valid, y_valid_one_hot)\n",
        "\n",
        "print(f'Validation Accuracy: {validation_accuracy * 100:.2f}%')\n"
      ],
      "metadata": {
        "colab": {
          "base_uri": "https://localhost:8080/"
        },
        "id": "TuivZi-bXb-9",
        "outputId": "ad9faad6-f184-43bc-ec1c-da61cbd1518d"
      },
      "execution_count": null,
      "outputs": [
        {
          "output_type": "stream",
          "name": "stdout",
          "text": [
            "Epoch 1/20\n",
            "\u001b[1m788/788\u001b[0m \u001b[32m━━━━━━━━━━━━━━━━━━━━\u001b[0m\u001b[37m\u001b[0m \u001b[1m9s\u001b[0m 9ms/step - accuracy: 0.6246 - loss: 1.1060 - val_accuracy: 0.8238 - val_loss: 0.5738\n",
            "Epoch 2/20\n",
            "\u001b[1m788/788\u001b[0m \u001b[32m━━━━━━━━━━━━━━━━━━━━\u001b[0m\u001b[37m\u001b[0m \u001b[1m10s\u001b[0m 8ms/step - accuracy: 0.8187 - loss: 0.5884 - val_accuracy: 0.8171 - val_loss: 0.5582\n",
            "Epoch 3/20\n",
            "\u001b[1m788/788\u001b[0m \u001b[32m━━━━━━━━━━━━━━━━━━━━\u001b[0m\u001b[37m\u001b[0m \u001b[1m8s\u001b[0m 10ms/step - accuracy: 0.8387 - loss: 0.5312 - val_accuracy: 0.8495 - val_loss: 0.4800\n",
            "Epoch 4/20\n",
            "\u001b[1m788/788\u001b[0m \u001b[32m━━━━━━━━━━━━━━━━━━━━\u001b[0m\u001b[37m\u001b[0m \u001b[1m10s\u001b[0m 10ms/step - accuracy: 0.8509 - loss: 0.4953 - val_accuracy: 0.8538 - val_loss: 0.4697\n",
            "Epoch 5/20\n",
            "\u001b[1m788/788\u001b[0m \u001b[32m━━━━━━━━━━━━━━━━━━━━\u001b[0m\u001b[37m\u001b[0m \u001b[1m9s\u001b[0m 8ms/step - accuracy: 0.8591 - loss: 0.4768 - val_accuracy: 0.8575 - val_loss: 0.4833\n",
            "Epoch 6/20\n",
            "\u001b[1m788/788\u001b[0m \u001b[32m━━━━━━━━━━━━━━━━━━━━\u001b[0m\u001b[37m\u001b[0m \u001b[1m8s\u001b[0m 10ms/step - accuracy: 0.8610 - loss: 0.4606 - val_accuracy: 0.8655 - val_loss: 0.4529\n",
            "Epoch 7/20\n",
            "\u001b[1m788/788\u001b[0m \u001b[32m━━━━━━━━━━━━━━━━━━━━\u001b[0m\u001b[37m\u001b[0m \u001b[1m9s\u001b[0m 8ms/step - accuracy: 0.8637 - loss: 0.4578 - val_accuracy: 0.8591 - val_loss: 0.4737\n",
            "Epoch 8/20\n",
            "\u001b[1m788/788\u001b[0m \u001b[32m━━━━━━━━━━━━━━━━━━━━\u001b[0m\u001b[37m\u001b[0m \u001b[1m10s\u001b[0m 8ms/step - accuracy: 0.8673 - loss: 0.4466 - val_accuracy: 0.8571 - val_loss: 0.4590\n",
            "Epoch 9/20\n",
            "\u001b[1m788/788\u001b[0m \u001b[32m━━━━━━━━━━━━━━━━━━━━\u001b[0m\u001b[37m\u001b[0m \u001b[1m8s\u001b[0m 10ms/step - accuracy: 0.8681 - loss: 0.4424 - val_accuracy: 0.8586 - val_loss: 0.4682\n",
            "Epoch 10/20\n",
            "\u001b[1m788/788\u001b[0m \u001b[32m━━━━━━━━━━━━━━━━━━━━\u001b[0m\u001b[37m\u001b[0m \u001b[1m6s\u001b[0m 8ms/step - accuracy: 0.8699 - loss: 0.4366 - val_accuracy: 0.8567 - val_loss: 0.4797\n",
            "Epoch 11/20\n",
            "\u001b[1m788/788\u001b[0m \u001b[32m━━━━━━━━━━━━━━━━━━━━\u001b[0m\u001b[37m\u001b[0m \u001b[1m10s\u001b[0m 8ms/step - accuracy: 0.8721 - loss: 0.4311 - val_accuracy: 0.8640 - val_loss: 0.4637\n",
            "Epoch 12/20\n",
            "\u001b[1m788/788\u001b[0m \u001b[32m━━━━━━━━━━━━━━━━━━━━\u001b[0m\u001b[37m\u001b[0m \u001b[1m8s\u001b[0m 10ms/step - accuracy: 0.8740 - loss: 0.4332 - val_accuracy: 0.8712 - val_loss: 0.4381\n",
            "Epoch 13/20\n",
            "\u001b[1m788/788\u001b[0m \u001b[32m━━━━━━━━━━━━━━━━━━━━\u001b[0m\u001b[37m\u001b[0m \u001b[1m9s\u001b[0m 8ms/step - accuracy: 0.8727 - loss: 0.4261 - val_accuracy: 0.8633 - val_loss: 0.4628\n",
            "Epoch 14/20\n",
            "\u001b[1m788/788\u001b[0m \u001b[32m━━━━━━━━━━━━━━━━━━━━\u001b[0m\u001b[37m\u001b[0m \u001b[1m8s\u001b[0m 10ms/step - accuracy: 0.8733 - loss: 0.4294 - val_accuracy: 0.8639 - val_loss: 0.4706\n",
            "Epoch 15/20\n",
            "\u001b[1m788/788\u001b[0m \u001b[32m━━━━━━━━━━━━━━━━━━━━\u001b[0m\u001b[37m\u001b[0m \u001b[1m6s\u001b[0m 8ms/step - accuracy: 0.8748 - loss: 0.4248 - val_accuracy: 0.8677 - val_loss: 0.4547\n",
            "Epoch 16/20\n",
            "\u001b[1m788/788\u001b[0m \u001b[32m━━━━━━━━━━━━━━━━━━━━\u001b[0m\u001b[37m\u001b[0m \u001b[1m8s\u001b[0m 10ms/step - accuracy: 0.8807 - loss: 0.4164 - val_accuracy: 0.8628 - val_loss: 0.4621\n",
            "Epoch 17/20\n",
            "\u001b[1m788/788\u001b[0m \u001b[32m━━━━━━━━━━━━━━━━━━━━\u001b[0m\u001b[37m\u001b[0m \u001b[1m6s\u001b[0m 8ms/step - accuracy: 0.8782 - loss: 0.4210 - val_accuracy: 0.8629 - val_loss: 0.4768\n",
            "Epoch 18/20\n",
            "\u001b[1m788/788\u001b[0m \u001b[32m━━━━━━━━━━━━━━━━━━━━\u001b[0m\u001b[37m\u001b[0m \u001b[1m8s\u001b[0m 10ms/step - accuracy: 0.8798 - loss: 0.4136 - val_accuracy: 0.8657 - val_loss: 0.4492\n",
            "Epoch 19/20\n",
            "\u001b[1m788/788\u001b[0m \u001b[32m━━━━━━━━━━━━━━━━━━━━\u001b[0m\u001b[37m\u001b[0m \u001b[1m6s\u001b[0m 8ms/step - accuracy: 0.8805 - loss: 0.4179 - val_accuracy: 0.8758 - val_loss: 0.4338\n",
            "Epoch 20/20\n",
            "\u001b[1m788/788\u001b[0m \u001b[32m━━━━━━━━━━━━━━━━━━━━\u001b[0m\u001b[37m\u001b[0m \u001b[1m8s\u001b[0m 10ms/step - accuracy: 0.8793 - loss: 0.4140 - val_accuracy: 0.8708 - val_loss: 0.4686\n",
            "\u001b[1m394/394\u001b[0m \u001b[32m━━━━━━━━━━━━━━━━━━━━\u001b[0m\u001b[37m\u001b[0m \u001b[1m1s\u001b[0m 3ms/step - accuracy: 0.8715 - loss: 0.4427\n",
            "Validation Accuracy: 87.58%\n"
          ]
        }
      ]
    },
    {
      "cell_type": "code",
      "source": [
        "# Assuming baseline_hist is the history object returned by model.fit()\n",
        "display_training_progress(regularized_overfit_history.history)\n",
        "print_mean_metrics(regularized_overfit_history.history)"
      ],
      "metadata": {
        "colab": {
          "base_uri": "https://localhost:8080/",
          "height": 446
        },
        "id": "R-p5eZs0WavM",
        "outputId": "02ce6988-9beb-4fcf-f5ee-080f37527351"
      },
      "execution_count": null,
      "outputs": [
        {
          "output_type": "display_data",
          "data": {
            "text/plain": [
              "<Figure size 1200x400 with 2 Axes>"
            ],
            "image/png": "[encoded data removed]"
          },
          "metadata": {}
        },
        {
          "output_type": "stream",
          "name": "stdout",
          "text": [
            "Mean Validation Accuracy: 0.8583452343940735\n",
            "Mean Validation Loss: 0.47394497245550155\n"
          ]
        }
      ]
    },
    {
      "cell_type": "markdown",
      "source": [
        "### **Analysis of the Model's Performance**\n",
        "\n",
        "Potential Overfitting:\n",
        "Training Accuracy vs. Validation Accuracy: Training accuracy continues to improve, reaching 87.93%, while validation accuracy improves more slowly and eventually starts to fluctuate around 87.58%. This suggests that the model is indeed starting to overfit the training data as it continues to improve on training but not on validation. The validation loss shows signs of improvement early on, but it later fluctuates and doesn’t consistently decrease. This is another sign that your model might be overfitting or struggling with the capacity to generalize.\n",
        "\n",
        "\n",
        "### **Recommendations to Improve the model:**\n",
        "\n",
        "Current Architecture: The model has several dense layers (256, 128, 64, 48, 16) which might be more complex than necessary for the Fashion MNIST dataset. Consider reducing the number of dense layers or the number of neurons in each layer. Reducing the complexity of the model can help prevent overfitting, as a simpler model is less likely to memorize the training data and more likely to generalize well."
      ],
      "metadata": {
        "id": "glqepct4yRuV"
      }
    },
    {
      "cell_type": "code",
      "source": [
        "from keras.regularizers import l2\n",
        "from keras.layers import Dropout\n",
        "\n",
        "early_stop_patience = 10\n",
        "\n",
        "early_stop_callback1 = EarlyStopping(\n",
        "    monitor=monitor_metric,\n",
        "    restore_best_weights=True,\n",
        "    patience=early_stop_patience,\n",
        "    verbose=0\n",
        ")\n",
        "\n",
        "# Define the model with additional layers, Dropout, and L2 regularization\n",
        "regularized_overfit_model = Sequential(name='regularized_overfit_model')\n",
        "\n",
        "# Add layers with L2 regularization and Dropout\n",
        "regularized_overfit_model.add(Flatten(input_shape=input_dim))\n",
        "regularized_overfit_model.add(Dense(128, activation='relu', kernel_regularizer=l2(0.0001)))\n",
        "regularized_overfit_model.add(Dropout(0.2))\n",
        "regularized_overfit_model.add(Dense(64, activation='relu', kernel_regularizer=l2(0.0001)))\n",
        "regularized_overfit_model.add(Dense(output_classes, activation='softmax'))\n",
        "\n",
        "regularized_overfit_model.summary()\n"
      ],
      "metadata": {
        "colab": {
          "base_uri": "https://localhost:8080/",
          "height": 298
        },
        "id": "1QihZVkdzech",
        "outputId": "43d47bbb-57df-47a1-b38b-4d019e06b533"
      },
      "execution_count": null,
      "outputs": [
        {
          "output_type": "display_data",
          "data": {
            "text/plain": [
              "\u001b[1mModel: \"regularized_overfit_model\"\u001b[0m\n"
            ],
            "text/html": [
              "<pre style=\"white-space:pre;overflow-x:auto;line-height:normal;font-family:Menlo,'DejaVu Sans Mono',consolas,'Courier New',monospace\"><span style=\"font-weight: bold\">Model: \"regularized_overfit_model\"</span>\n",
              "</pre>\n"
            ]
          },
          "metadata": {}
        },
        {
          "output_type": "display_data",
          "data": {
            "text/plain": [
              "┏━━━━━━━━━━━━━━━━━━━━━━━━━━━━━━━━━━━━━━┳━━━━━━━━━━━━━━━━━━━━━━━━━━━━━┳━━━━━━━━━━━━━━━━━┓\n",
              "┃\u001b[1m \u001b[0m\u001b[1mLayer (type)                        \u001b[0m\u001b[1m \u001b[0m┃\u001b[1m \u001b[0m\u001b[1mOutput Shape               \u001b[0m\u001b[1m \u001b[0m┃\u001b[1m \u001b[0m\u001b[1m        Param #\u001b[0m\u001b[1m \u001b[0m┃\n",
              "┡━━━━━━━━━━━━━━━━━━━━━━━━━━━━━━━━━━━━━━╇━━━━━━━━━━━━━━━━━━━━━━━━━━━━━╇━━━━━━━━━━━━━━━━━┩\n",
              "│ flatten_23 (\u001b[38;5;33mFlatten\u001b[0m)                 │ (\u001b[38;5;45mNone\u001b[0m, \u001b[38;5;34m784\u001b[0m)                 │               \u001b[38;5;34m0\u001b[0m │\n",
              "├──────────────────────────────────────┼─────────────────────────────┼─────────────────┤\n",
              "│ dense_83 (\u001b[38;5;33mDense\u001b[0m)                     │ (\u001b[38;5;45mNone\u001b[0m, \u001b[38;5;34m128\u001b[0m)                 │         \u001b[38;5;34m100,480\u001b[0m │\n",
              "├──────────────────────────────────────┼─────────────────────────────┼─────────────────┤\n",
              "│ dropout_44 (\u001b[38;5;33mDropout\u001b[0m)                 │ (\u001b[38;5;45mNone\u001b[0m, \u001b[38;5;34m128\u001b[0m)                 │               \u001b[38;5;34m0\u001b[0m │\n",
              "├──────────────────────────────────────┼─────────────────────────────┼─────────────────┤\n",
              "│ dense_84 (\u001b[38;5;33mDense\u001b[0m)                     │ (\u001b[38;5;45mNone\u001b[0m, \u001b[38;5;34m64\u001b[0m)                  │           \u001b[38;5;34m8,256\u001b[0m │\n",
              "├──────────────────────────────────────┼─────────────────────────────┼─────────────────┤\n",
              "│ dense_85 (\u001b[38;5;33mDense\u001b[0m)                     │ (\u001b[38;5;45mNone\u001b[0m, \u001b[38;5;34m10\u001b[0m)                  │             \u001b[38;5;34m650\u001b[0m │\n",
              "└──────────────────────────────────────┴─────────────────────────────┴─────────────────┘\n"
            ],
            "text/html": [
              "<pre style=\"white-space:pre;overflow-x:auto;line-height:normal;font-family:Menlo,'DejaVu Sans Mono',consolas,'Courier New',monospace\">┏━━━━━━━━━━━━━━━━━━━━━━━━━━━━━━━━━━━━━━┳━━━━━━━━━━━━━━━━━━━━━━━━━━━━━┳━━━━━━━━━━━━━━━━━┓\n",
              "┃<span style=\"font-weight: bold\"> Layer (type)                         </span>┃<span style=\"font-weight: bold\"> Output Shape                </span>┃<span style=\"font-weight: bold\">         Param # </span>┃\n",
              "┡━━━━━━━━━━━━━━━━━━━━━━━━━━━━━━━━━━━━━━╇━━━━━━━━━━━━━━━━━━━━━━━━━━━━━╇━━━━━━━━━━━━━━━━━┩\n",
              "│ flatten_23 (<span style=\"color: #0087ff; text-decoration-color: #0087ff\">Flatten</span>)                 │ (<span style=\"color: #00d7ff; text-decoration-color: #00d7ff\">None</span>, <span style=\"color: #00af00; text-decoration-color: #00af00\">784</span>)                 │               <span style=\"color: #00af00; text-decoration-color: #00af00\">0</span> │\n",
              "├──────────────────────────────────────┼─────────────────────────────┼─────────────────┤\n",
              "│ dense_83 (<span style=\"color: #0087ff; text-decoration-color: #0087ff\">Dense</span>)                     │ (<span style=\"color: #00d7ff; text-decoration-color: #00d7ff\">None</span>, <span style=\"color: #00af00; text-decoration-color: #00af00\">128</span>)                 │         <span style=\"color: #00af00; text-decoration-color: #00af00\">100,480</span> │\n",
              "├──────────────────────────────────────┼─────────────────────────────┼─────────────────┤\n",
              "│ dropout_44 (<span style=\"color: #0087ff; text-decoration-color: #0087ff\">Dropout</span>)                 │ (<span style=\"color: #00d7ff; text-decoration-color: #00d7ff\">None</span>, <span style=\"color: #00af00; text-decoration-color: #00af00\">128</span>)                 │               <span style=\"color: #00af00; text-decoration-color: #00af00\">0</span> │\n",
              "├──────────────────────────────────────┼─────────────────────────────┼─────────────────┤\n",
              "│ dense_84 (<span style=\"color: #0087ff; text-decoration-color: #0087ff\">Dense</span>)                     │ (<span style=\"color: #00d7ff; text-decoration-color: #00d7ff\">None</span>, <span style=\"color: #00af00; text-decoration-color: #00af00\">64</span>)                  │           <span style=\"color: #00af00; text-decoration-color: #00af00\">8,256</span> │\n",
              "├──────────────────────────────────────┼─────────────────────────────┼─────────────────┤\n",
              "│ dense_85 (<span style=\"color: #0087ff; text-decoration-color: #0087ff\">Dense</span>)                     │ (<span style=\"color: #00d7ff; text-decoration-color: #00d7ff\">None</span>, <span style=\"color: #00af00; text-decoration-color: #00af00\">10</span>)                  │             <span style=\"color: #00af00; text-decoration-color: #00af00\">650</span> │\n",
              "└──────────────────────────────────────┴─────────────────────────────┴─────────────────┘\n",
              "</pre>\n"
            ]
          },
          "metadata": {}
        },
        {
          "output_type": "display_data",
          "data": {
            "text/plain": [
              "\u001b[1m Total params: \u001b[0m\u001b[38;5;34m109,386\u001b[0m (427.29 KB)\n"
            ],
            "text/html": [
              "<pre style=\"white-space:pre;overflow-x:auto;line-height:normal;font-family:Menlo,'DejaVu Sans Mono',consolas,'Courier New',monospace\"><span style=\"font-weight: bold\"> Total params: </span><span style=\"color: #00af00; text-decoration-color: #00af00\">109,386</span> (427.29 KB)\n",
              "</pre>\n"
            ]
          },
          "metadata": {}
        },
        {
          "output_type": "display_data",
          "data": {
            "text/plain": [
              "\u001b[1m Trainable params: \u001b[0m\u001b[38;5;34m109,386\u001b[0m (427.29 KB)\n"
            ],
            "text/html": [
              "<pre style=\"white-space:pre;overflow-x:auto;line-height:normal;font-family:Menlo,'DejaVu Sans Mono',consolas,'Courier New',monospace\"><span style=\"font-weight: bold\"> Trainable params: </span><span style=\"color: #00af00; text-decoration-color: #00af00\">109,386</span> (427.29 KB)\n",
              "</pre>\n"
            ]
          },
          "metadata": {}
        },
        {
          "output_type": "display_data",
          "data": {
            "text/plain": [
              "\u001b[1m Non-trainable params: \u001b[0m\u001b[38;5;34m0\u001b[0m (0.00 B)\n"
            ],
            "text/html": [
              "<pre style=\"white-space:pre;overflow-x:auto;line-height:normal;font-family:Menlo,'DejaVu Sans Mono',consolas,'Courier New',monospace\"><span style=\"font-weight: bold\"> Non-trainable params: </span><span style=\"color: #00af00; text-decoration-color: #00af00\">0</span> (0.00 B)\n",
              "</pre>\n"
            ]
          },
          "metadata": {}
        }
      ]
    },
    {
      "cell_type": "code",
      "source": [
        "# Compile the model\n",
        "regularized_overfit_model.compile(\n",
        "    optimizer=optimizer_choice,\n",
        "    loss=loss_function,\n",
        "    metrics=evaluation_metrics\n",
        ")\n",
        "\n",
        "# Train the model with regularization\n",
        "regularized_overfit_history = regularized_overfit_model.fit(\n",
        "    X_train, y_train_one_hot,\n",
        "    epochs=20,\n",
        "    batch_size=64,\n",
        "    validation_data=(X_valid, y_valid_one_hot),\n",
        "    callbacks=[early_stop_callback1]\n",
        ")\n",
        "\n",
        "# Evaluate the regularized model on the validation set\n",
        "validation_loss, validation_accuracy = regularized_overfit_model.evaluate(X_valid, y_valid_one_hot)\n",
        "\n",
        "print(f'Validation Accuracy: {validation_accuracy * 100:.2f}%')\n"
      ],
      "metadata": {
        "colab": {
          "base_uri": "https://localhost:8080/"
        },
        "id": "8nMvPeTqzzdO",
        "outputId": "14759a44-f00a-4419-fbab-a1451ddef07b"
      },
      "execution_count": null,
      "outputs": [
        {
          "output_type": "stream",
          "name": "stdout",
          "text": [
            "Epoch 1/20\n",
            "\u001b[1m788/788\u001b[0m \u001b[32m━━━━━━━━━━━━━━━━━━━━\u001b[0m\u001b[37m\u001b[0m \u001b[1m5s\u001b[0m 5ms/step - accuracy: 0.7301 - loss: 0.7959 - val_accuracy: 0.8388 - val_loss: 0.4849\n",
            "Epoch 2/20\n",
            "\u001b[1m788/788\u001b[0m \u001b[32m━━━━━━━━━━━━━━━━━━━━\u001b[0m\u001b[37m\u001b[0m \u001b[1m5s\u001b[0m 4ms/step - accuracy: 0.8431 - loss: 0.4664 - val_accuracy: 0.8528 - val_loss: 0.4489\n",
            "Epoch 3/20\n",
            "\u001b[1m788/788\u001b[0m \u001b[32m━━━━━━━━━━━━━━━━━━━━\u001b[0m\u001b[37m\u001b[0m \u001b[1m5s\u001b[0m 7ms/step - accuracy: 0.8572 - loss: 0.4260 - val_accuracy: 0.8571 - val_loss: 0.4326\n",
            "Epoch 4/20\n",
            "\u001b[1m788/788\u001b[0m \u001b[32m━━━━━━━━━━━━━━━━━━━━\u001b[0m\u001b[37m\u001b[0m \u001b[1m3s\u001b[0m 4ms/step - accuracy: 0.8667 - loss: 0.4044 - val_accuracy: 0.8631 - val_loss: 0.4193\n",
            "Epoch 5/20\n",
            "\u001b[1m788/788\u001b[0m \u001b[32m━━━━━━━━━━━━━━━━━━━━\u001b[0m\u001b[37m\u001b[0m \u001b[1m5s\u001b[0m 5ms/step - accuracy: 0.8719 - loss: 0.3903 - val_accuracy: 0.8621 - val_loss: 0.4275\n",
            "Epoch 6/20\n",
            "\u001b[1m788/788\u001b[0m \u001b[32m━━━━━━━━━━━━━━━━━━━━\u001b[0m\u001b[37m\u001b[0m \u001b[1m5s\u001b[0m 6ms/step - accuracy: 0.8772 - loss: 0.3813 - val_accuracy: 0.8658 - val_loss: 0.4093\n",
            "Epoch 7/20\n",
            "\u001b[1m788/788\u001b[0m \u001b[32m━━━━━━━━━━━━━━━━━━━━\u001b[0m\u001b[37m\u001b[0m \u001b[1m3s\u001b[0m 4ms/step - accuracy: 0.8777 - loss: 0.3728 - val_accuracy: 0.8676 - val_loss: 0.4033\n",
            "Epoch 8/20\n",
            "\u001b[1m788/788\u001b[0m \u001b[32m━━━━━━━━━━━━━━━━━━━━\u001b[0m\u001b[37m\u001b[0m \u001b[1m3s\u001b[0m 4ms/step - accuracy: 0.8793 - loss: 0.3681 - val_accuracy: 0.8637 - val_loss: 0.4146\n",
            "Epoch 9/20\n",
            "\u001b[1m788/788\u001b[0m \u001b[32m━━━━━━━━━━━━━━━━━━━━\u001b[0m\u001b[37m\u001b[0m \u001b[1m8s\u001b[0m 9ms/step - accuracy: 0.8822 - loss: 0.3631 - val_accuracy: 0.8687 - val_loss: 0.4057\n",
            "Epoch 10/20\n",
            "\u001b[1m788/788\u001b[0m \u001b[32m━━━━━━━━━━━━━━━━━━━━\u001b[0m\u001b[37m\u001b[0m \u001b[1m4s\u001b[0m 5ms/step - accuracy: 0.8825 - loss: 0.3571 - val_accuracy: 0.8665 - val_loss: 0.4150\n",
            "Epoch 11/20\n",
            "\u001b[1m788/788\u001b[0m \u001b[32m━━━━━━━━━━━━━━━━━━━━\u001b[0m\u001b[37m\u001b[0m \u001b[1m4s\u001b[0m 5ms/step - accuracy: 0.8868 - loss: 0.3504 - val_accuracy: 0.8684 - val_loss: 0.4183\n",
            "Epoch 12/20\n",
            "\u001b[1m788/788\u001b[0m \u001b[32m━━━━━━━━━━━━━━━━━━━━\u001b[0m\u001b[37m\u001b[0m \u001b[1m7s\u001b[0m 7ms/step - accuracy: 0.8893 - loss: 0.3505 - val_accuracy: 0.8729 - val_loss: 0.3955\n",
            "Epoch 13/20\n",
            "\u001b[1m788/788\u001b[0m \u001b[32m━━━━━━━━━━━━━━━━━━━━\u001b[0m\u001b[37m\u001b[0m \u001b[1m8s\u001b[0m 5ms/step - accuracy: 0.8900 - loss: 0.3450 - val_accuracy: 0.8756 - val_loss: 0.3944\n",
            "Epoch 14/20\n",
            "\u001b[1m788/788\u001b[0m \u001b[32m━━━━━━━━━━━━━━━━━━━━\u001b[0m\u001b[37m\u001b[0m \u001b[1m6s\u001b[0m 7ms/step - accuracy: 0.8910 - loss: 0.3448 - val_accuracy: 0.8635 - val_loss: 0.4424\n",
            "Epoch 15/20\n",
            "\u001b[1m788/788\u001b[0m \u001b[32m━━━━━━━━━━━━━━━━━━━━\u001b[0m\u001b[37m\u001b[0m \u001b[1m5s\u001b[0m 6ms/step - accuracy: 0.8923 - loss: 0.3410 - val_accuracy: 0.8723 - val_loss: 0.4061\n",
            "Epoch 16/20\n",
            "\u001b[1m788/788\u001b[0m \u001b[32m━━━━━━━━━━━━━━━━━━━━\u001b[0m\u001b[37m\u001b[0m \u001b[1m4s\u001b[0m 5ms/step - accuracy: 0.8935 - loss: 0.3380 - val_accuracy: 0.8685 - val_loss: 0.4323\n",
            "Epoch 17/20\n",
            "\u001b[1m788/788\u001b[0m \u001b[32m━━━━━━━━━━━━━━━━━━━━\u001b[0m\u001b[37m\u001b[0m \u001b[1m5s\u001b[0m 6ms/step - accuracy: 0.8934 - loss: 0.3345 - val_accuracy: 0.8721 - val_loss: 0.4174\n",
            "Epoch 18/20\n",
            "\u001b[1m788/788\u001b[0m \u001b[32m━━━━━━━━━━━━━━━━━━━━\u001b[0m\u001b[37m\u001b[0m \u001b[1m4s\u001b[0m 5ms/step - accuracy: 0.8950 - loss: 0.3350 - val_accuracy: 0.8747 - val_loss: 0.4103\n",
            "Epoch 19/20\n",
            "\u001b[1m788/788\u001b[0m \u001b[32m━━━━━━━━━━━━━━━━━━━━\u001b[0m\u001b[37m\u001b[0m \u001b[1m4s\u001b[0m 5ms/step - accuracy: 0.8964 - loss: 0.3340 - val_accuracy: 0.8733 - val_loss: 0.4229\n",
            "Epoch 20/20\n",
            "\u001b[1m788/788\u001b[0m \u001b[32m━━━━━━━━━━━━━━━━━━━━\u001b[0m\u001b[37m\u001b[0m \u001b[1m6s\u001b[0m 6ms/step - accuracy: 0.8975 - loss: 0.3304 - val_accuracy: 0.8690 - val_loss: 0.4294\n",
            "\u001b[1m394/394\u001b[0m \u001b[32m━━━━━━━━━━━━━━━━━━━━\u001b[0m\u001b[37m\u001b[0m \u001b[1m1s\u001b[0m 2ms/step - accuracy: 0.8730 - loss: 0.4071\n",
            "Validation Accuracy: 87.56%\n"
          ]
        }
      ]
    },
    {
      "cell_type": "code",
      "source": [
        "# Assuming baseline_hist is the history object returned by model.fit()\n",
        "display_training_progress(regularized_overfit_history.history)\n",
        "print_mean_metrics(regularized_overfit_history.history)"
      ],
      "metadata": {
        "colab": {
          "base_uri": "https://localhost:8080/",
          "height": 446
        },
        "id": "QT0V-JqU0IS3",
        "outputId": "797072f1-b7d9-45b9-82c9-7e50cf79f22a"
      },
      "execution_count": null,
      "outputs": [
        {
          "output_type": "display_data",
          "data": {
            "text/plain": [
              "<Figure size 1200x400 with 2 Axes>"
            ],
            "image/png": "[encoded data removed]"
          },
          "metadata": {}
        },
        {
          "output_type": "stream",
          "name": "stdout",
          "text": [
            "Mean Validation Accuracy: 0.865837299823761\n",
            "Mean Validation Loss: 0.42149508744478226\n"
          ]
        }
      ]
    },
    {
      "cell_type": "markdown",
      "source": [
        "### **Analysis of the Model's Performance**\n",
        "The training accuracy improves steadily, reaching approximately 89.75%.\n",
        "The validation accuracy hovers around 87.56%, with some fluctuations. This indicates that while the model is learning from the training data, its performance on unseen data (validation set) is not improving at the same rate. The gap between training and validation accuracy suggests that the model may be slightly overfitting, meaning it is learning patterns in the training data that do not generalize well to new data. The validation loss decreases initially but starts to fluctuate and eventually increases slightly. This is a common sign of overfitting, where the model becomes too complex and starts to memorize the training data instead of generalizing from it.\n",
        "\n",
        "\n",
        "### **Recommendations to Improve the model:**\n",
        "\n",
        "Reduce Dropout Layers: Since Dropout is intended to prevent overfitting, but too much regularization can also harm performance, try reducing or removing some Dropout layers and observe the effect.\n",
        "\n",
        "Increase L2 Regularization Strength: You might increase the L2 regularization parameter slightly to further penalize large weights and prevent overfitting. For example, you could try increasing the L2 parameter from 0.0001 to 0.001.\n",
        "\n",
        "Adjust Early Stopping Patience: If the model tends to overfit after a certain number of epochs, you could decrease the patience parameter in the EarlyStopping callback to stop training earlier, potentially avoiding overfitting.\n"
      ],
      "metadata": {
        "id": "oGBjc9MT1ePM"
      }
    },
    {
      "cell_type": "code",
      "source": [
        "from keras.regularizers import l2\n",
        "from keras.layers import Dropout\n",
        "\n",
        "early_stop_patience = 5\n",
        "\n",
        "early_stop_callback1 = EarlyStopping(\n",
        "    monitor=monitor_metric,\n",
        "    restore_best_weights=True,\n",
        "    patience=early_stop_patience,\n",
        "    verbose=0\n",
        ")\n",
        "\n",
        "# Define the model with additional layers, Dropout, and L2 regularization\n",
        "regularized_overfit_model = Sequential(name='regularized_overfit_model')\n",
        "\n",
        "# Add layers with L2 regularization and Dropout\n",
        "regularized_overfit_model.add(Flatten(input_shape=input_dim))\n",
        "regularized_overfit_model.add(Dense(128, activation='relu', kernel_regularizer=l2(0.0001)))\n",
        "regularized_overfit_model.add(Dropout(0.1))\n",
        "regularized_overfit_model.add(Dense(64, activation='relu', kernel_regularizer=l2(0.0001)))\n",
        "regularized_overfit_model.add(Dense(output_classes, activation='softmax'))\n",
        "\n",
        "regularized_overfit_model.summary()\n"
      ],
      "metadata": {
        "colab": {
          "base_uri": "https://localhost:8080/",
          "height": 298
        },
        "id": "H4e0ooLT1dfY",
        "outputId": "4e364885-4a8a-43f0-b200-2bc3f53f6b45"
      },
      "execution_count": null,
      "outputs": [
        {
          "output_type": "display_data",
          "data": {
            "text/plain": [
              "\u001b[1mModel: \"regularized_overfit_model\"\u001b[0m\n"
            ],
            "text/html": [
              "<pre style=\"white-space:pre;overflow-x:auto;line-height:normal;font-family:Menlo,'DejaVu Sans Mono',consolas,'Courier New',monospace\"><span style=\"font-weight: bold\">Model: \"regularized_overfit_model\"</span>\n",
              "</pre>\n"
            ]
          },
          "metadata": {}
        },
        {
          "output_type": "display_data",
          "data": {
            "text/plain": [
              "┏━━━━━━━━━━━━━━━━━━━━━━━━━━━━━━━━━━━━━━┳━━━━━━━━━━━━━━━━━━━━━━━━━━━━━┳━━━━━━━━━━━━━━━━━┓\n",
              "┃\u001b[1m \u001b[0m\u001b[1mLayer (type)                        \u001b[0m\u001b[1m \u001b[0m┃\u001b[1m \u001b[0m\u001b[1mOutput Shape               \u001b[0m\u001b[1m \u001b[0m┃\u001b[1m \u001b[0m\u001b[1m        Param #\u001b[0m\u001b[1m \u001b[0m┃\n",
              "┡━━━━━━━━━━━━━━━━━━━━━━━━━━━━━━━━━━━━━━╇━━━━━━━━━━━━━━━━━━━━━━━━━━━━━╇━━━━━━━━━━━━━━━━━┩\n",
              "│ flatten_28 (\u001b[38;5;33mFlatten\u001b[0m)                 │ (\u001b[38;5;45mNone\u001b[0m, \u001b[38;5;34m784\u001b[0m)                 │               \u001b[38;5;34m0\u001b[0m │\n",
              "├──────────────────────────────────────┼─────────────────────────────┼─────────────────┤\n",
              "│ dense_97 (\u001b[38;5;33mDense\u001b[0m)                     │ (\u001b[38;5;45mNone\u001b[0m, \u001b[38;5;34m128\u001b[0m)                 │         \u001b[38;5;34m100,480\u001b[0m │\n",
              "├──────────────────────────────────────┼─────────────────────────────┼─────────────────┤\n",
              "│ dropout_46 (\u001b[38;5;33mDropout\u001b[0m)                 │ (\u001b[38;5;45mNone\u001b[0m, \u001b[38;5;34m128\u001b[0m)                 │               \u001b[38;5;34m0\u001b[0m │\n",
              "├──────────────────────────────────────┼─────────────────────────────┼─────────────────┤\n",
              "│ dense_98 (\u001b[38;5;33mDense\u001b[0m)                     │ (\u001b[38;5;45mNone\u001b[0m, \u001b[38;5;34m64\u001b[0m)                  │           \u001b[38;5;34m8,256\u001b[0m │\n",
              "├──────────────────────────────────────┼─────────────────────────────┼─────────────────┤\n",
              "│ dense_99 (\u001b[38;5;33mDense\u001b[0m)                     │ (\u001b[38;5;45mNone\u001b[0m, \u001b[38;5;34m10\u001b[0m)                  │             \u001b[38;5;34m650\u001b[0m │\n",
              "└──────────────────────────────────────┴─────────────────────────────┴─────────────────┘\n"
            ],
            "text/html": [
              "<pre style=\"white-space:pre;overflow-x:auto;line-height:normal;font-family:Menlo,'DejaVu Sans Mono',consolas,'Courier New',monospace\">┏━━━━━━━━━━━━━━━━━━━━━━━━━━━━━━━━━━━━━━┳━━━━━━━━━━━━━━━━━━━━━━━━━━━━━┳━━━━━━━━━━━━━━━━━┓\n",
              "┃<span style=\"font-weight: bold\"> Layer (type)                         </span>┃<span style=\"font-weight: bold\"> Output Shape                </span>┃<span style=\"font-weight: bold\">         Param # </span>┃\n",
              "┡━━━━━━━━━━━━━━━━━━━━━━━━━━━━━━━━━━━━━━╇━━━━━━━━━━━━━━━━━━━━━━━━━━━━━╇━━━━━━━━━━━━━━━━━┩\n",
              "│ flatten_28 (<span style=\"color: #0087ff; text-decoration-color: #0087ff\">Flatten</span>)                 │ (<span style=\"color: #00d7ff; text-decoration-color: #00d7ff\">None</span>, <span style=\"color: #00af00; text-decoration-color: #00af00\">784</span>)                 │               <span style=\"color: #00af00; text-decoration-color: #00af00\">0</span> │\n",
              "├──────────────────────────────────────┼─────────────────────────────┼─────────────────┤\n",
              "│ dense_97 (<span style=\"color: #0087ff; text-decoration-color: #0087ff\">Dense</span>)                     │ (<span style=\"color: #00d7ff; text-decoration-color: #00d7ff\">None</span>, <span style=\"color: #00af00; text-decoration-color: #00af00\">128</span>)                 │         <span style=\"color: #00af00; text-decoration-color: #00af00\">100,480</span> │\n",
              "├──────────────────────────────────────┼─────────────────────────────┼─────────────────┤\n",
              "│ dropout_46 (<span style=\"color: #0087ff; text-decoration-color: #0087ff\">Dropout</span>)                 │ (<span style=\"color: #00d7ff; text-decoration-color: #00d7ff\">None</span>, <span style=\"color: #00af00; text-decoration-color: #00af00\">128</span>)                 │               <span style=\"color: #00af00; text-decoration-color: #00af00\">0</span> │\n",
              "├──────────────────────────────────────┼─────────────────────────────┼─────────────────┤\n",
              "│ dense_98 (<span style=\"color: #0087ff; text-decoration-color: #0087ff\">Dense</span>)                     │ (<span style=\"color: #00d7ff; text-decoration-color: #00d7ff\">None</span>, <span style=\"color: #00af00; text-decoration-color: #00af00\">64</span>)                  │           <span style=\"color: #00af00; text-decoration-color: #00af00\">8,256</span> │\n",
              "├──────────────────────────────────────┼─────────────────────────────┼─────────────────┤\n",
              "│ dense_99 (<span style=\"color: #0087ff; text-decoration-color: #0087ff\">Dense</span>)                     │ (<span style=\"color: #00d7ff; text-decoration-color: #00d7ff\">None</span>, <span style=\"color: #00af00; text-decoration-color: #00af00\">10</span>)                  │             <span style=\"color: #00af00; text-decoration-color: #00af00\">650</span> │\n",
              "└──────────────────────────────────────┴─────────────────────────────┴─────────────────┘\n",
              "</pre>\n"
            ]
          },
          "metadata": {}
        },
        {
          "output_type": "display_data",
          "data": {
            "text/plain": [
              "\u001b[1m Total params: \u001b[0m\u001b[38;5;34m109,386\u001b[0m (427.29 KB)\n"
            ],
            "text/html": [
              "<pre style=\"white-space:pre;overflow-x:auto;line-height:normal;font-family:Menlo,'DejaVu Sans Mono',consolas,'Courier New',monospace\"><span style=\"font-weight: bold\"> Total params: </span><span style=\"color: #00af00; text-decoration-color: #00af00\">109,386</span> (427.29 KB)\n",
              "</pre>\n"
            ]
          },
          "metadata": {}
        },
        {
          "output_type": "display_data",
          "data": {
            "text/plain": [
              "\u001b[1m Trainable params: \u001b[0m\u001b[38;5;34m109,386\u001b[0m (427.29 KB)\n"
            ],
            "text/html": [
              "<pre style=\"white-space:pre;overflow-x:auto;line-height:normal;font-family:Menlo,'DejaVu Sans Mono',consolas,'Courier New',monospace\"><span style=\"font-weight: bold\"> Trainable params: </span><span style=\"color: #00af00; text-decoration-color: #00af00\">109,386</span> (427.29 KB)\n",
              "</pre>\n"
            ]
          },
          "metadata": {}
        },
        {
          "output_type": "display_data",
          "data": {
            "text/plain": [
              "\u001b[1m Non-trainable params: \u001b[0m\u001b[38;5;34m0\u001b[0m (0.00 B)\n"
            ],
            "text/html": [
              "<pre style=\"white-space:pre;overflow-x:auto;line-height:normal;font-family:Menlo,'DejaVu Sans Mono',consolas,'Courier New',monospace\"><span style=\"font-weight: bold\"> Non-trainable params: </span><span style=\"color: #00af00; text-decoration-color: #00af00\">0</span> (0.00 B)\n",
              "</pre>\n"
            ]
          },
          "metadata": {}
        }
      ]
    },
    {
      "cell_type": "code",
      "source": [
        "# Compile the model\n",
        "regularized_overfit_model.compile(\n",
        "    optimizer=optimizer_choice,\n",
        "    loss=loss_function,\n",
        "    metrics=evaluation_metrics\n",
        ")\n",
        "\n",
        "# Train the model with regularization\n",
        "regularized_overfit_history = regularized_overfit_model.fit(\n",
        "    X_train, y_train_one_hot,\n",
        "    epochs=20,\n",
        "    batch_size=64,\n",
        "    validation_data=(X_valid, y_valid_one_hot),\n",
        "    callbacks=[early_stop_callback1]\n",
        ")\n",
        "\n",
        "# Evaluate the regularized model on the validation set\n",
        "validation_loss, validation_accuracy = regularized_overfit_model.evaluate(X_valid, y_valid_one_hot)\n",
        "\n",
        "print(f'Validation Accuracy: {validation_accuracy * 100:.2f}%')\n"
      ],
      "metadata": {
        "colab": {
          "base_uri": "https://localhost:8080/"
        },
        "id": "BcjwjR3Z2XV6",
        "outputId": "fc81bc72-d54f-4ad2-9309-5806b1667742"
      },
      "execution_count": null,
      "outputs": [
        {
          "output_type": "stream",
          "name": "stdout",
          "text": [
            "Epoch 1/20\n",
            "\u001b[1m788/788\u001b[0m \u001b[32m━━━━━━━━━━━━━━━━━━━━\u001b[0m\u001b[37m\u001b[0m \u001b[1m5s\u001b[0m 5ms/step - accuracy: 0.7412 - loss: 0.7700 - val_accuracy: 0.8406 - val_loss: 0.4774\n",
            "Epoch 2/20\n",
            "\u001b[1m788/788\u001b[0m \u001b[32m━━━━━━━━━━━━━━━━━━━━\u001b[0m\u001b[37m\u001b[0m \u001b[1m6s\u001b[0m 7ms/step - accuracy: 0.8484 - loss: 0.4524 - val_accuracy: 0.8540 - val_loss: 0.4350\n",
            "Epoch 3/20\n",
            "\u001b[1m788/788\u001b[0m \u001b[32m━━━━━━━━━━━━━━━━━━━━\u001b[0m\u001b[37m\u001b[0m \u001b[1m4s\u001b[0m 4ms/step - accuracy: 0.8614 - loss: 0.4077 - val_accuracy: 0.8513 - val_loss: 0.4524\n",
            "Epoch 4/20\n",
            "\u001b[1m788/788\u001b[0m \u001b[32m━━━━━━━━━━━━━━━━━━━━\u001b[0m\u001b[37m\u001b[0m \u001b[1m5s\u001b[0m 5ms/step - accuracy: 0.8716 - loss: 0.3852 - val_accuracy: 0.8548 - val_loss: 0.4459\n",
            "Epoch 5/20\n",
            "\u001b[1m788/788\u001b[0m \u001b[32m━━━━━━━━━━━━━━━━━━━━\u001b[0m\u001b[37m\u001b[0m \u001b[1m5s\u001b[0m 6ms/step - accuracy: 0.8778 - loss: 0.3713 - val_accuracy: 0.8655 - val_loss: 0.4114\n",
            "Epoch 6/20\n",
            "\u001b[1m788/788\u001b[0m \u001b[32m━━━━━━━━━━━━━━━━━━━━\u001b[0m\u001b[37m\u001b[0m \u001b[1m4s\u001b[0m 5ms/step - accuracy: 0.8800 - loss: 0.3614 - val_accuracy: 0.8678 - val_loss: 0.4018\n",
            "Epoch 7/20\n",
            "\u001b[1m788/788\u001b[0m \u001b[32m━━━━━━━━━━━━━━━━━━━━\u001b[0m\u001b[37m\u001b[0m \u001b[1m5s\u001b[0m 5ms/step - accuracy: 0.8833 - loss: 0.3525 - val_accuracy: 0.8665 - val_loss: 0.4123\n",
            "Epoch 8/20\n",
            "\u001b[1m788/788\u001b[0m \u001b[32m━━━━━━━━━━━━━━━━━━━━\u001b[0m\u001b[37m\u001b[0m \u001b[1m5s\u001b[0m 5ms/step - accuracy: 0.8879 - loss: 0.3449 - val_accuracy: 0.8648 - val_loss: 0.4191\n",
            "Epoch 9/20\n",
            "\u001b[1m788/788\u001b[0m \u001b[32m━━━━━━━━━━━━━━━━━━━━\u001b[0m\u001b[37m\u001b[0m \u001b[1m4s\u001b[0m 4ms/step - accuracy: 0.8893 - loss: 0.3420 - val_accuracy: 0.8679 - val_loss: 0.4276\n",
            "Epoch 10/20\n",
            "\u001b[1m788/788\u001b[0m \u001b[32m━━━━━━━━━━━━━━━━━━━━\u001b[0m\u001b[37m\u001b[0m \u001b[1m4s\u001b[0m 5ms/step - accuracy: 0.8927 - loss: 0.3343 - val_accuracy: 0.8651 - val_loss: 0.4259\n",
            "Epoch 11/20\n",
            "\u001b[1m788/788\u001b[0m \u001b[32m━━━━━━━━━━━━━━━━━━━━\u001b[0m\u001b[37m\u001b[0m \u001b[1m5s\u001b[0m 5ms/step - accuracy: 0.8940 - loss: 0.3312 - val_accuracy: 0.8739 - val_loss: 0.4034\n",
            "\u001b[1m394/394\u001b[0m \u001b[32m━━━━━━━━━━━━━━━━━━━━\u001b[0m\u001b[37m\u001b[0m \u001b[1m1s\u001b[0m 2ms/step - accuracy: 0.8666 - loss: 0.4173\n",
            "Validation Accuracy: 86.78%\n"
          ]
        }
      ]
    },
    {
      "cell_type": "code",
      "source": [
        "# Assuming baseline_hist is the history object returned by model.fit()\n",
        "display_training_progress(regularized_overfit_history.history)\n",
        "print_mean_metrics(regularized_overfit_history.history)"
      ],
      "metadata": {
        "colab": {
          "base_uri": "https://localhost:8080/",
          "height": 446
        },
        "id": "S-MZs3rO2hIt",
        "outputId": "e7e14258-e135-4910-cce0-bf227d8e059b"
      },
      "execution_count": null,
      "outputs": [
        {
          "output_type": "display_data",
          "data": {
            "text/plain": [
              "<Figure size 1200x400 with 2 Axes>"
            ],
            "image/png": "[encoded data removed]"
          },
          "metadata": {}
        },
        {
          "output_type": "stream",
          "name": "stdout",
          "text": [
            "Mean Validation Accuracy: 0.8611183274875988\n",
            "Mean Validation Loss: 0.4283754121173512\n"
          ]
        }
      ]
    },
    {
      "cell_type": "markdown",
      "source": [
        "### **Analysis of the Model's Performance**\n",
        "The training accuracy improves steadily, reaching approximately 89.40%.\n",
        "The validation accuracy is around 86.78%, indicating that the model is performing reasonably well on unseen data, but there's still a noticeable gap between the training and validation accuracy, which could indicate mild overfitting. The validation loss fluctuates but shows signs of increasing slightly after initial improvements. This suggests that while the model is learning, it might be starting to overfit as training progresses. The slight gap between training accuracy and validation accuracy. The fluctuation and eventual increase in validation loss after several epochs.\n"
      ],
      "metadata": {
        "id": "l7q3U5B7ESmA"
      }
    },
    {
      "cell_type": "markdown",
      "source": [
        "**2. Reducing Epochs:**\n",
        "\n",
        "The base_model achieves the highest validation accuracy (88.18%) compared to other more complex models. This indicates better generalization to unseen data.\n",
        "With fewer layers and parameters, the base_model is less prone to overfitting and requires less computational power. This simplicity often leads to faster convergence, meaning it can reach optimal performance in fewer epochs. The base_model strikes a good balance between model complexity and performance, ensuring that you don't spend unnecessary epochs training a model that doesn't provide significant benefits over a simpler architecture.\n",
        "\n"
      ],
      "metadata": {
        "id": "F7gFJrQzrLPY"
      }
    },
    {
      "cell_type": "markdown",
      "source": [
        "Step 1: Leverage Early Stopping\n",
        "\n",
        "Use EarlyStopping callback to monitor the validation loss and stop training when it stops improving. This will help you avoid unnecessary epochs where the model is no longer learning new patterns."
      ],
      "metadata": {
        "id": "mj3ij3WEHO24"
      }
    },
    {
      "cell_type": "code",
      "source": [
        "from keras.callbacks import EarlyStopping\n",
        "\n",
        "early_stop_callback = EarlyStopping(\n",
        "    monitor='val_loss',\n",
        "    patience=3,  # Stop if no improvement after 3 epochs\n",
        "    restore_best_weights=True,  # Restore the best weights when stopping\n",
        "    verbose=1\n",
        ")\n"
      ],
      "metadata": {
        "id": "ans6fxUwHWAJ"
      },
      "execution_count": null,
      "outputs": []
    },
    {
      "cell_type": "markdown",
      "source": [
        "Step 2: Optimize Batch Size\n",
        "\n",
        "Experiment with larger batch sizes. Larger batch sizes can speed up training by processing more data at once, potentially reducing the number of epochs needed to achieve good performance."
      ],
      "metadata": {
        "id": "s_yBQWAyH6jW"
      }
    },
    {
      "cell_type": "code",
      "source": [
        "\n",
        "\n",
        "base_model.compile(\n",
        "    optimizer='rmsprop',\n",
        "    loss='categorical_crossentropy',\n",
        "    metrics=['accuracy']\n",
        ")\n",
        "\n",
        "# Train the model with optimized settings\n",
        "reduced_epoch_history1 = base_model.fit(\n",
        "    X_train, y_train_one_hot,\n",
        "    epochs=20,  # Initial high epoch count, but early stopping will reduce it\n",
        "    batch_size=128,  # Increase batch size\n",
        "    validation_data=(X_valid, y_valid_one_hot),\n",
        "    callbacks=[early_stop_callback]\n",
        ")\n",
        "\n",
        "# Evaluate the model\n",
        "validation_loss, validation_accuracy = base_model.evaluate(X_valid, y_valid_one_hot)\n",
        "print(f'Validation Accuracy: {validation_accuracy * 100:.2f}%')\n",
        "\n"
      ],
      "metadata": {
        "colab": {
          "base_uri": "https://localhost:8080/"
        },
        "id": "B5EN24nbHzvc",
        "outputId": "9fdb766b-cbc0-4743-c900-2df952c09ffa"
      },
      "execution_count": null,
      "outputs": [
        {
          "output_type": "stream",
          "name": "stdout",
          "text": [
            "Epoch 1/20\n",
            "\u001b[1m394/394\u001b[0m \u001b[32m━━━━━━━━━━━━━━━━━━━━\u001b[0m\u001b[37m\u001b[0m \u001b[1m3s\u001b[0m 5ms/step - accuracy: 0.9088 - loss: 0.2492 - val_accuracy: 0.8743 - val_loss: 0.3717\n",
            "Epoch 2/20\n",
            "\u001b[1m394/394\u001b[0m \u001b[32m━━━━━━━━━━━━━━━━━━━━\u001b[0m\u001b[37m\u001b[0m \u001b[1m2s\u001b[0m 5ms/step - accuracy: 0.9145 - loss: 0.2355 - val_accuracy: 0.8753 - val_loss: 0.3716\n",
            "Epoch 3/20\n",
            "\u001b[1m394/394\u001b[0m \u001b[32m━━━━━━━━━━━━━━━━━━━━\u001b[0m\u001b[37m\u001b[0m \u001b[1m2s\u001b[0m 5ms/step - accuracy: 0.9168 - loss: 0.2276 - val_accuracy: 0.8762 - val_loss: 0.3751\n",
            "Epoch 4/20\n",
            "\u001b[1m394/394\u001b[0m \u001b[32m━━━━━━━━━━━━━━━━━━━━\u001b[0m\u001b[37m\u001b[0m \u001b[1m3s\u001b[0m 8ms/step - accuracy: 0.9205 - loss: 0.2210 - val_accuracy: 0.8763 - val_loss: 0.3769\n",
            "Epoch 5/20\n",
            "\u001b[1m394/394\u001b[0m \u001b[32m━━━━━━━━━━━━━━━━━━━━\u001b[0m\u001b[37m\u001b[0m \u001b[1m2s\u001b[0m 6ms/step - accuracy: 0.9221 - loss: 0.2143 - val_accuracy: 0.8766 - val_loss: 0.3797\n",
            "Epoch 5: early stopping\n",
            "Restoring model weights from the end of the best epoch: 2.\n",
            "\u001b[1m394/394\u001b[0m \u001b[32m━━━━━━━━━━━━━━━━━━━━\u001b[0m\u001b[37m\u001b[0m \u001b[1m1s\u001b[0m 2ms/step - accuracy: 0.8712 - loss: 0.3897\n",
            "Validation Accuracy: 87.53%\n"
          ]
        }
      ]
    },
    {
      "cell_type": "code",
      "source": [
        "# Assuming baseline_hist is the history object returned by model.fit()\n",
        "display_training_progress(reduced_epoch_history1.history)\n",
        "print_mean_metrics(reduced_epoch_history1.history)"
      ],
      "metadata": {
        "colab": {
          "base_uri": "https://localhost:8080/",
          "height": 446
        },
        "id": "tTMex5kYWjNS",
        "outputId": "5c7f1273-4e0b-41b3-edd6-9bf114aa5a81"
      },
      "execution_count": null,
      "outputs": [
        {
          "output_type": "display_data",
          "data": {
            "text/plain": [
              "<Figure size 1200x400 with 2 Axes>"
            ],
            "image/png": "[encoded data removed]"
          },
          "metadata": {}
        },
        {
          "output_type": "stream",
          "name": "stdout",
          "text": [
            "Mean Validation Accuracy: 0.8757460355758667\n",
            "Mean Validation Loss: 0.37501387000083924\n"
          ]
        }
      ]
    },
    {
      "cell_type": "markdown",
      "source": [
        "### **Analysis of the Model's Performance**\n",
        "\n",
        "Overfitting: The increase in validation loss while training loss decreases and the relatively flat or decreasing validation accuracy are classic indicators of overfitting. The model is becoming too tailored to the training data and losing its ability to generalize to new, unseen data.\n",
        "\n",
        "Early Stopping: The early stopping mechanism was triggered after 4 epochs, which is a good sign that the model stopped before overfitting became too severe. However, the validation accuracy achieved is slightly lower than desired.\n",
        "\n",
        "\n",
        "\n",
        "### **Recommendations to Improve the model:**\n",
        "\n",
        "1) Batch Size Adjustment:\n",
        "Larger Batch Sizes: You are already using a batch size of 128, which is reasonable. You could experiment with even larger batch sizes if your hardware allows, as this can lead to more stable gradient updates and potentially better generalization.\n",
        "\n",
        "\n",
        "2) Model Complexity:\n",
        "Given that the base model is relatively simple, consider experimenting with a slightly more complex architecture. For example, adding another dense layer or increasing the number of neurons in existing layers could provide the model with more capacity to learn patterns without overfitting, especially when combined with regularization techniques.\n",
        "\n",
        "\n"
      ],
      "metadata": {
        "id": "b9oj34RDQQwg"
      }
    },
    {
      "cell_type": "code",
      "source": [
        "from keras.regularizers import l2\n",
        "from keras.layers import Dropout\n",
        "\n",
        "# Construct the model using Sequential API\n",
        "complex_model = Sequential(name='complex_model')\n",
        "\n",
        "# Add layers to the model\n",
        "complex_model.add(Flatten(input_shape=input_dim))\n",
        "complex_model.add(Dense(256, activation='relu', kernel_regularizer=l2(0.0001)))  # Increase neurons and add L2 regularization\n",
        "complex_model.add(Dropout(0.2))  # Add Dropout layer to prevent overfitting\n",
        "complex_model.add(Dense(128, activation='relu', kernel_regularizer=l2(0.0001)))\n",
        "complex_model.add(Dropout(0.2))  # Another Dropout layer\n",
        "complex_model.add(Dense(64, activation='relu', kernel_regularizer=l2(0.0001)))  # Adding an additional Dense layer\n",
        "complex_model.add(Dense(output_classes, activation='softmax'))\n",
        "\n",
        "# Compile the model\n",
        "complex_model.compile(\n",
        "    optimizer='rmsprop',\n",
        "    loss='categorical_crossentropy',\n",
        "    metrics=['accuracy']\n",
        ")\n",
        "\n",
        "# Train the model\n",
        "complex_model_history = complex_model.fit(\n",
        "    X_train, y_train_one_hot,\n",
        "    epochs=20,\n",
        "    batch_size=256,  # You can start with the same or larger batch size as before\n",
        "    validation_data=(X_valid, y_valid_one_hot),\n",
        "    callbacks=[early_stop_callback]\n",
        ")\n",
        "\n",
        "# Evaluate the model on the validation set\n",
        "validation_loss, validation_accuracy = complex_model.evaluate(X_valid, y_valid_one_hot)\n",
        "print(f'Validation Accuracy: {validation_accuracy * 100:.2f}%')\n"
      ],
      "metadata": {
        "colab": {
          "base_uri": "https://localhost:8080/"
        },
        "id": "_WaqwZnRQwGE",
        "outputId": "084a8597-d727-461c-8e95-02bea264d5fd"
      },
      "execution_count": null,
      "outputs": [
        {
          "output_type": "stream",
          "name": "stdout",
          "text": [
            "Epoch 1/20\n",
            "\u001b[1m197/197\u001b[0m \u001b[32m━━━━━━━━━━━━━━━━━━━━\u001b[0m\u001b[37m\u001b[0m \u001b[1m4s\u001b[0m 15ms/step - accuracy: 0.6440 - loss: 1.0656 - val_accuracy: 0.7904 - val_loss: 0.6200\n",
            "Epoch 2/20\n",
            "\u001b[1m197/197\u001b[0m \u001b[32m━━━━━━━━━━━━━━━━━━━━\u001b[0m\u001b[37m\u001b[0m \u001b[1m7s\u001b[0m 23ms/step - accuracy: 0.8209 - loss: 0.5638 - val_accuracy: 0.8269 - val_loss: 0.5357\n",
            "Epoch 3/20\n",
            "\u001b[1m197/197\u001b[0m \u001b[32m━━━━━━━━━━━━━━━━━━━━\u001b[0m\u001b[37m\u001b[0m \u001b[1m3s\u001b[0m 14ms/step - accuracy: 0.8446 - loss: 0.4964 - val_accuracy: 0.8467 - val_loss: 0.4774\n",
            "Epoch 3: early stopping\n",
            "Restoring model weights from the end of the best epoch: 1.\n",
            "\u001b[1m394/394\u001b[0m \u001b[32m━━━━━━━━━━━━━━━━━━━━\u001b[0m\u001b[37m\u001b[0m \u001b[1m1s\u001b[0m 3ms/step - accuracy: 0.7891 - loss: 0.6277\n",
            "Validation Accuracy: 79.04%\n"
          ]
        }
      ]
    },
    {
      "cell_type": "code",
      "source": [
        "# Assuming baseline_hist is the history object returned by model.fit()\n",
        "display_training_progress(complex_model_history.history)\n",
        "print_mean_metrics(complex_model_history.history)"
      ],
      "metadata": {
        "colab": {
          "base_uri": "https://localhost:8080/",
          "height": 446
        },
        "id": "_gkHcXe_SRH8",
        "outputId": "e22ec5b3-88b2-45fd-d516-1b10cecf3a0b"
      },
      "execution_count": null,
      "outputs": [
        {
          "output_type": "display_data",
          "data": {
            "text/plain": [
              "<Figure size 1200x400 with 2 Axes>"
            ],
            "image/png": "[encoded data removed]"
          },
          "metadata": {}
        },
        {
          "output_type": "stream",
          "name": "stdout",
          "text": [
            "Mean Validation Accuracy: 0.8213492035865784\n",
            "Mean Validation Loss: 0.5443694094816843\n"
          ]
        }
      ]
    },
    {
      "cell_type": "markdown",
      "source": [
        "### **Analysis of the Model's Performance**\n",
        "\n",
        "Model Performance:\n",
        "The model's validation accuracy reached 82.40% after the first epoch, which is a decent performance but not as high as desired. The model was learning quickly, but after the first epoch, the validation accuracy plateaued and didn't improve much in the second epoch.\n",
        "Overfitting or Underfitting:\n",
        "\n",
        "Underfitting:\n",
        "The model might be underfitting the data since the validation accuracy was relatively low, and the validation loss didn't improve significantly. Despite using dropout layers and L2 regularization to combat overfitting, it seems that the model's capacity might be insufficient to capture the complexity of the data, or the model might need more epochs to learn effectively.\n",
        "Complexity and Regularization:\n",
        "\n",
        "Model Complexity:\n",
        "The model is slightly more complex than your baseline model, with additional layers and neurons. However, the early stopping mechanism suggests that the model stopped learning effectively after the first epoch.\n",
        "Regularization: The L2 regularization and dropout layers you added help prevent overfitting but might have been too aggressive, reducing the model's ability to learn complex patterns effectively."
      ],
      "metadata": {
        "id": "5EKKiqPSSuSO"
      }
    },
    {
      "cell_type": "markdown",
      "source": [
        "### **Recommendations to Improve the model:**\n",
        "\n",
        "Increase patience: Increasing the patience parameter in the EarlyStopping callback (e.g., from 2 to 3 or 4) can give the model more time to improve.\n",
        "\n",
        "Adjust Regularization:\n",
        "Reduce the strength of L2 regularization slightly to allow the model to fit better. Reduce the regularization parameter from l2(0.0001) to l2(0.00005) or remove one of the dropout layers.\n",
        "\n",
        "Increase Model Capacity:\n",
        "If the model is underfitting, consider adding more layers or increasing the number of neurons in the existing layers. Try adding another dense layer with 128 or 256 neurons.\n",
        "\n",
        "\n",
        "Experiment with Batch Size:\n",
        "Experiment with a smaller batch size (e.g., 128 or 64) instead of 256, which could lead to better generalization and more stable training."
      ],
      "metadata": {
        "id": "MgnIy72JQfGu"
      }
    },
    {
      "cell_type": "code",
      "source": [
        "# Modify regularization strength and patience\n",
        "early_stop_callback = EarlyStopping(\n",
        "    monitor='val_loss',\n",
        "    patience=4,  # Increase patience to allow more epochs\n",
        "    restore_best_weights=True,\n",
        "    verbose=1\n",
        ")\n",
        "\n",
        "# Reduce L2 regularization and adjust model layers\n",
        "complex_model = Sequential(name='complex_model_v2')\n",
        "\n",
        "complex_model.add(Flatten(input_shape=input_dim))\n",
        "complex_model.add(Dense(256, activation='relu', kernel_regularizer=l2(0.00005)))  # Reduced L2 regularization\n",
        "complex_model.add(Dropout(0.2))  # Keep Dropout\n",
        "complex_model.add(Dense(128, activation='relu', kernel_regularizer=l2(0.00005)))\n",
        "complex_model.add(Dropout(0.2))  # Keep Dropout\n",
        "complex_model.add(Dense(64, activation='relu'))  # Keep the additional layer\n",
        "complex_model.add(Dense(output_classes, activation='softmax'))\n",
        "\n",
        "# Compile the model with a potentially reduced learning rate\n",
        "complex_model.compile(\n",
        "    optimizer=tf.keras.optimizers.RMSprop(learning_rate=0.0005),  # Lowered learning rate\n",
        "    loss='categorical_crossentropy',\n",
        "    metrics=['accuracy']\n",
        ")\n",
        "\n",
        "# Train the model with the same batch size and slightly increased patience\n",
        "complex_model_history = complex_model.fit(\n",
        "    X_train, y_train_one_hot,\n",
        "    epochs=20,\n",
        "    batch_size=64,  # smaller batch size for potential better generalization\n",
        "    validation_data=(X_valid, y_valid_one_hot),\n",
        "    callbacks=[early_stop_callback]  # Consider using lr_scheduler_callback as well\n",
        ")\n",
        "\n",
        "# Evaluate the modified model\n",
        "validation_loss, validation_accuracy = complex_model.evaluate(X_valid, y_valid_one_hot)\n",
        "print(f'Validation Accuracy: {validation_accuracy * 100:.2f}%')\n"
      ],
      "metadata": {
        "colab": {
          "base_uri": "https://localhost:8080/"
        },
        "id": "zQA8964SD03R",
        "outputId": "66f21bb3-e4ae-4d7f-eb34-64ed9fd1d09b"
      },
      "execution_count": null,
      "outputs": [
        {
          "output_type": "stream",
          "name": "stdout",
          "text": [
            "Epoch 1/20\n",
            "\u001b[1m788/788\u001b[0m \u001b[32m━━━━━━━━━━━━━━━━━━━━\u001b[0m\u001b[37m\u001b[0m \u001b[1m10s\u001b[0m 10ms/step - accuracy: 0.7088 - loss: 0.8696 - val_accuracy: 0.8367 - val_loss: 0.4783\n",
            "Epoch 2/20\n",
            "\u001b[1m788/788\u001b[0m \u001b[32m━━━━━━━━━━━━━━━━━━━━\u001b[0m\u001b[37m\u001b[0m \u001b[1m6s\u001b[0m 8ms/step - accuracy: 0.8397 - loss: 0.4748 - val_accuracy: 0.8501 - val_loss: 0.4439\n",
            "Epoch 3/20\n",
            "\u001b[1m788/788\u001b[0m \u001b[32m━━━━━━━━━━━━━━━━━━━━\u001b[0m\u001b[37m\u001b[0m \u001b[1m8s\u001b[0m 10ms/step - accuracy: 0.8560 - loss: 0.4249 - val_accuracy: 0.8529 - val_loss: 0.4448\n",
            "Epoch 4/20\n",
            "\u001b[1m788/788\u001b[0m \u001b[32m━━━━━━━━━━━━━━━━━━━━\u001b[0m\u001b[37m\u001b[0m \u001b[1m8s\u001b[0m 8ms/step - accuracy: 0.8663 - loss: 0.3961 - val_accuracy: 0.8667 - val_loss: 0.4072\n",
            "Epoch 5/20\n",
            "\u001b[1m788/788\u001b[0m \u001b[32m━━━━━━━━━━━━━━━━━━━━\u001b[0m\u001b[37m\u001b[0m \u001b[1m10s\u001b[0m 7ms/step - accuracy: 0.8725 - loss: 0.3755 - val_accuracy: 0.8644 - val_loss: 0.4105\n",
            "Epoch 6/20\n",
            "\u001b[1m788/788\u001b[0m \u001b[32m━━━━━━━━━━━━━━━━━━━━\u001b[0m\u001b[37m\u001b[0m \u001b[1m11s\u001b[0m 8ms/step - accuracy: 0.8790 - loss: 0.3646 - val_accuracy: 0.8650 - val_loss: 0.4062\n",
            "Epoch 7/20\n",
            "\u001b[1m788/788\u001b[0m \u001b[32m━━━━━━━━━━━━━━━━━━━━\u001b[0m\u001b[37m\u001b[0m \u001b[1m12s\u001b[0m 10ms/step - accuracy: 0.8829 - loss: 0.3538 - val_accuracy: 0.8701 - val_loss: 0.4029\n",
            "Epoch 8/20\n",
            "\u001b[1m788/788\u001b[0m \u001b[32m━━━━━━━━━━━━━━━━━━━━\u001b[0m\u001b[37m\u001b[0m \u001b[1m10s\u001b[0m 9ms/step - accuracy: 0.8873 - loss: 0.3474 - val_accuracy: 0.8743 - val_loss: 0.3928\n",
            "Epoch 9/20\n",
            "\u001b[1m788/788\u001b[0m \u001b[32m━━━━━━━━━━━━━━━━━━━━\u001b[0m\u001b[37m\u001b[0m \u001b[1m9s\u001b[0m 8ms/step - accuracy: 0.8903 - loss: 0.3354 - val_accuracy: 0.8728 - val_loss: 0.3994\n",
            "Epoch 10/20\n",
            "\u001b[1m788/788\u001b[0m \u001b[32m━━━━━━━━━━━━━━━━━━━━\u001b[0m\u001b[37m\u001b[0m \u001b[1m10s\u001b[0m 8ms/step - accuracy: 0.8881 - loss: 0.3335 - val_accuracy: 0.8811 - val_loss: 0.3845\n",
            "Epoch 11/20\n",
            "\u001b[1m788/788\u001b[0m \u001b[32m━━━━━━━━━━━━━━━━━━━━\u001b[0m\u001b[37m\u001b[0m \u001b[1m7s\u001b[0m 9ms/step - accuracy: 0.8930 - loss: 0.3241 - val_accuracy: 0.8798 - val_loss: 0.3834\n",
            "Epoch 12/20\n",
            "\u001b[1m788/788\u001b[0m \u001b[32m━━━━━━━━━━━━━━━━━━━━\u001b[0m\u001b[37m\u001b[0m \u001b[1m6s\u001b[0m 7ms/step - accuracy: 0.8962 - loss: 0.3195 - val_accuracy: 0.8701 - val_loss: 0.4072\n",
            "Epoch 13/20\n",
            "\u001b[1m788/788\u001b[0m \u001b[32m━━━━━━━━━━━━━━━━━━━━\u001b[0m\u001b[37m\u001b[0m \u001b[1m7s\u001b[0m 9ms/step - accuracy: 0.8957 - loss: 0.3157 - val_accuracy: 0.8818 - val_loss: 0.3749\n",
            "Epoch 14/20\n",
            "\u001b[1m788/788\u001b[0m \u001b[32m━━━━━━━━━━━━━━━━━━━━\u001b[0m\u001b[37m\u001b[0m \u001b[1m9s\u001b[0m 7ms/step - accuracy: 0.8962 - loss: 0.3122 - val_accuracy: 0.8838 - val_loss: 0.3798\n",
            "Epoch 15/20\n",
            "\u001b[1m788/788\u001b[0m \u001b[32m━━━━━━━━━━━━━━━━━━━━\u001b[0m\u001b[37m\u001b[0m \u001b[1m8s\u001b[0m 10ms/step - accuracy: 0.8982 - loss: 0.3112 - val_accuracy: 0.8787 - val_loss: 0.3943\n",
            "Epoch 16/20\n",
            "\u001b[1m788/788\u001b[0m \u001b[32m━━━━━━━━━━━━━━━━━━━━\u001b[0m\u001b[37m\u001b[0m \u001b[1m9s\u001b[0m 8ms/step - accuracy: 0.9010 - loss: 0.3032 - val_accuracy: 0.8764 - val_loss: 0.3934\n",
            "Epoch 17/20\n",
            "\u001b[1m788/788\u001b[0m \u001b[32m━━━━━━━━━━━━━━━━━━━━\u001b[0m\u001b[37m\u001b[0m \u001b[1m10s\u001b[0m 8ms/step - accuracy: 0.9028 - loss: 0.3039 - val_accuracy: 0.8848 - val_loss: 0.3830\n",
            "Epoch 17: early stopping\n",
            "Restoring model weights from the end of the best epoch: 13.\n",
            "\u001b[1m394/394\u001b[0m \u001b[32m━━━━━━━━━━━━━━━━━━━━\u001b[0m\u001b[37m\u001b[0m \u001b[1m1s\u001b[0m 2ms/step - accuracy: 0.8787 - loss: 0.3877\n",
            "Validation Accuracy: 88.18%\n"
          ]
        }
      ]
    },
    {
      "cell_type": "code",
      "source": [
        "display_training_progress(complex_model_history.history)\n",
        "print_mean_metrics(complex_model_history.history)"
      ],
      "metadata": {
        "colab": {
          "base_uri": "https://localhost:8080/",
          "height": 446
        },
        "id": "VyJCE3wtD4qv",
        "outputId": "983415be-131b-406d-8c32-bbd17b7f1d9a"
      },
      "execution_count": null,
      "outputs": [
        {
          "output_type": "display_data",
          "data": {
            "text/plain": [
              "<Figure size 1200x400 with 2 Axes>"
            ],
            "image/png": "[encoded data removed]"
          },
          "metadata": {}
        },
        {
          "output_type": "stream",
          "name": "stdout",
          "text": [
            "Mean Validation Accuracy: 0.8699673168799457\n",
            "Mean Validation Loss: 0.40509188175201416\n"
          ]
        }
      ]
    },
    {
      "cell_type": "markdown",
      "source": [
        "### **10**. **Conclusion**\n",
        "\n",
        "In this project, we embarked on a comprehensive exploration to develop and optimize neural network architectures tailored for the Fashion MNIST dataset. Our primary objective was to create a robust model capable of accurately classifying fashion images while maintaining a balance between performance and generalization. The process involved systematically experimenting with various model configurations, including layer complexity, neuron count, regularization techniques, and training strategies, to avoid overfitting and achieve optimal performance.\n",
        "\n",
        "**Findings:**\n",
        "\n",
        "**Baseline Model:**\n",
        "Our journey began with a baseline model, a simple neural network featuring one hidden layer of 128 neurons. This model achieved a validation accuracy of 87.35%, providing a solid foundation for further exploration. The baseline model demonstrated reasonable generalization without significant overfitting, serving as a reference point for subsequent model enhancements.\n",
        "\n",
        "**Overfitting Experimentation:**\n",
        "To understand the effects of overfitting, we experimented by increasing the model's complexity, adding more layers and neurons. As expected, while the training accuracy improved significantly, the validation accuracy plateaued and eventually declined, highlighting the overfitting problem. The overfitted model reached a validation accuracy of 81.21%, which was notably lower than the baseline, emphasizing the need for effective regularization.\n",
        "\n",
        "**Regularization Techniques:**\n",
        "To address overfitting, we incorporated regularization techniques such as Dropout layers and L2 regularization. These methods helped in controlling overfitting, with the regularized model achieving a validation accuracy of 87.56%. However, the challenge lay in finding the right balance between regularization strength and model capacity. Too much regularization risked underfitting, while too little led to overfitting.\n",
        "\n",
        "**Final Model:**\n",
        "The most balanced performance was observed in a model with reduced epochs, early stopping, and a batch size of 128. By implementing early stopping, we effectively prevented the model from overfitting by halting training when the validation loss stopped improving. This approach led to a validation accuracy of 87.53%, slightly higher than our baseline model, indicating that early stopping, combined with a well-calibrated model, can enhance generalization without unnecessary training.\n",
        "\n",
        "**Best Performing Model:**\n",
        "The model that emerged as the best performer was a version that incorporated L2 regularization, Dropout layers, and a learning rate scheduler. This model reached a validation accuracy of 88.18%, demonstrating a strong balance between complexity and performance. The strategic use of regularization and early stopping, along with a carefully chosen batch size, allowed the model to generalize well, achieving the highest accuracy without overfitting.\n",
        "\n",
        "**In Summary:**\n",
        "This project successfully developed a neural network model that performs exceptionally well on the Fashion MNIST dataset. Through systematic exploration and experimentation with various architectures and regularization techniques, we identified the most effective strategy for this task. The insights gained from this project provide a solid foundation for future work, where further refinements and advanced techniques could push model performance even further."
      ],
      "metadata": {
        "id": "x-j7a7zAid5z"
      }
    },
    {
      "cell_type": "code",
      "source": [],
      "metadata": {
        "id": "3FcqUlTbidIu"
      },
      "execution_count": null,
      "outputs": []
    }
  ]
}
